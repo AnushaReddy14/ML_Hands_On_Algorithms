{
 "cells": [
  {
   "cell_type": "markdown",
   "id": "37cca56c-d653-4497-bda9-caf246c54c40",
   "metadata": {},
   "source": [
    "# Reference\n",
    "\n",
    "## https://scikit-learn.org/stable/modules/classes.html#module-sklearn.naive_bayes"
   ]
  },
  {
   "cell_type": "markdown",
   "id": "8b52a89e",
   "metadata": {
    "id": "8b52a89e"
   },
   "source": [
    "---\n",
    "#**Introduction To Machine Learning**\n",
    "##**Supervised Learning (= classification):**\n",
    "\n",
    "*   k-Nearest Neighbor (kNN)\n",
    "*   **naive Bayesian (NB)**\n",
    "*   Decision Tree (DT)\n",
    "*   Support Vector Machine (SVM)\n",
    "---"
   ]
  },
  {
   "cell_type": "markdown",
   "id": "78e61ec3",
   "metadata": {
    "id": "78e61ec3"
   },
   "source": [
    "Bayes theorem provides a way of calculating the posterior probability, P(c|x), from P(c), P(x), and P(x|c). Naive Bayes classifier assumes that the effect of the value of a predictor (x) on a given class *c* is independent of the values of other predictors. This assumption is called class conditional independence.\n",
    "![Naive Bayes Equation](https://miro.medium.com/max/954/1*2SnqzKlKD9DC5qL8C4HaQQ.png)"
   ]
  },
  {
   "cell_type": "markdown",
   "id": "74d19895",
   "metadata": {
    "id": "74d19895"
   },
   "source": [
    "## <font color = #950CDF> Part 1: </font> <font color = #4854E8> Information of Dataset </font>\n",
    "<b>Breast Cancer Wisconsin (Diagnostic) Data Set:</b> Features are computed from a digitized image of a fine needle aspirate (FNA) of a breast mass. They describe characteristics of the cell nuclei present in the image. This data set is originally from the University of Wisconsin CS department at ftp ftp.cs.wisc.edu > cd math-prog/cpo-dataset/machine-learn/WDBC/. But I found it in the University of California Urvine Machine Learning Depository at the link below. The first column is a unique Id, the second column is a binary variable ‘M’ for malignant and ‘B’ for benign. Then there are 30 independent variables which are all different measurements of cell nucleus size and shape.\n",
    "\n",
    "https://archive.ics.uci.edu/ml/datasets/Breast+Cancer+Wisconsin+%28Diagnostic%29"
   ]
  },
  {
   "cell_type": "markdown",
   "id": "3b93b807",
   "metadata": {},
   "source": [
    "# Anusha, Yarrasani\n",
    "# Sam Id: 000932535"
   ]
  },
  {
   "cell_type": "markdown",
   "id": "ac504ade",
   "metadata": {
    "id": "ac504ade"
   },
   "source": [
    "### <font color = #27C3E5> 1.1: </font> <font color = #41EA46> Import Libraries and Dataset </font>"
   ]
  },
  {
   "cell_type": "markdown",
   "id": "25664f12",
   "metadata": {
    "id": "25664f12"
   },
   "source": [
    "#### <font color = blue>Import the Libraries"
   ]
  },
  {
   "cell_type": "code",
   "execution_count": 305,
   "id": "b918c2ae",
   "metadata": {
    "id": "b918c2ae",
    "tags": []
   },
   "outputs": [],
   "source": [
    "import numpy as np\n",
    "import pandas as pd\n",
    "import seaborn as sns\n",
    "import matplotlib.pyplot as plt\n",
    "from sklearn.model_selection import train_test_split\n",
    "from sklearn.preprocessing import LabelEncoder, StandardScaler\n",
    "from sklearn.metrics import confusion_matrix\n",
    "from sklearn.metrics import accuracy_score, precision_score, recall_score, f1_score, mean_absolute_error, roc_auc_score"
   ]
  },
  {
   "cell_type": "markdown",
   "id": "c7a2a874",
   "metadata": {
    "id": "c7a2a874"
   },
   "source": [
    "#### <font color = blue>Import the Dataset"
   ]
  },
  {
   "cell_type": "code",
   "execution_count": 306,
   "id": "4101e5fc",
   "metadata": {},
   "outputs": [
    {
     "name": "stdout",
     "output_type": "stream",
     "text": [
      "     sepal_length  sepal_width  petal_length  petal_width  species\n",
      "0             5.1          3.5           1.4          0.2        0\n",
      "1             4.9          3.0           1.4          0.2        0\n",
      "2             4.7          3.2           1.3          0.2        0\n",
      "3             4.6          3.1           1.5          0.2        0\n",
      "4             5.0          3.6           1.4          0.2        0\n",
      "5             5.4          3.9           1.7          0.4        0\n",
      "6             4.6          3.4           1.4          0.3        0\n",
      "7             5.0          3.4           1.5          0.2        0\n",
      "8             4.4          2.9           1.4          0.2        0\n",
      "9             4.9          3.1           1.5          0.1        0\n",
      "10            5.4          3.7           1.5          0.2        0\n",
      "11            4.8          3.4           1.6          0.2        0\n",
      "12            4.8          3.0           1.4          0.1        0\n",
      "13            4.3          3.0           1.1          0.1        0\n",
      "14            5.8          4.0           1.2          0.2        0\n",
      "15            5.7          4.4           1.5          0.4        0\n",
      "16            5.4          3.9           1.3          0.4        0\n",
      "17            5.1          3.5           1.4          0.3        0\n",
      "18            5.7          3.8           1.7          0.3        0\n",
      "19            5.1          3.8           1.5          0.3        0\n",
      "20            5.4          3.4           1.7          0.2        0\n",
      "21            5.1          3.7           1.5          0.4        0\n",
      "22            4.6          3.6           1.0          0.2        0\n",
      "23            5.1          3.3           1.7          0.5        0\n",
      "24            4.8          3.4           1.9          0.2        0\n",
      "25            5.0          3.0           1.6          0.2        0\n",
      "26            5.0          3.4           1.6          0.4        0\n",
      "27            5.2          3.5           1.5          0.2        0\n",
      "28            5.2          3.4           1.4          0.2        0\n",
      "29            4.7          3.2           1.6          0.2        0\n",
      "30            4.8          3.1           1.6          0.2        0\n",
      "31            5.4          3.4           1.5          0.4        0\n",
      "32            5.2          4.1           1.5          0.1        0\n",
      "33            5.5          4.2           1.4          0.2        0\n",
      "34            4.9          3.1           1.5          0.2        0\n",
      "35            5.0          3.2           1.2          0.2        0\n",
      "36            5.5          3.5           1.3          0.2        0\n",
      "37            4.9          3.6           1.4          0.1        0\n",
      "38            4.4          3.0           1.3          0.2        0\n",
      "39            5.1          3.4           1.5          0.2        0\n",
      "40            5.0          3.5           1.3          0.3        0\n",
      "41            4.5          2.3           1.3          0.3        0\n",
      "42            4.4          3.2           1.3          0.2        0\n",
      "43            5.0          3.5           1.6          0.6        0\n",
      "44            5.1          3.8           1.9          0.4        0\n",
      "45            4.8          3.0           1.4          0.3        0\n",
      "46            5.1          3.8           1.6          0.2        0\n",
      "47            4.6          3.2           1.4          0.2        0\n",
      "48            5.3          3.7           1.5          0.2        0\n",
      "49            5.0          3.3           1.4          0.2        0\n",
      "50            7.0          3.2           4.7          1.4        1\n",
      "51            6.4          3.2           4.5          1.5        1\n",
      "52            6.9          3.1           4.9          1.5        1\n",
      "53            5.5          2.3           4.0          1.3        1\n",
      "54            6.5          2.8           4.6          1.5        1\n",
      "55            5.7          2.8           4.5          1.3        1\n",
      "56            6.3          3.3           4.7          1.6        1\n",
      "57            4.9          2.4           3.3          1.0        1\n",
      "58            6.6          2.9           4.6          1.3        1\n",
      "59            5.2          2.7           3.9          1.4        1\n",
      "60            5.0          2.0           3.5          1.0        1\n",
      "61            5.9          3.0           4.2          1.5        1\n",
      "62            6.0          2.2           4.0          1.0        1\n",
      "63            6.1          2.9           4.7          1.4        1\n",
      "64            5.6          2.9           3.6          1.3        1\n",
      "65            6.7          3.1           4.4          1.4        1\n",
      "66            5.6          3.0           4.5          1.5        1\n",
      "67            5.8          2.7           4.1          1.0        1\n",
      "68            6.2          2.2           4.5          1.5        1\n",
      "69            5.6          2.5           3.9          1.1        1\n",
      "70            5.9          3.2           4.8          1.8        1\n",
      "71            6.1          2.8           4.0          1.3        1\n",
      "72            6.3          2.5           4.9          1.5        1\n",
      "73            6.1          2.8           4.7          1.2        1\n",
      "74            6.4          2.9           4.3          1.3        1\n",
      "75            6.6          3.0           4.4          1.4        1\n",
      "76            6.8          2.8           4.8          1.4        1\n",
      "77            6.7          3.0           5.0          1.7        1\n",
      "78            6.0          2.9           4.5          1.5        1\n",
      "79            5.7          2.6           3.5          1.0        1\n",
      "80            5.5          2.4           3.8          1.1        1\n",
      "81            5.5          2.4           3.7          1.0        1\n",
      "82            5.8          2.7           3.9          1.2        1\n",
      "83            6.0          2.7           5.1          1.6        1\n",
      "84            5.4          3.0           4.5          1.5        1\n",
      "85            6.0          3.4           4.5          1.6        1\n",
      "86            6.7          3.1           4.7          1.5        1\n",
      "87            6.3          2.3           4.4          1.3        1\n",
      "88            5.6          3.0           4.1          1.3        1\n",
      "89            5.5          2.5           4.0          1.3        1\n",
      "90            5.5          2.6           4.4          1.2        1\n",
      "91            6.1          3.0           4.6          1.4        1\n",
      "92            5.8          2.6           4.0          1.2        1\n",
      "93            5.0          2.3           3.3          1.0        1\n",
      "94            5.6          2.7           4.2          1.3        1\n",
      "95            5.7          3.0           4.2          1.2        1\n",
      "96            5.7          2.9           4.2          1.3        1\n",
      "97            6.2          2.9           4.3          1.3        1\n",
      "98            5.1          2.5           3.0          1.1        1\n",
      "99            5.7          2.8           4.1          1.3        1\n",
      "100           6.3          3.3           6.0          2.5        2\n",
      "101           5.8          2.7           5.1          1.9        2\n",
      "102           7.1          3.0           5.9          2.1        2\n",
      "103           6.3          2.9           5.6          1.8        2\n",
      "104           6.5          3.0           5.8          2.2        2\n",
      "105           7.6          3.0           6.6          2.1        2\n",
      "106           4.9          2.5           4.5          1.7        2\n",
      "107           7.3          2.9           6.3          1.8        2\n",
      "108           6.7          2.5           5.8          1.8        2\n",
      "109           7.2          3.6           6.1          2.5        2\n",
      "110           6.5          3.2           5.1          2.0        2\n",
      "111           6.4          2.7           5.3          1.9        2\n",
      "112           6.8          3.0           5.5          2.1        2\n",
      "113           5.7          2.5           5.0          2.0        2\n",
      "114           5.8          2.8           5.1          2.4        2\n",
      "115           6.4          3.2           5.3          2.3        2\n",
      "116           6.5          3.0           5.5          1.8        2\n",
      "117           7.7          3.8           6.7          2.2        2\n",
      "118           7.7          2.6           6.9          2.3        2\n",
      "119           6.0          2.2           5.0          1.5        2\n",
      "120           6.9          3.2           5.7          2.3        2\n",
      "121           5.6          2.8           4.9          2.0        2\n",
      "122           7.7          2.8           6.7          2.0        2\n",
      "123           6.3          2.7           4.9          1.8        2\n",
      "124           6.7          3.3           5.7          2.1        2\n",
      "125           7.2          3.2           6.0          1.8        2\n",
      "126           6.2          2.8           4.8          1.8        2\n",
      "127           6.1          3.0           4.9          1.8        2\n",
      "128           6.4          2.8           5.6          2.1        2\n",
      "129           7.2          3.0           5.8          1.6        2\n",
      "130           7.4          2.8           6.1          1.9        2\n",
      "131           7.9          3.8           6.4          2.0        2\n",
      "132           6.4          2.8           5.6          2.2        2\n",
      "133           6.3          2.8           5.1          1.5        2\n",
      "134           6.1          2.6           5.6          1.4        2\n",
      "135           7.7          3.0           6.1          2.3        2\n",
      "136           6.3          3.4           5.6          2.4        2\n",
      "137           6.4          3.1           5.5          1.8        2\n",
      "138           6.0          3.0           4.8          1.8        2\n",
      "139           6.9          3.1           5.4          2.1        2\n",
      "140           6.7          3.1           5.6          2.4        2\n",
      "141           6.9          3.1           5.1          2.3        2\n",
      "142           5.8          2.7           5.1          1.9        2\n",
      "143           6.8          3.2           5.9          2.3        2\n",
      "144           6.7          3.3           5.7          2.5        2\n",
      "145           6.7          3.0           5.2          2.3        2\n",
      "146           6.3          2.5           5.0          1.9        2\n",
      "147           6.5          3.0           5.2          2.0        2\n",
      "148           6.2          3.4           5.4          2.3        2\n",
      "149           5.9          3.0           5.1          1.8        2\n"
     ]
    }
   ],
   "source": [
    "import pandas as pd\n",
    "from sklearn.preprocessing import LabelEncoder\n",
    "\n",
    "iris = pd.read_csv('iris.csv')  \n",
    "\n",
    "label_encoder = LabelEncoder()\n",
    "\n",
    "iris['species'] = label_encoder.fit_transform(iris['species'])\n",
    "\n",
    "print(iris)\n",
    "\n",
    "iris.to_csv('iris_categorical.csv', index=False)"
   ]
  },
  {
   "cell_type": "code",
   "execution_count": 307,
   "id": "1905b545",
   "metadata": {
    "id": "1905b545",
    "outputId": "c3ee1f2f-9c4a-415c-c153-dcae8ce4d3d8",
    "tags": []
   },
   "outputs": [
    {
     "data": {
      "text/html": [
       "<div>\n",
       "<style scoped>\n",
       "    .dataframe tbody tr th:only-of-type {\n",
       "        vertical-align: middle;\n",
       "    }\n",
       "\n",
       "    .dataframe tbody tr th {\n",
       "        vertical-align: top;\n",
       "    }\n",
       "\n",
       "    .dataframe thead th {\n",
       "        text-align: right;\n",
       "    }\n",
       "</style>\n",
       "<table border=\"1\" class=\"dataframe\">\n",
       "  <thead>\n",
       "    <tr style=\"text-align: right;\">\n",
       "      <th></th>\n",
       "      <th>sepal_length</th>\n",
       "      <th>sepal_width</th>\n",
       "      <th>petal_length</th>\n",
       "      <th>petal_width</th>\n",
       "      <th>species</th>\n",
       "    </tr>\n",
       "  </thead>\n",
       "  <tbody>\n",
       "    <tr>\n",
       "      <th>147</th>\n",
       "      <td>6.5</td>\n",
       "      <td>3.0</td>\n",
       "      <td>5.2</td>\n",
       "      <td>2.0</td>\n",
       "      <td>2</td>\n",
       "    </tr>\n",
       "    <tr>\n",
       "      <th>148</th>\n",
       "      <td>6.2</td>\n",
       "      <td>3.4</td>\n",
       "      <td>5.4</td>\n",
       "      <td>2.3</td>\n",
       "      <td>2</td>\n",
       "    </tr>\n",
       "    <tr>\n",
       "      <th>149</th>\n",
       "      <td>5.9</td>\n",
       "      <td>3.0</td>\n",
       "      <td>5.1</td>\n",
       "      <td>1.8</td>\n",
       "      <td>2</td>\n",
       "    </tr>\n",
       "  </tbody>\n",
       "</table>\n",
       "</div>"
      ],
      "text/plain": [
       "     sepal_length  sepal_width  petal_length  petal_width  species\n",
       "147           6.5          3.0           5.2          2.0        2\n",
       "148           6.2          3.4           5.4          2.3        2\n",
       "149           5.9          3.0           5.1          1.8        2"
      ]
     },
     "execution_count": 307,
     "metadata": {},
     "output_type": "execute_result"
    }
   ],
   "source": [
    "df = pd.read_csv(\"iris_categorical.csv\")\n",
    "df = df.iloc[:, 0:5]\n",
    "df.tail(3)"
   ]
  },
  {
   "cell_type": "markdown",
   "id": "4c91e443",
   "metadata": {
    "id": "4c91e443"
   },
   "source": [
    "### <font color = #27C3E5> 1.2: </font> <font color = #41EA46> Data Information and Visualization </font>"
   ]
  },
  {
   "cell_type": "markdown",
   "id": "87d6fdbd",
   "metadata": {
    "id": "87d6fdbd"
   },
   "source": [
    "#### <font color = blue> View all Rows and Cols"
   ]
  },
  {
   "cell_type": "code",
   "execution_count": 308,
   "id": "1062ca8d",
   "metadata": {
    "id": "1062ca8d",
    "tags": []
   },
   "outputs": [],
   "source": [
    "pd.set_option('display.max_columns', None)\n",
    "pd.set_option('display.max_rows', None)"
   ]
  },
  {
   "cell_type": "markdown",
   "id": "a1a5c020",
   "metadata": {
    "id": "a1a5c020"
   },
   "source": [
    "#### <font color = blue> Data Information"
   ]
  },
  {
   "cell_type": "code",
   "execution_count": 309,
   "id": "a89d8c48",
   "metadata": {
    "id": "a89d8c48",
    "outputId": "9a86e2f1-a217-4e78-a0e5-98dfba75dc14",
    "tags": []
   },
   "outputs": [
    {
     "name": "stdout",
     "output_type": "stream",
     "text": [
      "<class 'pandas.core.frame.DataFrame'>\n",
      "RangeIndex: 150 entries, 0 to 149\n",
      "Data columns (total 5 columns):\n",
      " #   Column        Non-Null Count  Dtype  \n",
      "---  ------        --------------  -----  \n",
      " 0   sepal_length  150 non-null    float64\n",
      " 1   sepal_width   150 non-null    float64\n",
      " 2   petal_length  150 non-null    float64\n",
      " 3   petal_width   150 non-null    float64\n",
      " 4   species       150 non-null    int64  \n",
      "dtypes: float64(4), int64(1)\n",
      "memory usage: 6.0 KB\n"
     ]
    }
   ],
   "source": [
    "df.info()"
   ]
  },
  {
   "cell_type": "markdown",
   "id": "cb93274f",
   "metadata": {
    "id": "cb93274f"
   },
   "source": [
    "#### <font color = blue> Visualize Target Class Label Distributiuon"
   ]
  },
  {
   "cell_type": "code",
   "execution_count": 310,
   "id": "7425b893",
   "metadata": {
    "id": "7425b893",
    "outputId": "55f138ac-0838-4b8b-8b01-a411a516a6f1",
    "tags": []
   },
   "outputs": [
    {
     "data": {
      "image/png": "[encoded data removed]",
      "text/plain": [
       "<Figure size 640x480 with 1 Axes>"
      ]
     },
     "metadata": {},
     "output_type": "display_data"
    }
   ],
   "source": [
    "class_labels = ['setosa', 'versicolor', 'virginica']\n",
    "\n",
    "# Replace the integer labels with string labels\n",
    "df['species'] = df['species'].replace([0, 1, 2], class_labels)\n",
    "\n",
    "# Count the occurrences of each class\n",
    "class_counts = df['species'].value_counts()\n",
    "class_labels = class_counts.index\n",
    "colors = ['red', 'green', 'blue']\n",
    "\n",
    "# Create the pie chart\n",
    "plt.pie(class_counts, labels=class_labels, colors=colors, shadow=True, autopct='%1.1f%%', startangle=90)\n",
    "\n",
    "plt.tight_layout()\n",
    "plt.show()"
   ]
  },
  {
   "cell_type": "markdown",
   "id": "8f783775",
   "metadata": {
    "id": "8f783775"
   },
   "source": [
    "![Machine Learning Project](https://user-images.githubusercontent.com/7065401/52071927-c1cd7100-2562-11e9-908a-dde91ba14e59.png)"
   ]
  },
  {
   "cell_type": "markdown",
   "id": "98cbd36e",
   "metadata": {
    "id": "98cbd36e"
   },
   "source": [
    "## <font color = #950CDF> Part 2: </font> <font color = #4854E8> Data Preprocessing </font>"
   ]
  },
  {
   "cell_type": "markdown",
   "id": "587b0744",
   "metadata": {
    "id": "587b0744"
   },
   "source": [
    "### <font color = #27C3E5> 2.1: </font> <font color = #41EA46> Define Predictor and Target Attributes </font>"
   ]
  },
  {
   "cell_type": "code",
   "execution_count": 311,
   "id": "dd6a0493",
   "metadata": {
    "id": "dd6a0493",
    "tags": []
   },
   "outputs": [],
   "source": [
    "X = df.iloc[:, 0:5]\n",
    "Y = df.iloc[:, 0]"
   ]
  },
  {
   "cell_type": "markdown",
   "id": "508ac7fb",
   "metadata": {
    "id": "508ac7fb"
   },
   "source": [
    "#### <font color = blue> Predictor Attributes"
   ]
  },
  {
   "cell_type": "code",
   "execution_count": 312,
   "id": "91a41097",
   "metadata": {
    "id": "91a41097",
    "outputId": "2381e812-19c4-40b4-c5e0-8c9eded39af3",
    "tags": []
   },
   "outputs": [
    {
     "data": {
      "text/html": [
       "<div>\n",
       "<style scoped>\n",
       "    .dataframe tbody tr th:only-of-type {\n",
       "        vertical-align: middle;\n",
       "    }\n",
       "\n",
       "    .dataframe tbody tr th {\n",
       "        vertical-align: top;\n",
       "    }\n",
       "\n",
       "    .dataframe thead th {\n",
       "        text-align: right;\n",
       "    }\n",
       "</style>\n",
       "<table border=\"1\" class=\"dataframe\">\n",
       "  <thead>\n",
       "    <tr style=\"text-align: right;\">\n",
       "      <th></th>\n",
       "      <th>sepal_length</th>\n",
       "      <th>sepal_width</th>\n",
       "      <th>petal_length</th>\n",
       "      <th>petal_width</th>\n",
       "      <th>species</th>\n",
       "    </tr>\n",
       "  </thead>\n",
       "  <tbody>\n",
       "    <tr>\n",
       "      <th>146</th>\n",
       "      <td>6.3</td>\n",
       "      <td>2.5</td>\n",
       "      <td>5.0</td>\n",
       "      <td>1.9</td>\n",
       "      <td>virginica</td>\n",
       "    </tr>\n",
       "    <tr>\n",
       "      <th>147</th>\n",
       "      <td>6.5</td>\n",
       "      <td>3.0</td>\n",
       "      <td>5.2</td>\n",
       "      <td>2.0</td>\n",
       "      <td>virginica</td>\n",
       "    </tr>\n",
       "    <tr>\n",
       "      <th>148</th>\n",
       "      <td>6.2</td>\n",
       "      <td>3.4</td>\n",
       "      <td>5.4</td>\n",
       "      <td>2.3</td>\n",
       "      <td>virginica</td>\n",
       "    </tr>\n",
       "    <tr>\n",
       "      <th>149</th>\n",
       "      <td>5.9</td>\n",
       "      <td>3.0</td>\n",
       "      <td>5.1</td>\n",
       "      <td>1.8</td>\n",
       "      <td>virginica</td>\n",
       "    </tr>\n",
       "  </tbody>\n",
       "</table>\n",
       "</div>"
      ],
      "text/plain": [
       "     sepal_length  sepal_width  petal_length  petal_width    species\n",
       "146           6.3          2.5           5.0          1.9  virginica\n",
       "147           6.5          3.0           5.2          2.0  virginica\n",
       "148           6.2          3.4           5.4          2.3  virginica\n",
       "149           5.9          3.0           5.1          1.8  virginica"
      ]
     },
     "execution_count": 312,
     "metadata": {},
     "output_type": "execute_result"
    }
   ],
   "source": [
    "X.tail(4)"
   ]
  },
  {
   "cell_type": "markdown",
   "id": "91aa304c",
   "metadata": {
    "id": "91aa304c"
   },
   "source": [
    "#### <font color = blue> Target Attribute"
   ]
  },
  {
   "cell_type": "code",
   "execution_count": 313,
   "id": "81a9b72f",
   "metadata": {
    "id": "81a9b72f",
    "outputId": "df7702e0-2342-4f59-a76a-a1c1699ceef7",
    "tags": []
   },
   "outputs": [
    {
     "data": {
      "text/plain": [
       "147    6.5\n",
       "148    6.2\n",
       "149    5.9\n",
       "Name: sepal_length, dtype: float64"
      ]
     },
     "execution_count": 313,
     "metadata": {},
     "output_type": "execute_result"
    }
   ],
   "source": [
    "Y.tail(3)"
   ]
  },
  {
   "cell_type": "markdown",
   "id": "94d84a29",
   "metadata": {
    "id": "94d84a29"
   },
   "source": [
    "### <font color = #27C3E5> 2.2: </font> <font color = #41EA46> Split the Data into Training and Testing </font>"
   ]
  },
  {
   "cell_type": "code",
   "execution_count": 314,
   "id": "a4cd62b0",
   "metadata": {
    "id": "a4cd62b0",
    "tags": []
   },
   "outputs": [],
   "source": [
    "X_train, X_test, Y_train, Y_test = train_test_split(\n",
    "                                                    X, \n",
    "                                                    Y,\n",
    "                                                    test_size=0.2,\n",
    "                                                    random_state=0)"
   ]
  },
  {
   "cell_type": "markdown",
   "id": "7e7c28ac",
   "metadata": {
    "id": "7e7c28ac"
   },
   "source": [
    "#### <font color = blue> Training Data"
   ]
  },
  {
   "cell_type": "code",
   "execution_count": 315,
   "id": "b2a40dd2",
   "metadata": {
    "id": "b2a40dd2",
    "outputId": "23c0a2dd-2ff4-4464-a304-3974e22090b3",
    "tags": []
   },
   "outputs": [
    {
     "name": "stdout",
     "output_type": "stream",
     "text": [
      "X_train (120, 5)\n",
      "Y_train (120,)\n"
     ]
    }
   ],
   "source": [
    "print(\"X_train\", X_train.shape)\n",
    "print(\"Y_train\", Y_train.shape)"
   ]
  },
  {
   "cell_type": "markdown",
   "id": "fdf9a312",
   "metadata": {
    "id": "fdf9a312"
   },
   "source": [
    "#### <font color = blue> Testing Data"
   ]
  },
  {
   "cell_type": "code",
   "execution_count": 316,
   "id": "b17b88b9",
   "metadata": {
    "id": "b17b88b9",
    "outputId": "485c414d-30c6-48ca-98d4-3999eddc724b",
    "tags": []
   },
   "outputs": [
    {
     "name": "stdout",
     "output_type": "stream",
     "text": [
      "X_test (30, 5)\n",
      "X_test (30,)\n"
     ]
    }
   ],
   "source": [
    "print(\"X_test\", X_test.shape)\n",
    "print(\"X_test\", Y_test.shape)"
   ]
  },
  {
   "cell_type": "markdown",
   "id": "90d4d2d4",
   "metadata": {
    "id": "90d4d2d4"
   },
   "source": [
    "### <font color = #27C3E5> 2.3: </font> <font color = #41EA46> Check Missing Value </font>"
   ]
  },
  {
   "cell_type": "code",
   "execution_count": 317,
   "id": "2380e956",
   "metadata": {
    "id": "2380e956",
    "outputId": "0d1c5137-7623-4f24-c0ef-3d9c766d7cc0",
    "tags": []
   },
   "outputs": [
    {
     "data": {
      "text/plain": [
       "sepal_length    0\n",
       "sepal_width     0\n",
       "petal_length    0\n",
       "petal_width     0\n",
       "species         0\n",
       "dtype: int64"
      ]
     },
     "execution_count": 317,
     "metadata": {},
     "output_type": "execute_result"
    }
   ],
   "source": [
    "df.isnull().sum()"
   ]
  },
  {
   "cell_type": "markdown",
   "id": "1cbd5197",
   "metadata": {
    "id": "1cbd5197"
   },
   "source": [
    "### <font color = #27C3E5> 2.4: </font> <font color = #41EA46> Feature Selection - With Correlation </font>"
   ]
  },
  {
   "cell_type": "markdown",
   "id": "130b2efa",
   "metadata": {
    "id": "130b2efa"
   },
   "source": [
    "#### <font color = blue> Correlation"
   ]
  },
  {
   "cell_type": "code",
   "execution_count": 318,
   "id": "6d2e137d",
   "metadata": {
    "id": "6d2e137d",
    "outputId": "a0753d34-dffd-4c70-a72a-d36c57341be8",
    "tags": []
   },
   "outputs": [
    {
     "data": {
      "text/html": [
       "<div>\n",
       "<style scoped>\n",
       "    .dataframe tbody tr th:only-of-type {\n",
       "        vertical-align: middle;\n",
       "    }\n",
       "\n",
       "    .dataframe tbody tr th {\n",
       "        vertical-align: top;\n",
       "    }\n",
       "\n",
       "    .dataframe thead th {\n",
       "        text-align: right;\n",
       "    }\n",
       "</style>\n",
       "<table border=\"1\" class=\"dataframe\">\n",
       "  <thead>\n",
       "    <tr style=\"text-align: right;\">\n",
       "      <th></th>\n",
       "      <th>sepal_length</th>\n",
       "      <th>sepal_width</th>\n",
       "      <th>petal_length</th>\n",
       "      <th>petal_width</th>\n",
       "    </tr>\n",
       "  </thead>\n",
       "  <tbody>\n",
       "    <tr>\n",
       "      <th>sepal_length</th>\n",
       "      <td>1.000000</td>\n",
       "      <td>-0.060566</td>\n",
       "      <td>0.875775</td>\n",
       "      <td>0.828151</td>\n",
       "    </tr>\n",
       "    <tr>\n",
       "      <th>sepal_width</th>\n",
       "      <td>-0.060566</td>\n",
       "      <td>1.000000</td>\n",
       "      <td>-0.377609</td>\n",
       "      <td>-0.325782</td>\n",
       "    </tr>\n",
       "    <tr>\n",
       "      <th>petal_length</th>\n",
       "      <td>0.875775</td>\n",
       "      <td>-0.377609</td>\n",
       "      <td>1.000000</td>\n",
       "      <td>0.968194</td>\n",
       "    </tr>\n",
       "    <tr>\n",
       "      <th>petal_width</th>\n",
       "      <td>0.828151</td>\n",
       "      <td>-0.325782</td>\n",
       "      <td>0.968194</td>\n",
       "      <td>1.000000</td>\n",
       "    </tr>\n",
       "  </tbody>\n",
       "</table>\n",
       "</div>"
      ],
      "text/plain": [
       "              sepal_length  sepal_width  petal_length  petal_width\n",
       "sepal_length      1.000000    -0.060566      0.875775     0.828151\n",
       "sepal_width      -0.060566     1.000000     -0.377609    -0.325782\n",
       "petal_length      0.875775    -0.377609      1.000000     0.968194\n",
       "petal_width       0.828151    -0.325782      0.968194     1.000000"
      ]
     },
     "execution_count": 318,
     "metadata": {},
     "output_type": "execute_result"
    }
   ],
   "source": [
    "corr = X_train.corr()\n",
    "corr"
   ]
  },
  {
   "cell_type": "markdown",
   "id": "f07f1efa",
   "metadata": {
    "id": "f07f1efa"
   },
   "source": [
    "#### <font color = blue> Visualize the Correlation"
   ]
  },
  {
   "cell_type": "code",
   "execution_count": 319,
   "id": "d6e494fa",
   "metadata": {
    "id": "d6e494fa",
    "outputId": "6077dfca-e169-4687-9e1c-5ee59771125f",
    "tags": []
   },
   "outputs": [
    {
     "data": {
      "text/plain": [
       "<AxesSubplot:>"
      ]
     },
     "execution_count": 319,
     "metadata": {},
     "output_type": "execute_result"
    },
    {
     "data": {
      "image/png": "[encoded data removed]",
      "text/plain": [
       "<Figure size 2000x900 with 2 Axes>"
      ]
     },
     "metadata": {},
     "output_type": "display_data"
    }
   ],
   "source": [
    "plt.figure(figsize = (20, 9))\n",
    "matrix = np.triu(corr)        # take lower correlation matrix\n",
    "sns.heatmap(corr, mask = matrix, annot = True, linewidth = 1.5)"
   ]
  },
  {
   "cell_type": "markdown",
   "id": "9a3b08dd",
   "metadata": {
    "id": "9a3b08dd"
   },
   "source": [
    "#### <font color = blue> Remove Features (higest corr)"
   ]
  },
  {
   "cell_type": "code",
   "execution_count": 320,
   "id": "9082eb62",
   "metadata": {
    "id": "9082eb62",
    "tags": []
   },
   "outputs": [],
   "source": [
    "# with the following function we can select highly correlated features\n",
    "# it will remove the first feature that is correlated with anything other feature\n",
    "\n",
    "def correlation(dataset, threshold):\n",
    "    col_corr = set()  # Set of all the names of correlated columns\n",
    "    corr_matrix = dataset.corr()\n",
    "    for i in range(len(corr_matrix.columns)):\n",
    "        for j in range(i):\n",
    "            if abs(corr_matrix.iloc[i, j]) > threshold: # we are interested in absolute coeff value\n",
    "                colname = corr_matrix.columns[i]  # getting the name of column\n",
    "                col_corr.add(colname)\n",
    "    return col_corr"
   ]
  },
  {
   "cell_type": "code",
   "execution_count": 321,
   "id": "fdae6d26",
   "metadata": {
    "id": "fdae6d26",
    "outputId": "c93a03f0-5fbe-4a5f-ff38-763ad2d81c76",
    "tags": []
   },
   "outputs": [
    {
     "data": {
      "text/plain": [
       "2"
      ]
     },
     "execution_count": 321,
     "metadata": {},
     "output_type": "execute_result"
    }
   ],
   "source": [
    "corr_features = correlation(X, 0.7)\n",
    "len(set(corr_features))"
   ]
  },
  {
   "cell_type": "code",
   "execution_count": 322,
   "id": "4342d649",
   "metadata": {
    "id": "4342d649",
    "outputId": "ac433733-8e95-47e3-cb37-7633870db0c1",
    "tags": []
   },
   "outputs": [
    {
     "data": {
      "text/plain": [
       "{'petal_length', 'petal_width'}"
      ]
     },
     "execution_count": 322,
     "metadata": {},
     "output_type": "execute_result"
    }
   ],
   "source": [
    "corr_features"
   ]
  },
  {
   "cell_type": "code",
   "execution_count": 323,
   "id": "dd4765cf",
   "metadata": {
    "id": "dd4765cf",
    "tags": []
   },
   "outputs": [],
   "source": [
    "X_train = X_train.drop(corr_features,axis=1)\n",
    "X_test = X_test.drop(corr_features,axis=1)"
   ]
  },
  {
   "cell_type": "code",
   "execution_count": 324,
   "id": "d9f81d13",
   "metadata": {
    "id": "d9f81d13",
    "outputId": "37f8756d-a394-4b5a-f478-772f3bfe7c39",
    "tags": []
   },
   "outputs": [
    {
     "data": {
      "text/html": [
       "<div>\n",
       "<style scoped>\n",
       "    .dataframe tbody tr th:only-of-type {\n",
       "        vertical-align: middle;\n",
       "    }\n",
       "\n",
       "    .dataframe tbody tr th {\n",
       "        vertical-align: top;\n",
       "    }\n",
       "\n",
       "    .dataframe thead th {\n",
       "        text-align: right;\n",
       "    }\n",
       "</style>\n",
       "<table border=\"1\" class=\"dataframe\">\n",
       "  <thead>\n",
       "    <tr style=\"text-align: right;\">\n",
       "      <th></th>\n",
       "      <th>sepal_length</th>\n",
       "      <th>sepal_width</th>\n",
       "      <th>species</th>\n",
       "    </tr>\n",
       "  </thead>\n",
       "  <tbody>\n",
       "    <tr>\n",
       "      <th>137</th>\n",
       "      <td>6.4</td>\n",
       "      <td>3.1</td>\n",
       "      <td>virginica</td>\n",
       "    </tr>\n",
       "    <tr>\n",
       "      <th>84</th>\n",
       "      <td>5.4</td>\n",
       "      <td>3.0</td>\n",
       "      <td>versicolor</td>\n",
       "    </tr>\n",
       "    <tr>\n",
       "      <th>27</th>\n",
       "      <td>5.2</td>\n",
       "      <td>3.5</td>\n",
       "      <td>setosa</td>\n",
       "    </tr>\n",
       "    <tr>\n",
       "      <th>127</th>\n",
       "      <td>6.1</td>\n",
       "      <td>3.0</td>\n",
       "      <td>virginica</td>\n",
       "    </tr>\n",
       "    <tr>\n",
       "      <th>132</th>\n",
       "      <td>6.4</td>\n",
       "      <td>2.8</td>\n",
       "      <td>virginica</td>\n",
       "    </tr>\n",
       "  </tbody>\n",
       "</table>\n",
       "</div>"
      ],
      "text/plain": [
       "     sepal_length  sepal_width     species\n",
       "137           6.4          3.1   virginica\n",
       "84            5.4          3.0  versicolor\n",
       "27            5.2          3.5      setosa\n",
       "127           6.1          3.0   virginica\n",
       "132           6.4          2.8   virginica"
      ]
     },
     "execution_count": 324,
     "metadata": {},
     "output_type": "execute_result"
    }
   ],
   "source": [
    "X_train.head()"
   ]
  },
  {
   "cell_type": "code",
   "execution_count": 325,
   "id": "d458c5fe",
   "metadata": {
    "id": "d458c5fe",
    "outputId": "bfde52e2-c7e8-431b-f8b0-31bf08c81ddf",
    "tags": []
   },
   "outputs": [
    {
     "data": {
      "text/plain": [
       "(120, 3)"
      ]
     },
     "execution_count": 325,
     "metadata": {},
     "output_type": "execute_result"
    }
   ],
   "source": [
    "X_train.shape   # 30 -20 = 10"
   ]
  },
  {
   "cell_type": "markdown",
   "id": "e63c31b6",
   "metadata": {
    "id": "e63c31b6"
   },
   "source": [
    "#### <font color = blue> Label Encoder"
   ]
  },
  {
   "cell_type": "code",
   "execution_count": 326,
   "id": "850bad9c",
   "metadata": {
    "id": "850bad9c",
    "outputId": "d698472a-972a-4cf6-d8c9-fba82493b810",
    "tags": []
   },
   "outputs": [
    {
     "data": {
      "text/plain": [
       "array([ 9, 10,  7, 18,  4, 13,  4, 16, 17, 11, 11, 14, 11, 15, 11,  3, 10,\n",
       "        7,  2,  6,  8,  8,  2,  0, 12,  1,  5, 12,  4,  4], dtype=int64)"
      ]
     },
     "execution_count": 326,
     "metadata": {},
     "output_type": "execute_result"
    }
   ],
   "source": [
    "LE = LabelEncoder()\n",
    "Y_train = LE.fit_transform(Y_train)\n",
    "Y_test = LE.fit_transform(Y_test)        \n",
    "Y_test                             "
   ]
  },
  {
   "cell_type": "markdown",
   "id": "d23a8f5a",
   "metadata": {
    "id": "d23a8f5a"
   },
   "source": [
    "#### <font color = blue> Feature Scaling"
   ]
  },
  {
   "cell_type": "code",
   "execution_count": 327,
   "id": "cf77ad16",
   "metadata": {
    "id": "cf77ad16",
    "outputId": "b2f3d198-7d3e-42fe-d0ec-188f16c34002",
    "tags": []
   },
   "outputs": [],
   "source": [
    "from sklearn.preprocessing import StandardScaler\n",
    "from sklearn.preprocessing import LabelEncoder\n",
    "\n",
    "label_encoder = LabelEncoder()\n",
    "\n",
    "df['species'] = label_encoder.fit_transform(df['species'])\n",
    "\n",
    "X = df.iloc[:, :-1]  \n",
    "Y = df.iloc[:, -1]   \n",
    "\n",
    "X_train, X_test, Y_train, Y_test = train_test_split(X, Y, test_size=0.2, random_state=0)\n",
    "\n",
    "scaler = StandardScaler()\n",
    "X_train = scaler.fit_transform(X_train)\n",
    "X_test = scaler.transform(X_test)"
   ]
  },
  {
   "cell_type": "markdown",
   "id": "ca572984",
   "metadata": {
    "id": "ca572984"
   },
   "source": [
    "## <font color = #950CDF> Part 3: </font> <font color = #4854E8> Build Naive Bayes Classifier </font>"
   ]
  },
  {
   "cell_type": "markdown",
   "id": "d495b452",
   "metadata": {
    "id": "d495b452"
   },
   "source": [
    "### <font color = #27C3E5> 3.1: </font> <font color = #41EA46> Implementation from Scratch </font>"
   ]
  },
  {
   "cell_type": "markdown",
   "id": "170628c0",
   "metadata": {
    "id": "170628c0"
   },
   "source": [
    "#### <font color = blue> Build Model"
   ]
  },
  {
   "cell_type": "code",
   "execution_count": 328,
   "id": "32046f0d",
   "metadata": {
    "id": "32046f0d",
    "tags": []
   },
   "outputs": [],
   "source": [
    "class NaiveBayes:\n",
    "    def fit(self, X, y):\n",
    "        n_samples, n_features = X.shape\n",
    "        self._classes = np.unique(y)\n",
    "        n_classes = len(self._classes)\n",
    "\n",
    "        # calculate mean, var, and prior for each class\n",
    "        self._mean = np.zeros((n_classes, n_features), dtype=np.float64)\n",
    "        self._var = np.zeros((n_classes, n_features), dtype=np.float64)\n",
    "        self._priors = np.zeros(n_classes, dtype=np.float64)\n",
    "\n",
    "        for idx, c in enumerate(self._classes):\n",
    "            X_c = X[y == c]\n",
    "            self._mean[idx, :] = X_c.mean(axis=0)\n",
    "            self._var[idx, :] = X_c.var(axis=0)\n",
    "            self._priors[idx] = X_c.shape[0] / float(n_samples)\n",
    "\n",
    "    def predict(self, X):\n",
    "        y_pred = [self._predict(x) for x in X]\n",
    "        return np.array(y_pred)\n",
    "\n",
    "    def _predict(self, x):\n",
    "        posteriors = []\n",
    "\n",
    "        # calculate posterior probability for each class\n",
    "        for idx, c in enumerate(self._classes):\n",
    "            prior = np.log(self._priors[idx])\n",
    "            posterior = np.sum(np.log(self._pdf(idx, x)))\n",
    "            posterior = prior + posterior\n",
    "            posteriors.append(posterior)\n",
    "\n",
    "        # return class with highest posterior probability\n",
    "        return self._classes[np.argmax(posteriors)]\n",
    "\n",
    "    def _pdf(self, class_idx, x):\n",
    "        mean = self._mean[class_idx]\n",
    "        var = self._var[class_idx]\n",
    "        numerator = np.exp(-((x - mean) ** 2) / (2 * var))\n",
    "        denominator = np.sqrt(2 * np.pi * var)\n",
    "        return numerator / denominator"
   ]
  },
  {
   "cell_type": "markdown",
   "id": "ae2a637c",
   "metadata": {
    "id": "ae2a637c"
   },
   "source": [
    "#### <font color = blue> Initialize Model"
   ]
  },
  {
   "cell_type": "code",
   "execution_count": 329,
   "id": "728a751a",
   "metadata": {
    "id": "728a751a",
    "tags": []
   },
   "outputs": [],
   "source": [
    "NB_scratch = NaiveBayes()"
   ]
  },
  {
   "cell_type": "markdown",
   "id": "ad70e70e",
   "metadata": {
    "id": "ad70e70e"
   },
   "source": [
    "#### <font color = blue> Fit the Training Data into Model"
   ]
  },
  {
   "cell_type": "code",
   "execution_count": 330,
   "id": "53f1abab",
   "metadata": {
    "id": "53f1abab",
    "tags": []
   },
   "outputs": [],
   "source": [
    "NB_scratch.fit(X_train, Y_train)"
   ]
  },
  {
   "cell_type": "markdown",
   "id": "7aac1f84",
   "metadata": {
    "id": "7aac1f84"
   },
   "source": [
    "#### <font color = blue> Predict the Test data"
   ]
  },
  {
   "cell_type": "code",
   "execution_count": 331,
   "id": "d014bc31",
   "metadata": {
    "id": "d014bc31",
    "outputId": "80e39c7b-c82a-4b89-ee2d-a9e27c5248e5",
    "tags": []
   },
   "outputs": [
    {
     "data": {
      "text/plain": [
       "array([2, 1, 0, 2, 0, 2, 0, 1, 1, 1, 1, 1, 1, 1, 1, 0, 1, 1, 0, 0, 2, 1,\n",
       "       0, 0, 2, 0, 0, 1, 1, 0])"
      ]
     },
     "execution_count": 331,
     "metadata": {},
     "output_type": "execute_result"
    }
   ],
   "source": [
    "Y_pred_scratch = NB_scratch.predict(X_test)\n",
    "Y_pred_scratch"
   ]
  },
  {
   "cell_type": "markdown",
   "id": "649924f3",
   "metadata": {
    "id": "649924f3"
   },
   "source": [
    "#### <font color = blue> Accuracy Score"
   ]
  },
  {
   "cell_type": "code",
   "execution_count": 332,
   "id": "3d3335da",
   "metadata": {
    "id": "3d3335da",
    "outputId": "6902613c-8a9d-4fbf-85c8-dfa114f4fb42",
    "tags": []
   },
   "outputs": [
    {
     "name": "stdout",
     "output_type": "stream",
     "text": [
      "Accuracy Score: 0.9666666666666667\n"
     ]
    }
   ],
   "source": [
    "Accuracy_Scratch = accuracy_score(Y_pred_scratch, Y_test)\n",
    "print('Accuracy Score:', Accuracy_Scratch)"
   ]
  },
  {
   "cell_type": "markdown",
   "id": "f1c81dd5",
   "metadata": {
    "id": "f1c81dd5"
   },
   "source": [
    "### <font color = #27C3E5> 3.2: </font> <font color = #41EA46> Implementation with Scikit-Learn </font>"
   ]
  },
  {
   "cell_type": "markdown",
   "id": "bfec4a8c",
   "metadata": {
    "id": "bfec4a8c"
   },
   "source": [
    "#### <font color = blue> Import Model From Sklearn"
   ]
  },
  {
   "cell_type": "code",
   "execution_count": 333,
   "id": "5f959d3b",
   "metadata": {
    "id": "5f959d3b",
    "tags": []
   },
   "outputs": [],
   "source": [
    "from sklearn.naive_bayes import GaussianNB"
   ]
  },
  {
   "cell_type": "markdown",
   "id": "25a52636",
   "metadata": {
    "id": "25a52636"
   },
   "source": [
    "#### <font color = blue> Initialize Model"
   ]
  },
  {
   "cell_type": "code",
   "execution_count": 334,
   "id": "a56e6667",
   "metadata": {
    "id": "a56e6667",
    "tags": []
   },
   "outputs": [],
   "source": [
    "NB_Sklearn = GaussianNB()"
   ]
  },
  {
   "cell_type": "markdown",
   "id": "2b70807e",
   "metadata": {
    "id": "2b70807e"
   },
   "source": [
    "#### <font color = blue> Fit the Training Data into Model"
   ]
  },
  {
   "cell_type": "code",
   "execution_count": 335,
   "id": "d00ddad7",
   "metadata": {
    "id": "d00ddad7",
    "outputId": "5fb74fb9-25d3-41e6-cfdd-9f07da7d145e",
    "tags": []
   },
   "outputs": [
    {
     "data": {
      "text/html": [
       "<style>#sk-container-id-28 {color: black;}#sk-container-id-28 pre{padding: 0;}#sk-container-id-28 div.sk-toggleable {background-color: white;}#sk-container-id-28 label.sk-toggleable__label {cursor: pointer;display: block;width: 100%;margin-bottom: 0;padding: 0.3em;box-sizing: border-box;text-align: center;}#sk-container-id-28 label.sk-toggleable__label-arrow:before {content: \"▸\";float: left;margin-right: 0.25em;color: #696969;}#sk-container-id-28 label.sk-toggleable__label-arrow:hover:before {color: black;}#sk-container-id-28 div.sk-estimator:hover label.sk-toggleable__label-arrow:before {color: black;}#sk-container-id-28 div.sk-toggleable__content {max-height: 0;max-width: 0;overflow: hidden;text-align: left;background-color: #f0f8ff;}#sk-container-id-28 div.sk-toggleable__content pre {margin: 0.2em;color: black;border-radius: 0.25em;background-color: #f0f8ff;}#sk-container-id-28 input.sk-toggleable__control:checked~div.sk-toggleable__content {max-height: 200px;max-width: 100%;overflow: auto;}#sk-container-id-28 input.sk-toggleable__control:checked~label.sk-toggleable__label-arrow:before {content: \"▾\";}#sk-container-id-28 div.sk-estimator input.sk-toggleable__control:checked~label.sk-toggleable__label {background-color: #d4ebff;}#sk-container-id-28 div.sk-label input.sk-toggleable__control:checked~label.sk-toggleable__label {background-color: #d4ebff;}#sk-container-id-28 input.sk-hidden--visually {border: 0;clip: rect(1px 1px 1px 1px);clip: rect(1px, 1px, 1px, 1px);height: 1px;margin: -1px;overflow: hidden;padding: 0;position: absolute;width: 1px;}#sk-container-id-28 div.sk-estimator {font-family: monospace;background-color: #f0f8ff;border: 1px dotted black;border-radius: 0.25em;box-sizing: border-box;margin-bottom: 0.5em;}#sk-container-id-28 div.sk-estimator:hover {background-color: #d4ebff;}#sk-container-id-28 div.sk-parallel-item::after {content: \"\";width: 100%;border-bottom: 1px solid gray;flex-grow: 1;}#sk-container-id-28 div.sk-label:hover label.sk-toggleable__label {background-color: #d4ebff;}#sk-container-id-28 div.sk-serial::before {content: \"\";position: absolute;border-left: 1px solid gray;box-sizing: border-box;top: 0;bottom: 0;left: 50%;z-index: 0;}#sk-container-id-28 div.sk-serial {display: flex;flex-direction: column;align-items: center;background-color: white;padding-right: 0.2em;padding-left: 0.2em;position: relative;}#sk-container-id-28 div.sk-item {position: relative;z-index: 1;}#sk-container-id-28 div.sk-parallel {display: flex;align-items: stretch;justify-content: center;background-color: white;position: relative;}#sk-container-id-28 div.sk-item::before, #sk-container-id-28 div.sk-parallel-item::before {content: \"\";position: absolute;border-left: 1px solid gray;box-sizing: border-box;top: 0;bottom: 0;left: 50%;z-index: -1;}#sk-container-id-28 div.sk-parallel-item {display: flex;flex-direction: column;z-index: 1;position: relative;background-color: white;}#sk-container-id-28 div.sk-parallel-item:first-child::after {align-self: flex-end;width: 50%;}#sk-container-id-28 div.sk-parallel-item:last-child::after {align-self: flex-start;width: 50%;}#sk-container-id-28 div.sk-parallel-item:only-child::after {width: 0;}#sk-container-id-28 div.sk-dashed-wrapped {border: 1px dashed gray;margin: 0 0.4em 0.5em 0.4em;box-sizing: border-box;padding-bottom: 0.4em;background-color: white;}#sk-container-id-28 div.sk-label label {font-family: monospace;font-weight: bold;display: inline-block;line-height: 1.2em;}#sk-container-id-28 div.sk-label-container {text-align: center;}#sk-container-id-28 div.sk-container {/* jupyter's `normalize.less` sets `[hidden] { display: none; }` but bootstrap.min.css set `[hidden] { display: none !important; }` so we also need the `!important` here to be able to override the default hidden behavior on the sphinx rendered scikit-learn.org. See: https://github.com/scikit-learn/scikit-learn/issues/21755 */display: inline-block !important;position: relative;}#sk-container-id-28 div.sk-text-repr-fallback {display: none;}</style><div id=\"sk-container-id-28\" class=\"sk-top-container\"><div class=\"sk-text-repr-fallback\"><pre>GaussianNB()</pre><b>In a Jupyter environment, please rerun this cell to show the HTML representation or trust the notebook. <br />On GitHub, the HTML representation is unable to render, please try loading this page with nbviewer.org.</b></div><div class=\"sk-container\" hidden><div class=\"sk-item\"><div class=\"sk-estimator sk-toggleable\"><input class=\"sk-toggleable__control sk-hidden--visually\" id=\"sk-estimator-id-28\" type=\"checkbox\" checked><label for=\"sk-estimator-id-28\" class=\"sk-toggleable__label sk-toggleable__label-arrow\">GaussianNB</label><div class=\"sk-toggleable__content\"><pre>GaussianNB()</pre></div></div></div></div></div>"
      ],
      "text/plain": [
       "GaussianNB()"
      ]
     },
     "execution_count": 335,
     "metadata": {},
     "output_type": "execute_result"
    }
   ],
   "source": [
    "NB_Sklearn.fit(X_train, Y_train)"
   ]
  },
  {
   "cell_type": "markdown",
   "id": "c40fdce1",
   "metadata": {
    "id": "c40fdce1"
   },
   "source": [
    "#### <font color = blue> Predict the Test data"
   ]
  },
  {
   "cell_type": "code",
   "execution_count": 336,
   "id": "8c551198",
   "metadata": {
    "id": "8c551198",
    "outputId": "7f799fd3-9690-4686-d627-1ff5c92ceb15",
    "tags": []
   },
   "outputs": [
    {
     "data": {
      "text/plain": [
       "array([2, 1, 0, 2, 0, 2, 0, 1, 1, 1, 1, 1, 1, 1, 1, 0, 1, 1, 0, 0, 2, 1,\n",
       "       0, 0, 2, 0, 0, 1, 1, 0])"
      ]
     },
     "execution_count": 336,
     "metadata": {},
     "output_type": "execute_result"
    }
   ],
   "source": [
    "Y_pred_Sklearn = NB_Sklearn.predict(X_test)\n",
    "Y_pred_Sklearn"
   ]
  },
  {
   "cell_type": "markdown",
   "id": "2e3975fe",
   "metadata": {
    "id": "2e3975fe"
   },
   "source": [
    "#### <font color = blue> Accuracy Score"
   ]
  },
  {
   "cell_type": "code",
   "execution_count": 337,
   "id": "345ace1b",
   "metadata": {
    "id": "345ace1b",
    "outputId": "c408fd99-7dd8-4cf1-8828-d4d103e8541a",
    "tags": []
   },
   "outputs": [
    {
     "name": "stdout",
     "output_type": "stream",
     "text": [
      "Accuracy Score: 0.9666666666666667\n"
     ]
    }
   ],
   "source": [
    "Accuracy_Sklearn = accuracy_score(Y_pred_Sklearn, Y_test)\n",
    "print('Accuracy Score:', Accuracy_Sklearn)"
   ]
  },
  {
   "cell_type": "markdown",
   "id": "42499c55",
   "metadata": {},
   "source": [
    "# Bernoulli NB"
   ]
  },
  {
   "cell_type": "code",
   "execution_count": 338,
   "id": "41f40006",
   "metadata": {},
   "outputs": [
    {
     "data": {
      "text/html": [
       "<style>#sk-container-id-29 {color: black;}#sk-container-id-29 pre{padding: 0;}#sk-container-id-29 div.sk-toggleable {background-color: white;}#sk-container-id-29 label.sk-toggleable__label {cursor: pointer;display: block;width: 100%;margin-bottom: 0;padding: 0.3em;box-sizing: border-box;text-align: center;}#sk-container-id-29 label.sk-toggleable__label-arrow:before {content: \"▸\";float: left;margin-right: 0.25em;color: #696969;}#sk-container-id-29 label.sk-toggleable__label-arrow:hover:before {color: black;}#sk-container-id-29 div.sk-estimator:hover label.sk-toggleable__label-arrow:before {color: black;}#sk-container-id-29 div.sk-toggleable__content {max-height: 0;max-width: 0;overflow: hidden;text-align: left;background-color: #f0f8ff;}#sk-container-id-29 div.sk-toggleable__content pre {margin: 0.2em;color: black;border-radius: 0.25em;background-color: #f0f8ff;}#sk-container-id-29 input.sk-toggleable__control:checked~div.sk-toggleable__content {max-height: 200px;max-width: 100%;overflow: auto;}#sk-container-id-29 input.sk-toggleable__control:checked~label.sk-toggleable__label-arrow:before {content: \"▾\";}#sk-container-id-29 div.sk-estimator input.sk-toggleable__control:checked~label.sk-toggleable__label {background-color: #d4ebff;}#sk-container-id-29 div.sk-label input.sk-toggleable__control:checked~label.sk-toggleable__label {background-color: #d4ebff;}#sk-container-id-29 input.sk-hidden--visually {border: 0;clip: rect(1px 1px 1px 1px);clip: rect(1px, 1px, 1px, 1px);height: 1px;margin: -1px;overflow: hidden;padding: 0;position: absolute;width: 1px;}#sk-container-id-29 div.sk-estimator {font-family: monospace;background-color: #f0f8ff;border: 1px dotted black;border-radius: 0.25em;box-sizing: border-box;margin-bottom: 0.5em;}#sk-container-id-29 div.sk-estimator:hover {background-color: #d4ebff;}#sk-container-id-29 div.sk-parallel-item::after {content: \"\";width: 100%;border-bottom: 1px solid gray;flex-grow: 1;}#sk-container-id-29 div.sk-label:hover label.sk-toggleable__label {background-color: #d4ebff;}#sk-container-id-29 div.sk-serial::before {content: \"\";position: absolute;border-left: 1px solid gray;box-sizing: border-box;top: 0;bottom: 0;left: 50%;z-index: 0;}#sk-container-id-29 div.sk-serial {display: flex;flex-direction: column;align-items: center;background-color: white;padding-right: 0.2em;padding-left: 0.2em;position: relative;}#sk-container-id-29 div.sk-item {position: relative;z-index: 1;}#sk-container-id-29 div.sk-parallel {display: flex;align-items: stretch;justify-content: center;background-color: white;position: relative;}#sk-container-id-29 div.sk-item::before, #sk-container-id-29 div.sk-parallel-item::before {content: \"\";position: absolute;border-left: 1px solid gray;box-sizing: border-box;top: 0;bottom: 0;left: 50%;z-index: -1;}#sk-container-id-29 div.sk-parallel-item {display: flex;flex-direction: column;z-index: 1;position: relative;background-color: white;}#sk-container-id-29 div.sk-parallel-item:first-child::after {align-self: flex-end;width: 50%;}#sk-container-id-29 div.sk-parallel-item:last-child::after {align-self: flex-start;width: 50%;}#sk-container-id-29 div.sk-parallel-item:only-child::after {width: 0;}#sk-container-id-29 div.sk-dashed-wrapped {border: 1px dashed gray;margin: 0 0.4em 0.5em 0.4em;box-sizing: border-box;padding-bottom: 0.4em;background-color: white;}#sk-container-id-29 div.sk-label label {font-family: monospace;font-weight: bold;display: inline-block;line-height: 1.2em;}#sk-container-id-29 div.sk-label-container {text-align: center;}#sk-container-id-29 div.sk-container {/* jupyter's `normalize.less` sets `[hidden] { display: none; }` but bootstrap.min.css set `[hidden] { display: none !important; }` so we also need the `!important` here to be able to override the default hidden behavior on the sphinx rendered scikit-learn.org. See: https://github.com/scikit-learn/scikit-learn/issues/21755 */display: inline-block !important;position: relative;}#sk-container-id-29 div.sk-text-repr-fallback {display: none;}</style><div id=\"sk-container-id-29\" class=\"sk-top-container\"><div class=\"sk-text-repr-fallback\"><pre>BernoulliNB(force_alpha=True)</pre><b>In a Jupyter environment, please rerun this cell to show the HTML representation or trust the notebook. <br />On GitHub, the HTML representation is unable to render, please try loading this page with nbviewer.org.</b></div><div class=\"sk-container\" hidden><div class=\"sk-item\"><div class=\"sk-estimator sk-toggleable\"><input class=\"sk-toggleable__control sk-hidden--visually\" id=\"sk-estimator-id-29\" type=\"checkbox\" checked><label for=\"sk-estimator-id-29\" class=\"sk-toggleable__label sk-toggleable__label-arrow\">BernoulliNB</label><div class=\"sk-toggleable__content\"><pre>BernoulliNB(force_alpha=True)</pre></div></div></div></div></div>"
      ],
      "text/plain": [
       "BernoulliNB(force_alpha=True)"
      ]
     },
     "execution_count": 338,
     "metadata": {},
     "output_type": "execute_result"
    }
   ],
   "source": [
    "from sklearn.naive_bayes import BernoulliNB\n",
    "BN_NB = BernoulliNB(force_alpha=True)\n",
    "BN_NB.fit(X, Y)\n",
    "BernoulliNB(force_alpha=True)"
   ]
  },
  {
   "cell_type": "code",
   "execution_count": 339,
   "id": "0057bb4a",
   "metadata": {},
   "outputs": [
    {
     "name": "stderr",
     "output_type": "stream",
     "text": [
      "C:\\Users\\ANUSHA REDDY\\anaconda3\\lib\\site-packages\\sklearn\\base.py:465: UserWarning: X does not have valid feature names, but BernoulliNB was fitted with feature names\n",
      "  warnings.warn(\n"
     ]
    },
    {
     "data": {
      "text/plain": [
       "array([0, 0, 0, 0, 0, 0, 0, 0, 0, 0, 0, 0, 0, 0, 0, 0, 0, 0, 0, 0, 0, 0,\n",
       "       0, 0, 0, 0, 0, 0, 0, 0])"
      ]
     },
     "execution_count": 339,
     "metadata": {},
     "output_type": "execute_result"
    }
   ],
   "source": [
    "Y_pred_BNlearn = BN_NB.predict(X_test)\n",
    "Y_pred_BNlearn"
   ]
  },
  {
   "cell_type": "code",
   "execution_count": 340,
   "id": "812b909f",
   "metadata": {},
   "outputs": [
    {
     "name": "stdout",
     "output_type": "stream",
     "text": [
      "Accuracy Score: 0.36666666666666664\n"
     ]
    }
   ],
   "source": [
    "Accuracy_BNlearn = accuracy_score(Y_pred_BNlearn, Y_test)\n",
    "print('Accuracy Score:', Accuracy_BNlearn)"
   ]
  },
  {
   "cell_type": "markdown",
   "id": "22262fd3",
   "metadata": {},
   "source": [
    "# Categorical NB"
   ]
  },
  {
   "cell_type": "code",
   "execution_count": 341,
   "id": "bec9aa3b",
   "metadata": {},
   "outputs": [
    {
     "data": {
      "text/html": [
       "<style>#sk-container-id-30 {color: black;}#sk-container-id-30 pre{padding: 0;}#sk-container-id-30 div.sk-toggleable {background-color: white;}#sk-container-id-30 label.sk-toggleable__label {cursor: pointer;display: block;width: 100%;margin-bottom: 0;padding: 0.3em;box-sizing: border-box;text-align: center;}#sk-container-id-30 label.sk-toggleable__label-arrow:before {content: \"▸\";float: left;margin-right: 0.25em;color: #696969;}#sk-container-id-30 label.sk-toggleable__label-arrow:hover:before {color: black;}#sk-container-id-30 div.sk-estimator:hover label.sk-toggleable__label-arrow:before {color: black;}#sk-container-id-30 div.sk-toggleable__content {max-height: 0;max-width: 0;overflow: hidden;text-align: left;background-color: #f0f8ff;}#sk-container-id-30 div.sk-toggleable__content pre {margin: 0.2em;color: black;border-radius: 0.25em;background-color: #f0f8ff;}#sk-container-id-30 input.sk-toggleable__control:checked~div.sk-toggleable__content {max-height: 200px;max-width: 100%;overflow: auto;}#sk-container-id-30 input.sk-toggleable__control:checked~label.sk-toggleable__label-arrow:before {content: \"▾\";}#sk-container-id-30 div.sk-estimator input.sk-toggleable__control:checked~label.sk-toggleable__label {background-color: #d4ebff;}#sk-container-id-30 div.sk-label input.sk-toggleable__control:checked~label.sk-toggleable__label {background-color: #d4ebff;}#sk-container-id-30 input.sk-hidden--visually {border: 0;clip: rect(1px 1px 1px 1px);clip: rect(1px, 1px, 1px, 1px);height: 1px;margin: -1px;overflow: hidden;padding: 0;position: absolute;width: 1px;}#sk-container-id-30 div.sk-estimator {font-family: monospace;background-color: #f0f8ff;border: 1px dotted black;border-radius: 0.25em;box-sizing: border-box;margin-bottom: 0.5em;}#sk-container-id-30 div.sk-estimator:hover {background-color: #d4ebff;}#sk-container-id-30 div.sk-parallel-item::after {content: \"\";width: 100%;border-bottom: 1px solid gray;flex-grow: 1;}#sk-container-id-30 div.sk-label:hover label.sk-toggleable__label {background-color: #d4ebff;}#sk-container-id-30 div.sk-serial::before {content: \"\";position: absolute;border-left: 1px solid gray;box-sizing: border-box;top: 0;bottom: 0;left: 50%;z-index: 0;}#sk-container-id-30 div.sk-serial {display: flex;flex-direction: column;align-items: center;background-color: white;padding-right: 0.2em;padding-left: 0.2em;position: relative;}#sk-container-id-30 div.sk-item {position: relative;z-index: 1;}#sk-container-id-30 div.sk-parallel {display: flex;align-items: stretch;justify-content: center;background-color: white;position: relative;}#sk-container-id-30 div.sk-item::before, #sk-container-id-30 div.sk-parallel-item::before {content: \"\";position: absolute;border-left: 1px solid gray;box-sizing: border-box;top: 0;bottom: 0;left: 50%;z-index: -1;}#sk-container-id-30 div.sk-parallel-item {display: flex;flex-direction: column;z-index: 1;position: relative;background-color: white;}#sk-container-id-30 div.sk-parallel-item:first-child::after {align-self: flex-end;width: 50%;}#sk-container-id-30 div.sk-parallel-item:last-child::after {align-self: flex-start;width: 50%;}#sk-container-id-30 div.sk-parallel-item:only-child::after {width: 0;}#sk-container-id-30 div.sk-dashed-wrapped {border: 1px dashed gray;margin: 0 0.4em 0.5em 0.4em;box-sizing: border-box;padding-bottom: 0.4em;background-color: white;}#sk-container-id-30 div.sk-label label {font-family: monospace;font-weight: bold;display: inline-block;line-height: 1.2em;}#sk-container-id-30 div.sk-label-container {text-align: center;}#sk-container-id-30 div.sk-container {/* jupyter's `normalize.less` sets `[hidden] { display: none; }` but bootstrap.min.css set `[hidden] { display: none !important; }` so we also need the `!important` here to be able to override the default hidden behavior on the sphinx rendered scikit-learn.org. See: https://github.com/scikit-learn/scikit-learn/issues/21755 */display: inline-block !important;position: relative;}#sk-container-id-30 div.sk-text-repr-fallback {display: none;}</style><div id=\"sk-container-id-30\" class=\"sk-top-container\"><div class=\"sk-text-repr-fallback\"><pre>CategoricalNB(force_alpha=True)</pre><b>In a Jupyter environment, please rerun this cell to show the HTML representation or trust the notebook. <br />On GitHub, the HTML representation is unable to render, please try loading this page with nbviewer.org.</b></div><div class=\"sk-container\" hidden><div class=\"sk-item\"><div class=\"sk-estimator sk-toggleable\"><input class=\"sk-toggleable__control sk-hidden--visually\" id=\"sk-estimator-id-30\" type=\"checkbox\" checked><label for=\"sk-estimator-id-30\" class=\"sk-toggleable__label sk-toggleable__label-arrow\">CategoricalNB</label><div class=\"sk-toggleable__content\"><pre>CategoricalNB(force_alpha=True)</pre></div></div></div></div></div>"
      ],
      "text/plain": [
       "CategoricalNB(force_alpha=True)"
      ]
     },
     "execution_count": 341,
     "metadata": {},
     "output_type": "execute_result"
    }
   ],
   "source": [
    "from sklearn.naive_bayes import CategoricalNB \n",
    "\n",
    "\n",
    "Ct_NB = CategoricalNB(force_alpha=True)\n",
    "label_encoder = LabelEncoder()\n",
    "df_encoded = df.apply(label_encoder.fit_transform)\n",
    "\n",
    "X = df_encoded.iloc[:, :-1]\n",
    "Y = df_encoded.iloc[:, -1]\n",
    "\n",
    "X_train, X_test, Y_train, Y_test = train_test_split(X, Y, test_size=0.2, random_state=0)\n",
    "\n",
    "Ct_NB.fit(X, Y)\n",
    "CategoricalNB(force_alpha=True)"
   ]
  },
  {
   "cell_type": "code",
   "execution_count": 342,
   "id": "f209201c",
   "metadata": {},
   "outputs": [
    {
     "data": {
      "text/plain": [
       "array([2, 1, 0, 2, 0, 2, 0, 1, 1, 1, 1, 1, 1, 1, 1, 0, 1, 1, 0, 0, 2, 1,\n",
       "       0, 0, 2, 0, 0, 1, 1, 0], dtype=int64)"
      ]
     },
     "execution_count": 342,
     "metadata": {},
     "output_type": "execute_result"
    }
   ],
   "source": [
    "Y_pred_Ctlearn = Ct_NB.predict(X_test)\n",
    "Y_pred_Ctlearn"
   ]
  },
  {
   "cell_type": "code",
   "execution_count": 343,
   "id": "6d67dccd",
   "metadata": {},
   "outputs": [
    {
     "name": "stdout",
     "output_type": "stream",
     "text": [
      "Accuracy Score: 0.9666666666666667\n"
     ]
    }
   ],
   "source": [
    "Accuracy_CtNB = accuracy_score(Y_pred_Ctlearn, Y_test)\n",
    "print('Accuracy Score:', Accuracy_CtNB)"
   ]
  },
  {
   "cell_type": "markdown",
   "id": "67ce9e52",
   "metadata": {},
   "source": [
    "# Compliment NB "
   ]
  },
  {
   "cell_type": "code",
   "execution_count": 344,
   "id": "c7dfbc32",
   "metadata": {},
   "outputs": [
    {
     "data": {
      "text/html": [
       "<style>#sk-container-id-31 {color: black;}#sk-container-id-31 pre{padding: 0;}#sk-container-id-31 div.sk-toggleable {background-color: white;}#sk-container-id-31 label.sk-toggleable__label {cursor: pointer;display: block;width: 100%;margin-bottom: 0;padding: 0.3em;box-sizing: border-box;text-align: center;}#sk-container-id-31 label.sk-toggleable__label-arrow:before {content: \"▸\";float: left;margin-right: 0.25em;color: #696969;}#sk-container-id-31 label.sk-toggleable__label-arrow:hover:before {color: black;}#sk-container-id-31 div.sk-estimator:hover label.sk-toggleable__label-arrow:before {color: black;}#sk-container-id-31 div.sk-toggleable__content {max-height: 0;max-width: 0;overflow: hidden;text-align: left;background-color: #f0f8ff;}#sk-container-id-31 div.sk-toggleable__content pre {margin: 0.2em;color: black;border-radius: 0.25em;background-color: #f0f8ff;}#sk-container-id-31 input.sk-toggleable__control:checked~div.sk-toggleable__content {max-height: 200px;max-width: 100%;overflow: auto;}#sk-container-id-31 input.sk-toggleable__control:checked~label.sk-toggleable__label-arrow:before {content: \"▾\";}#sk-container-id-31 div.sk-estimator input.sk-toggleable__control:checked~label.sk-toggleable__label {background-color: #d4ebff;}#sk-container-id-31 div.sk-label input.sk-toggleable__control:checked~label.sk-toggleable__label {background-color: #d4ebff;}#sk-container-id-31 input.sk-hidden--visually {border: 0;clip: rect(1px 1px 1px 1px);clip: rect(1px, 1px, 1px, 1px);height: 1px;margin: -1px;overflow: hidden;padding: 0;position: absolute;width: 1px;}#sk-container-id-31 div.sk-estimator {font-family: monospace;background-color: #f0f8ff;border: 1px dotted black;border-radius: 0.25em;box-sizing: border-box;margin-bottom: 0.5em;}#sk-container-id-31 div.sk-estimator:hover {background-color: #d4ebff;}#sk-container-id-31 div.sk-parallel-item::after {content: \"\";width: 100%;border-bottom: 1px solid gray;flex-grow: 1;}#sk-container-id-31 div.sk-label:hover label.sk-toggleable__label {background-color: #d4ebff;}#sk-container-id-31 div.sk-serial::before {content: \"\";position: absolute;border-left: 1px solid gray;box-sizing: border-box;top: 0;bottom: 0;left: 50%;z-index: 0;}#sk-container-id-31 div.sk-serial {display: flex;flex-direction: column;align-items: center;background-color: white;padding-right: 0.2em;padding-left: 0.2em;position: relative;}#sk-container-id-31 div.sk-item {position: relative;z-index: 1;}#sk-container-id-31 div.sk-parallel {display: flex;align-items: stretch;justify-content: center;background-color: white;position: relative;}#sk-container-id-31 div.sk-item::before, #sk-container-id-31 div.sk-parallel-item::before {content: \"\";position: absolute;border-left: 1px solid gray;box-sizing: border-box;top: 0;bottom: 0;left: 50%;z-index: -1;}#sk-container-id-31 div.sk-parallel-item {display: flex;flex-direction: column;z-index: 1;position: relative;background-color: white;}#sk-container-id-31 div.sk-parallel-item:first-child::after {align-self: flex-end;width: 50%;}#sk-container-id-31 div.sk-parallel-item:last-child::after {align-self: flex-start;width: 50%;}#sk-container-id-31 div.sk-parallel-item:only-child::after {width: 0;}#sk-container-id-31 div.sk-dashed-wrapped {border: 1px dashed gray;margin: 0 0.4em 0.5em 0.4em;box-sizing: border-box;padding-bottom: 0.4em;background-color: white;}#sk-container-id-31 div.sk-label label {font-family: monospace;font-weight: bold;display: inline-block;line-height: 1.2em;}#sk-container-id-31 div.sk-label-container {text-align: center;}#sk-container-id-31 div.sk-container {/* jupyter's `normalize.less` sets `[hidden] { display: none; }` but bootstrap.min.css set `[hidden] { display: none !important; }` so we also need the `!important` here to be able to override the default hidden behavior on the sphinx rendered scikit-learn.org. See: https://github.com/scikit-learn/scikit-learn/issues/21755 */display: inline-block !important;position: relative;}#sk-container-id-31 div.sk-text-repr-fallback {display: none;}</style><div id=\"sk-container-id-31\" class=\"sk-top-container\"><div class=\"sk-text-repr-fallback\"><pre>ComplementNB(force_alpha=True)</pre><b>In a Jupyter environment, please rerun this cell to show the HTML representation or trust the notebook. <br />On GitHub, the HTML representation is unable to render, please try loading this page with nbviewer.org.</b></div><div class=\"sk-container\" hidden><div class=\"sk-item\"><div class=\"sk-estimator sk-toggleable\"><input class=\"sk-toggleable__control sk-hidden--visually\" id=\"sk-estimator-id-31\" type=\"checkbox\" checked><label for=\"sk-estimator-id-31\" class=\"sk-toggleable__label sk-toggleable__label-arrow\">ComplementNB</label><div class=\"sk-toggleable__content\"><pre>ComplementNB(force_alpha=True)</pre></div></div></div></div></div>"
      ],
      "text/plain": [
       "ComplementNB(force_alpha=True)"
      ]
     },
     "execution_count": 344,
     "metadata": {},
     "output_type": "execute_result"
    }
   ],
   "source": [
    "from sklearn.naive_bayes import ComplementNB\n",
    "CP_NB = ComplementNB(force_alpha=True)\n",
    "CP_NB.fit(X, Y)\n",
    "ComplementNB(force_alpha=True)"
   ]
  },
  {
   "cell_type": "code",
   "execution_count": 345,
   "id": "aa05b396",
   "metadata": {},
   "outputs": [
    {
     "data": {
      "text/plain": [
       "array([2, 1, 0, 2, 0, 2, 0, 1, 1, 1, 1, 1, 1, 1, 1, 0, 1, 1, 0, 0, 2, 1,\n",
       "       0, 0, 2, 0, 0, 1, 1, 0])"
      ]
     },
     "execution_count": 345,
     "metadata": {},
     "output_type": "execute_result"
    }
   ],
   "source": [
    "Y_pred_CPlearn = CP_NB.predict(X_test)\n",
    "Y_pred_Sklearn"
   ]
  },
  {
   "cell_type": "code",
   "execution_count": 346,
   "id": "dba74bc4",
   "metadata": {},
   "outputs": [
    {
     "name": "stdout",
     "output_type": "stream",
     "text": [
      "Accuracy Score: 0.5666666666666667\n"
     ]
    }
   ],
   "source": [
    "Accuracy_CPlearn = accuracy_score(Y_pred_CPlearn, Y_test)\n",
    "print('Accuracy Score:', Accuracy_CPlearn)"
   ]
  },
  {
   "cell_type": "markdown",
   "id": "a95f951f",
   "metadata": {},
   "source": [
    "# Multinomial NB"
   ]
  },
  {
   "cell_type": "code",
   "execution_count": 347,
   "id": "a4a0f05b",
   "metadata": {},
   "outputs": [
    {
     "data": {
      "text/html": [
       "<style>#sk-container-id-32 {color: black;}#sk-container-id-32 pre{padding: 0;}#sk-container-id-32 div.sk-toggleable {background-color: white;}#sk-container-id-32 label.sk-toggleable__label {cursor: pointer;display: block;width: 100%;margin-bottom: 0;padding: 0.3em;box-sizing: border-box;text-align: center;}#sk-container-id-32 label.sk-toggleable__label-arrow:before {content: \"▸\";float: left;margin-right: 0.25em;color: #696969;}#sk-container-id-32 label.sk-toggleable__label-arrow:hover:before {color: black;}#sk-container-id-32 div.sk-estimator:hover label.sk-toggleable__label-arrow:before {color: black;}#sk-container-id-32 div.sk-toggleable__content {max-height: 0;max-width: 0;overflow: hidden;text-align: left;background-color: #f0f8ff;}#sk-container-id-32 div.sk-toggleable__content pre {margin: 0.2em;color: black;border-radius: 0.25em;background-color: #f0f8ff;}#sk-container-id-32 input.sk-toggleable__control:checked~div.sk-toggleable__content {max-height: 200px;max-width: 100%;overflow: auto;}#sk-container-id-32 input.sk-toggleable__control:checked~label.sk-toggleable__label-arrow:before {content: \"▾\";}#sk-container-id-32 div.sk-estimator input.sk-toggleable__control:checked~label.sk-toggleable__label {background-color: #d4ebff;}#sk-container-id-32 div.sk-label input.sk-toggleable__control:checked~label.sk-toggleable__label {background-color: #d4ebff;}#sk-container-id-32 input.sk-hidden--visually {border: 0;clip: rect(1px 1px 1px 1px);clip: rect(1px, 1px, 1px, 1px);height: 1px;margin: -1px;overflow: hidden;padding: 0;position: absolute;width: 1px;}#sk-container-id-32 div.sk-estimator {font-family: monospace;background-color: #f0f8ff;border: 1px dotted black;border-radius: 0.25em;box-sizing: border-box;margin-bottom: 0.5em;}#sk-container-id-32 div.sk-estimator:hover {background-color: #d4ebff;}#sk-container-id-32 div.sk-parallel-item::after {content: \"\";width: 100%;border-bottom: 1px solid gray;flex-grow: 1;}#sk-container-id-32 div.sk-label:hover label.sk-toggleable__label {background-color: #d4ebff;}#sk-container-id-32 div.sk-serial::before {content: \"\";position: absolute;border-left: 1px solid gray;box-sizing: border-box;top: 0;bottom: 0;left: 50%;z-index: 0;}#sk-container-id-32 div.sk-serial {display: flex;flex-direction: column;align-items: center;background-color: white;padding-right: 0.2em;padding-left: 0.2em;position: relative;}#sk-container-id-32 div.sk-item {position: relative;z-index: 1;}#sk-container-id-32 div.sk-parallel {display: flex;align-items: stretch;justify-content: center;background-color: white;position: relative;}#sk-container-id-32 div.sk-item::before, #sk-container-id-32 div.sk-parallel-item::before {content: \"\";position: absolute;border-left: 1px solid gray;box-sizing: border-box;top: 0;bottom: 0;left: 50%;z-index: -1;}#sk-container-id-32 div.sk-parallel-item {display: flex;flex-direction: column;z-index: 1;position: relative;background-color: white;}#sk-container-id-32 div.sk-parallel-item:first-child::after {align-self: flex-end;width: 50%;}#sk-container-id-32 div.sk-parallel-item:last-child::after {align-self: flex-start;width: 50%;}#sk-container-id-32 div.sk-parallel-item:only-child::after {width: 0;}#sk-container-id-32 div.sk-dashed-wrapped {border: 1px dashed gray;margin: 0 0.4em 0.5em 0.4em;box-sizing: border-box;padding-bottom: 0.4em;background-color: white;}#sk-container-id-32 div.sk-label label {font-family: monospace;font-weight: bold;display: inline-block;line-height: 1.2em;}#sk-container-id-32 div.sk-label-container {text-align: center;}#sk-container-id-32 div.sk-container {/* jupyter's `normalize.less` sets `[hidden] { display: none; }` but bootstrap.min.css set `[hidden] { display: none !important; }` so we also need the `!important` here to be able to override the default hidden behavior on the sphinx rendered scikit-learn.org. See: https://github.com/scikit-learn/scikit-learn/issues/21755 */display: inline-block !important;position: relative;}#sk-container-id-32 div.sk-text-repr-fallback {display: none;}</style><div id=\"sk-container-id-32\" class=\"sk-top-container\"><div class=\"sk-text-repr-fallback\"><pre>MultinomialNB(force_alpha=True)</pre><b>In a Jupyter environment, please rerun this cell to show the HTML representation or trust the notebook. <br />On GitHub, the HTML representation is unable to render, please try loading this page with nbviewer.org.</b></div><div class=\"sk-container\" hidden><div class=\"sk-item\"><div class=\"sk-estimator sk-toggleable\"><input class=\"sk-toggleable__control sk-hidden--visually\" id=\"sk-estimator-id-32\" type=\"checkbox\" checked><label for=\"sk-estimator-id-32\" class=\"sk-toggleable__label sk-toggleable__label-arrow\">MultinomialNB</label><div class=\"sk-toggleable__content\"><pre>MultinomialNB(force_alpha=True)</pre></div></div></div></div></div>"
      ],
      "text/plain": [
       "MultinomialNB(force_alpha=True)"
      ]
     },
     "execution_count": 347,
     "metadata": {},
     "output_type": "execute_result"
    }
   ],
   "source": [
    "from sklearn.naive_bayes import MultinomialNB\n",
    "MN_NB = MultinomialNB(force_alpha=True)\n",
    "MN_NB.fit(X, Y)\n",
    "MultinomialNB(force_alpha=True)"
   ]
  },
  {
   "cell_type": "code",
   "execution_count": 348,
   "id": "b6a77f66",
   "metadata": {},
   "outputs": [
    {
     "data": {
      "text/plain": [
       "array([2, 1, 0, 2, 0, 2, 0, 1, 1, 1, 2, 1, 1, 1, 1, 0, 1, 2, 0, 0, 2, 2,\n",
       "       0, 0, 2, 0, 0, 1, 2, 0], dtype=int64)"
      ]
     },
     "execution_count": 348,
     "metadata": {},
     "output_type": "execute_result"
    }
   ],
   "source": [
    "Y_pred_MNlearn = MN_NB.predict(X_test)\n",
    "Y_pred_MNlearn"
   ]
  },
  {
   "cell_type": "code",
   "execution_count": 349,
   "id": "6d93e4c2",
   "metadata": {},
   "outputs": [
    {
     "name": "stdout",
     "output_type": "stream",
     "text": [
      "Accuracy Score: 0.9\n"
     ]
    }
   ],
   "source": [
    "Accuracy_MNlearn = accuracy_score(Y_pred_MNlearn, Y_test)\n",
    "print('Accuracy Score:', Accuracy_MNlearn)"
   ]
  },
  {
   "cell_type": "markdown",
   "id": "69510149",
   "metadata": {
    "id": "69510149"
   },
   "source": [
    "### <font color = #27C3E5> 3.3: </font> <font color = #41EA46> Comparison (Scratch vs. Scikit-Learn) </font>"
   ]
  },
  {
   "cell_type": "code",
   "execution_count": 350,
   "id": "07eed802",
   "metadata": {
    "id": "07eed802",
    "outputId": "0c1c8043-0efb-4332-ac7f-6243a367df08",
    "tags": []
   },
   "outputs": [
    {
     "data": {
      "image/png": "[encoded data removed]",
      "text/plain": [
       "<Figure size 640x480 with 1 Axes>"
      ]
     },
     "metadata": {},
     "output_type": "display_data"
    }
   ],
   "source": [
    "accuracy = [Accuracy_Sklearn, Accuracy_Scratch, Accuracy_CtNB, Accuracy_BNlearn, Accuracy_CPlearn, Accuracy_MNlearn]\n",
    "label = [\"Sklearn\", \"Scratch\", \"CT\", \"BN\", \"CP\", \"MN\"]\n",
    "plt.bar(label, accuracy, color = ['blue', 'red', 'brown', 'purple', 'black', 'cyan'])\n",
    "plt.title(\"Model's Accuracy\")\n",
    "plt.xlabel(\"Naive Bayes\")\n",
    "plt.ylabel(\"Accuracy\")\n",
    "plt.show()"
   ]
  },
  {
   "cell_type": "markdown",
   "id": "6257e81a",
   "metadata": {
    "id": "6257e81a"
   },
   "source": [
    "Both result are Equal"
   ]
  },
  {
   "cell_type": "markdown",
   "id": "c671f223",
   "metadata": {
    "id": "c671f223"
   },
   "source": [
    "## <font color = #950CDF> Part 4: </font> <font color = #4854E8> Evaluate the Result </font>"
   ]
  },
  {
   "cell_type": "markdown",
   "id": "c6049136",
   "metadata": {
    "id": "c6049136"
   },
   "source": [
    "### <font color = #27C3E5> 4.1: </font> <font color = #41EA46> Confusion Matrix</font>"
   ]
  },
  {
   "cell_type": "code",
   "execution_count": 351,
   "id": "9671bd24",
   "metadata": {
    "id": "9671bd24",
    "outputId": "f440b106-5a6e-472a-e996-886b272ae02f",
    "tags": []
   },
   "outputs": [
    {
     "data": {
      "text/plain": [
       "<AxesSubplot:>"
      ]
     },
     "execution_count": 351,
     "metadata": {},
     "output_type": "execute_result"
    },
    {
     "data": {
      "image/png": "[encoded data removed]",
      "text/plain": [
       "<Figure size 640x480 with 2 Axes>"
      ]
     },
     "metadata": {},
     "output_type": "display_data"
    }
   ],
   "source": [
    "confusion_matrix_Scratch = np.array([[30, 0], [1, 29]])\n",
    "labels = np.asarray([[\"TN\", \"FP\"], [\"FN\", \"TP\"]])\n",
    "\n",
    "#[row, column]\n",
    "TP = confusion_matrix_Scratch[1, 1]        \n",
    "TN = confusion_matrix_Scratch[0, 0]           \n",
    "FP = confusion_matrix_Scratch[0, 1]           \n",
    "FN = confusion_matrix_Scratch[1, 0]\n",
    "\n",
    "group_names = ['TN','FP','FN','TP']\n",
    "\n",
    "group_counts = [\"{0:0.0f}\".format(value) for value in confusion_matrix_Scratch.flatten()]\n",
    "\n",
    "group_percentages = [\"{0:.2%}\".format(value) for value in confusion_matrix_Scratch.flatten()/np.sum(confusion_matrix_Scratch)]\n",
    "\n",
    "labels = [f\"{v1}\\n{v2}\\n{v3}\" for v1, v2, v3 in zip(group_names,group_counts,group_percentages)]\n",
    "\n",
    "labels = np.asarray(labels).reshape(2,2)\n",
    "\n",
    "sns.heatmap(confusion_matrix_Scratch, annot=labels, fmt='', cmap='Greens', annot_kws={\"size\": 16})"
   ]
  },
  {
   "cell_type": "markdown",
   "id": "8904540f",
   "metadata": {
    "id": "8904540f"
   },
   "source": [
    "### <font color = #27C3E5> 4.2: </font> <font color = #41EA46>  Evaluate the Results </font>"
   ]
  },
  {
   "cell_type": "markdown",
   "id": "45ee8a3d",
   "metadata": {
    "id": "45ee8a3d"
   },
   "source": [
    "#### <font color = blue>4.2.1: Calculate the Results"
   ]
  },
  {
   "cell_type": "code",
   "execution_count": 352,
   "id": "707e7224",
   "metadata": {
    "id": "707e7224",
    "outputId": "e2d11b58-402a-49ae-ed91-e8d66bc9a693",
    "tags": []
   },
   "outputs": [
    {
     "name": "stdout",
     "output_type": "stream",
     "text": [
      "Accuracy Score: 0.9666666666666667\n",
      "Precision Score: 0.9690476190476189\n",
      "True positive Rate: 0.9666666666666667\n",
      "False positive Rate 0.0\n",
      "F1 Score: 0.9657687991021324\n",
      "Specificity: 1.0\n",
      "Mean Absolute Error: 0.03333333333333333\n"
     ]
    }
   ],
   "source": [
    "# Accuracy Score\n",
    "Accuracy = accuracy_score(Y_pred_scratch, Y_test)\n",
    "print('Accuracy Score:', Accuracy) \n",
    "\n",
    "# Calculate precision for each class and then take the average\n",
    "Precision = precision_score(Y_test, Y_pred_scratch, average='weighted')\n",
    "print('Precision Score:', Precision) \n",
    "\n",
    "# Calculate recall for each class and then take the average\n",
    "TPR = recall_score(Y_test, Y_pred_scratch, average='weighted')\n",
    "print('True positive Rate:', TPR)      \n",
    "\n",
    "# False positive Rate (FPR)\n",
    "FPR = FP / float(TN + FP)\n",
    "print('False positive Rate', FPR)                       \n",
    "\n",
    "# Calculate the F1 score for each class and then take the weighted average\n",
    "F1 = f1_score(Y_test, Y_pred_scratch, average='weighted')\n",
    "print('F1 Score:', F1)               \n",
    "\n",
    "# Specificity\n",
    "Specificity = TN / (TN + FP)\n",
    "print('Specificity:', Specificity )                    \n",
    "\n",
    "# Mean Absolute Error\n",
    "Error = mean_absolute_error(Y_test, Y_pred_scratch)\n",
    "print('Mean Absolute Error:', Error)   "
   ]
  },
  {
   "cell_type": "markdown",
   "id": "77329e6d",
   "metadata": {
    "id": "77329e6d"
   },
   "source": [
    "#### <font color = blue>4.2.2: Visualize the Results"
   ]
  },
  {
   "cell_type": "code",
   "execution_count": 353,
   "id": "e4999429",
   "metadata": {
    "id": "e4999429",
    "outputId": "e5706c55-c9b0-4d81-efb7-47c27abdd17e",
    "tags": []
   },
   "outputs": [
    {
     "data": {
      "text/plain": [
       "<BarContainer object of 7 artists>"
      ]
     },
     "execution_count": 353,
     "metadata": {},
     "output_type": "execute_result"
    },
    {
     "data": {
      "image/png": "[encoded data removed]",
      "text/plain": [
       "<Figure size 1200x500 with 1 Axes>"
      ]
     },
     "metadata": {},
     "output_type": "display_data"
    }
   ],
   "source": [
    "plt.figure(figsize = (12, 5))\n",
    "\n",
    "result = [Accuracy, Precision, TPR, FPR, F1, Specificity, Error]\n",
    "label = [\"Accuracy\", \"Precision\", \"TPR\", \"FPR\", \"F-Score\", \"Specificity\", \"Error\"]\n",
    "colors=[ 'red', 'green', 'blue', 'darkgoldenrod', 'orange', 'purple', 'brown']\n",
    "\n",
    "plt.bar(label, result, color = colors, edgecolor='black')"
   ]
  },
  {
   "cell_type": "code",
   "execution_count": null,
   "id": "0a58610a-3a3f-4184-a76c-f2c233b9cc37",
   "metadata": {},
   "outputs": [],
   "source": []
  }
 ],
 "metadata": {
  "colab": {
   "provenance": []
  },
  "kernelspec": {
   "display_name": "Python 3 (ipykernel)",
   "language": "python",
   "name": "python3"
  },
  "language_info": {
   "codemirror_mode": {
    "name": "ipython",
    "version": 3
   },
   "file_extension": ".py",
   "mimetype": "text/x-python",
   "name": "python",
   "nbconvert_exporter": "python",
   "pygments_lexer": "ipython3",
   "version": "3.9.13"
  }
 },
 "nbformat": 4,
 "nbformat_minor": 5
}
