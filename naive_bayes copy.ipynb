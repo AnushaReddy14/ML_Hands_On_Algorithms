{
 "cells": [
  {
   "cell_type": "code",
   "execution_count": 137,
   "id": "72177051",
   "metadata": {},
   "outputs": [],
   "source": [
    "import pandas as pd\n",
    "\n",
    "data = pd.read_excel(r\"/Users/rohith/Desktop/Data Mining/NB/NB_dataset.xlsx\")"
   ]
  },
  {
   "cell_type": "code",
   "execution_count": 139,
   "id": "67132a3a",
   "metadata": {},
   "outputs": [],
   "source": [
    "data.fillna('=avg',inplace = True)\n",
    "data.drop(columns = 'Instance number',axis = 1, inplace = True)"
   ]
  },
  {
   "cell_type": "code",
   "execution_count": 140,
   "id": "0910fb88",
   "metadata": {
    "scrolled": true
   },
   "outputs": [
    {
     "data": {
      "text/html": [
       "<div>\n",
       "<style scoped>\n",
       "    .dataframe tbody tr th:only-of-type {\n",
       "        vertical-align: middle;\n",
       "    }\n",
       "\n",
       "    .dataframe tbody tr th {\n",
       "        vertical-align: top;\n",
       "    }\n",
       "\n",
       "    .dataframe thead th {\n",
       "        text-align: right;\n",
       "    }\n",
       "</style>\n",
       "<table border=\"1\" class=\"dataframe\">\n",
       "  <thead>\n",
       "    <tr style=\"text-align: right;\">\n",
       "      <th></th>\n",
       "      <th>Blood pressure (B)</th>\n",
       "      <th>Weight (W)</th>\n",
       "      <th>Family history (F)</th>\n",
       "      <th>Age (A)</th>\n",
       "      <th>Diabetes (D)</th>\n",
       "    </tr>\n",
       "  </thead>\n",
       "  <tbody>\n",
       "    <tr>\n",
       "      <th>0</th>\n",
       "      <td>=avg</td>\n",
       "      <td>&gt;avg</td>\n",
       "      <td>yes</td>\n",
       "      <td>&gt;50</td>\n",
       "      <td>yes</td>\n",
       "    </tr>\n",
       "    <tr>\n",
       "      <th>1</th>\n",
       "      <td>&lt;avg</td>\n",
       "      <td>=avg</td>\n",
       "      <td>yes</td>\n",
       "      <td>&lt;=50</td>\n",
       "      <td>no</td>\n",
       "    </tr>\n",
       "    <tr>\n",
       "      <th>2</th>\n",
       "      <td>&gt;avg</td>\n",
       "      <td>&gt;avg</td>\n",
       "      <td>no</td>\n",
       "      <td>&gt;50</td>\n",
       "      <td>yes</td>\n",
       "    </tr>\n",
       "    <tr>\n",
       "      <th>3</th>\n",
       "      <td>=avg</td>\n",
       "      <td>&gt;avg</td>\n",
       "      <td>yes</td>\n",
       "      <td>&gt;50</td>\n",
       "      <td>yes</td>\n",
       "    </tr>\n",
       "    <tr>\n",
       "      <th>4</th>\n",
       "      <td>&gt;avg</td>\n",
       "      <td>&gt;avg</td>\n",
       "      <td>yes</td>\n",
       "      <td>&gt;50</td>\n",
       "      <td>no</td>\n",
       "    </tr>\n",
       "  </tbody>\n",
       "</table>\n",
       "</div>"
      ],
      "text/plain": [
       "  Blood pressure (B) Weight (W) Family history (F) Age (A) Diabetes (D)\n",
       "0               =avg       >avg                yes     >50          yes\n",
       "1               <avg       =avg                yes    <=50           no\n",
       "2               >avg       >avg                 no     >50          yes\n",
       "3               =avg       >avg                yes     >50          yes\n",
       "4               >avg       >avg                yes     >50           no"
      ]
     },
     "execution_count": 140,
     "metadata": {},
     "output_type": "execute_result"
    }
   ],
   "source": [
    "data.head()"
   ]
  },
  {
   "cell_type": "code",
   "execution_count": 153,
   "id": "f9f1be14",
   "metadata": {},
   "outputs": [
    {
     "data": {
      "text/plain": [
       "Index(['Blood pressure (B)', 'Weight (W)', 'Family history (F)', 'Age (A)'], dtype='object')"
      ]
     },
     "execution_count": 153,
     "metadata": {},
     "output_type": "execute_result"
    }
   ],
   "source": [
    "data.columns[:-1]"
   ]
  },
  {
   "cell_type": "code",
   "execution_count": 77,
   "id": "4551fde3",
   "metadata": {},
   "outputs": [],
   "source": [
    "dict_data = {}\n",
    "output_items = data['Diabetes (D)']\n",
    "for i in data.columns:\n",
    "    if(i == 'Diabetes (D)'):\n",
    "        continue\n",
    "    dict_data[i]={}\n",
    "    items = set(data[i])\n",
    "    for j in items:\n",
    "        dict_data[i][j]={}\n",
    "        for k in output_items:\n",
    "            dict_data[i][j][k] = 0"
   ]
  },
  {
   "cell_type": "code",
   "execution_count": 78,
   "id": "d17a4600",
   "metadata": {},
   "outputs": [
    {
     "name": "stdout",
     "output_type": "stream",
     "text": [
      "{'Blood pressure (B)': {'<avg': {'yes': 0, 'no': 0}, '>avg': {'yes': 0, 'no': 0}, '=avg': {'yes': 0, 'no': 0}}, 'Weight (W)': {'<avg': {'yes': 0, 'no': 0}, '>avg': {'yes': 0, 'no': 0}, '=avg': {'yes': 0, 'no': 0}}, 'Family history (F)': {'yes': {'yes': 0, 'no': 0}, 'no': {'yes': 0, 'no': 0}}, 'Age (A)': {'<=50': {'yes': 0, 'no': 0}, '>50': {'yes': 0, 'no': 0}}}\n"
     ]
    }
   ],
   "source": [
    "print(dict_data)"
   ]
  },
  {
   "cell_type": "code",
   "execution_count": 79,
   "id": "cde3b490",
   "metadata": {},
   "outputs": [
    {
     "name": "stdout",
     "output_type": "stream",
     "text": [
      "{'Blood pressure (B)': {'<avg': {'yes': 0, 'no': 4}, '>avg': {'yes': 4, 'no': 4}, '=avg': {'yes': 5, 'no': 3}}, 'Weight (W)': {'<avg': {'yes': 0, 'no': 2}, '>avg': {'yes': 7, 'no': 4}, '=avg': {'yes': 2, 'no': 5}}, 'Family history (F)': {'yes': {'yes': 6, 'no': 4}, 'no': {'yes': 3, 'no': 7}}, 'Age (A)': {'<=50': {'yes': 2, 'no': 8}, '>50': {'yes': 7, 'no': 3}}}\n"
     ]
    }
   ],
   "source": [
    "for i in data.columns:\n",
    "    if(i == 'Diabetes (D)'):\n",
    "        continue\n",
    "    for j in range(data.shape[0]):\n",
    "        output_item = data['Diabetes (D)'][j]\n",
    "        column_item = data[i][j]\n",
    "        dict_data[i][column_item][output_item] += 1\n",
    "        \n",
    "print(dict_data)"
   ]
  },
  {
   "cell_type": "code",
   "execution_count": 80,
   "id": "62a5abc4",
   "metadata": {},
   "outputs": [
    {
     "name": "stdout",
     "output_type": "stream",
     "text": [
      "{'Diabetes (D)': {'yes': 9, 'no': 11}}\n"
     ]
    }
   ],
   "source": [
    "output_items = data['Diabetes (D)']\n",
    "output_dict={}\n",
    "output_dict['Diabetes (D)'] = {}\n",
    "for item in output_items:\n",
    "    output_dict['Diabetes (D)'][item] = 0\n",
    "\n",
    "\n",
    "for j in range(data.shape[0]):\n",
    "    output_item = data['Diabetes (D)'][j]\n",
    "    output_dict['Diabetes (D)'][output_item] += 1\n",
    "\n",
    "print(output_dict)"
   ]
  },
  {
   "cell_type": "code",
   "execution_count": 87,
   "id": "af85b6af",
   "metadata": {},
   "outputs": [
    {
     "data": {
      "text/plain": [
       "dict_keys(['yes', 'no'])"
      ]
     },
     "execution_count": 87,
     "metadata": {},
     "output_type": "execute_result"
    }
   ],
   "source": [
    "output_dict['Diabetes (D)'].keys()"
   ]
  },
  {
   "cell_type": "code",
   "execution_count": 88,
   "id": "34f9f0c5",
   "metadata": {},
   "outputs": [],
   "source": [
    "jprob_dict = {}\n",
    "output_items = data['Diabetes (D)']\n",
    "for i in data.columns:\n",
    "    if(i == 'Diabetes (D)'):\n",
    "        continue\n",
    "    jprob_dict[i]={}\n",
    "    items = set(data[i])\n",
    "    for j in items:\n",
    "        jprob_dict[i][j]={}\n",
    "        for k in output_items:\n",
    "            jprob_dict[i][j][k] = dict_data[i][j][k]/data.shape[0]\n",
    "            \n",
    "jprob_output_dict = {}\n",
    "jprob_output_dict['Diabetes (D)']={}\n",
    "for i in output_dict['Diabetes (D)'].keys():\n",
    "    jprob_output_dict['Diabetes (D)'][i] = output_dict['Diabetes (D)'][i]/data.shape[0]\n",
    "        "
   ]
  },
  {
   "cell_type": "code",
   "execution_count": 89,
   "id": "fc45c02e",
   "metadata": {},
   "outputs": [
    {
     "name": "stdout",
     "output_type": "stream",
     "text": [
      "{'Diabetes (D)': {'yes': 0.45, 'no': 0.55}}\n"
     ]
    }
   ],
   "source": [
    "print(jprob_output_dict)"
   ]
  },
  {
   "cell_type": "code",
   "execution_count": 56,
   "id": "b19801e4",
   "metadata": {},
   "outputs": [
    {
     "data": {
      "text/plain": [
       "{'Blood pressure (B)': {'<avg': {'yes': 0.0, 'no': 0.2},\n",
       "  '>avg': {'yes': 0.2, 'no': 0.2},\n",
       "  '=avg': {'yes': 0.25, 'no': 0.15}},\n",
       " 'Weight (W)': {'<avg': {'yes': 0.0, 'no': 0.1},\n",
       "  '>avg': {'yes': 0.35, 'no': 0.2},\n",
       "  '=avg': {'yes': 0.1, 'no': 0.25}},\n",
       " 'Family history (F)': {'yes': {'yes': 0.3, 'no': 0.2},\n",
       "  'no': {'yes': 0.15, 'no': 0.35}},\n",
       " 'Age (A)': {'<=50': {'yes': 0.1, 'no': 0.4},\n",
       "  '>50': {'yes': 0.35, 'no': 0.15}},\n",
       " 'Diabetes (D)': {'yes': {'yes': 0.45, 'no': 0.0},\n",
       "  'no': {'yes': 0.0, 'no': 0.55}}}"
      ]
     },
     "execution_count": 56,
     "metadata": {},
     "output_type": "execute_result"
    }
   ],
   "source": [
    "jprob_dict"
   ]
  },
  {
   "cell_type": "code",
   "execution_count": 90,
   "id": "a092d422",
   "metadata": {},
   "outputs": [
    {
     "name": "stdout",
     "output_type": "stream",
     "text": [
      "{'Blood pressure (B)': {'<avg': {'yes': 0.0, 'no': 0.36363636363636365}, '>avg': {'yes': 0.4444444444444445, 'no': 0.36363636363636365}, '=avg': {'yes': 0.5555555555555556, 'no': 0.2727272727272727}}, 'Weight (W)': {'<avg': {'yes': 0.0, 'no': 0.18181818181818182}, '>avg': {'yes': 0.7777777777777777, 'no': 0.36363636363636365}, '=avg': {'yes': 0.22222222222222224, 'no': 0.45454545454545453}}, 'Family history (F)': {'yes': {'yes': 0.6666666666666666, 'no': 0.36363636363636365}, 'no': {'yes': 0.3333333333333333, 'no': 0.6363636363636362}}, 'Age (A)': {'<=50': {'yes': 0.22222222222222224, 'no': 0.7272727272727273}, '>50': {'yes': 0.7777777777777777, 'no': 0.2727272727272727}}}\n"
     ]
    }
   ],
   "source": [
    "cprob_dict = {}\n",
    "output_items = data['Diabetes (D)']\n",
    "for i in data.columns:\n",
    "    if(i == 'Diabetes (D)'):\n",
    "        continue\n",
    "    cprob_dict[i]={}\n",
    "    items = set(data[i])\n",
    "    for j in items:\n",
    "        cprob_dict[i][j]={}\n",
    "        for k in output_items:\n",
    "            cprob_dict[i][j][k] = jprob_dict[i][j][k]/jprob_output_dict['Diabetes (D)'][k]\n",
    "            \n",
    "print(cprob_dict)"
   ]
  },
  {
   "cell_type": "code",
   "execution_count": 204,
   "id": "55c5cc06",
   "metadata": {},
   "outputs": [],
   "source": [
    "def output(data,features):\n",
    "    output_results=[]\n",
    "    for k in range(data.shape[0]):\n",
    "        yes_result = 1\n",
    "        no_result = 1\n",
    "        row_num = k\n",
    "        for i in features:\n",
    "            if(i == 'Diabetes (D)'):\n",
    "                continue\n",
    "            j = data[i][row_num]\n",
    "            print(j,end=\" \")\n",
    "            yes_result *= cprob_dict[i][j]['yes']\n",
    "            no_result *= cprob_dict[i][j]['no']\n",
    "        yes_result *= jprob_output_dict['Diabetes (D)']['yes']\n",
    "        no_result *= jprob_output_dict['Diabetes (D)']['no']\n",
    "        output = 'no'\n",
    "        if(yes_result > no_result):\n",
    "            output = 'yes'\n",
    "        output_results.append(output)\n",
    "        print(yes_result, no_result, output)\n",
    "    return output_results"
   ]
  },
  {
   "cell_type": "code",
   "execution_count": 205,
   "id": "29008de3",
   "metadata": {},
   "outputs": [
    {
     "name": "stdout",
     "output_type": "stream",
     "text": [
      "=avg >avg yes >50 0.10082304526748968 0.00540946656649136 yes\n",
      "<avg =avg yes <=50 0.0 0.024042073628850493 no\n",
      ">avg >avg no >50 0.04032921810699588 0.012622088655146505 yes\n",
      "=avg >avg yes >50 0.10082304526748968 0.00540946656649136 yes\n",
      ">avg >avg yes >50 0.08065843621399175 0.007212622088655148 yes\n",
      "=avg >avg yes <=50 0.02880658436213992 0.014425244177310295 yes\n",
      "<avg <avg yes <=50 0.0 0.009616829451540198 no\n",
      ">avg >avg no <=50 0.011522633744855966 0.033658903080390684 no\n",
      "<avg <avg no <=50 0.0 0.016829451540195342 no\n",
      "=avg >avg yes <=50 0.02880658436213992 0.014425244177310295 yes\n",
      ">avg =avg no >50 0.011522633744855966 0.01577761081893313 no\n",
      "=avg =avg yes >50 0.02880658436213992 0.0067618332081142 yes\n",
      ">avg >avg no >50 0.04032921810699588 0.012622088655146505 yes\n",
      "=avg =avg no <=50 0.004115226337448561 0.03155522163786626 no\n",
      "<avg =avg no >50 0.0 0.01577761081893313 no\n",
      "=avg >avg yes <=50 0.02880658436213992 0.014425244177310295 yes\n",
      ">avg =avg yes >50 0.023045267489711932 0.009015777610818934 yes\n",
      "=avg >avg no <=50 0.01440329218106996 0.025244177310293006 no\n",
      ">avg >avg no >50 0.04032921810699588 0.012622088655146505 yes\n",
      ">avg =avg no <=50 0.0032921810699588485 0.042073628850488355 no\n"
     ]
    }
   ],
   "source": [
    "output_results = output(data, data.columns)"
   ]
  },
  {
   "cell_type": "code",
   "execution_count": 134,
   "id": "be53dbac",
   "metadata": {},
   "outputs": [
    {
     "data": {
      "text/plain": [
       "0     yes\n",
       "1      no\n",
       "2     yes\n",
       "3     yes\n",
       "4      no\n",
       "5     yes\n",
       "6      no\n",
       "7      no\n",
       "8      no\n",
       "9      no\n",
       "10     no\n",
       "11    yes\n",
       "12    yes\n",
       "13     no\n",
       "14     no\n",
       "15    yes\n",
       "16    yes\n",
       "17     no\n",
       "18    yes\n",
       "19     no\n",
       "Name: Diabetes (D), dtype: object"
      ]
     },
     "execution_count": 134,
     "metadata": {},
     "output_type": "execute_result"
    }
   ],
   "source": [
    "data['Diabetes (D)']"
   ]
  },
  {
   "cell_type": "code",
   "execution_count": 135,
   "id": "a18be699",
   "metadata": {},
   "outputs": [
    {
     "name": "stdout",
     "output_type": "stream",
     "text": [
      "1 same\n",
      "2 same\n",
      "3 same\n",
      "4 same\n",
      "5 different\n",
      "6 same\n",
      "7 same\n",
      "8 same\n",
      "9 same\n",
      "10 different\n",
      "11 same\n",
      "12 same\n",
      "13 same\n",
      "14 same\n",
      "15 same\n",
      "16 same\n",
      "17 same\n",
      "18 same\n",
      "19 same\n",
      "20 same\n"
     ]
    }
   ],
   "source": [
    "for i in range(len(output_results)):\n",
    "    if(output_results[i] == data['Diabetes (D)'][i]):\n",
    "        print(i+1,'same')\n",
    "    else:\n",
    "        print(i+1,'different')"
   ]
  },
  {
   "cell_type": "code",
   "execution_count": 132,
   "id": "1dd01be8",
   "metadata": {},
   "outputs": [
    {
     "data": {
      "text/plain": [
       "['yes',\n",
       " 'no',\n",
       " 'yes',\n",
       " 'yes',\n",
       " 'yes',\n",
       " 'yes',\n",
       " 'no',\n",
       " 'no',\n",
       " 'no',\n",
       " 'yes',\n",
       " 'no',\n",
       " 'yes',\n",
       " 'yes',\n",
       " 'no',\n",
       " 'no',\n",
       " 'yes',\n",
       " 'yes',\n",
       " 'no',\n",
       " 'yes',\n",
       " 'no']"
      ]
     },
     "execution_count": 132,
     "metadata": {},
     "output_type": "execute_result"
    }
   ],
   "source": [
    "output_results"
   ]
  },
  {
   "cell_type": "code",
   "execution_count": 192,
   "id": "54ca0d1d",
   "metadata": {},
   "outputs": [],
   "source": [
    "test_data = pd.read_excel(r\"/Users/rohith/Desktop/Data Mining/NB/Naive_Bayes_test.xlsx\")"
   ]
  },
  {
   "cell_type": "code",
   "execution_count": 193,
   "id": "6d68ba46",
   "metadata": {},
   "outputs": [
    {
     "data": {
      "text/plain": [
       "Index(['Blood pressure', 'Weight', 'Family history', 'Age', 'Diabetes'], dtype='object')"
      ]
     },
     "execution_count": 193,
     "metadata": {},
     "output_type": "execute_result"
    }
   ],
   "source": [
    "test_data.columns"
   ]
  },
  {
   "cell_type": "code",
   "execution_count": 194,
   "id": "229d667b",
   "metadata": {},
   "outputs": [],
   "source": [
    "test_data.fillna('=avg',inplace = True)\n",
    "test_data.drop(test_data.index[0],inplace=True)\n",
    "test_data.drop(columns = 'Diabetes',axis = 1, inplace = True)\n",
    "test_data.reset_index(inplace=True)"
   ]
  },
  {
   "cell_type": "code",
   "execution_count": 195,
   "id": "73a367bc",
   "metadata": {},
   "outputs": [],
   "source": [
    "test_data.drop(columns = 'index',axis = 1, inplace = True)"
   ]
  },
  {
   "cell_type": "code",
   "execution_count": 196,
   "id": "0dceb1f4",
   "metadata": {},
   "outputs": [
    {
     "data": {
      "text/html": [
       "<div>\n",
       "<style scoped>\n",
       "    .dataframe tbody tr th:only-of-type {\n",
       "        vertical-align: middle;\n",
       "    }\n",
       "\n",
       "    .dataframe tbody tr th {\n",
       "        vertical-align: top;\n",
       "    }\n",
       "\n",
       "    .dataframe thead th {\n",
       "        text-align: right;\n",
       "    }\n",
       "</style>\n",
       "<table border=\"1\" class=\"dataframe\">\n",
       "  <thead>\n",
       "    <tr style=\"text-align: right;\">\n",
       "      <th></th>\n",
       "      <th>Blood pressure</th>\n",
       "      <th>Weight</th>\n",
       "      <th>Family history</th>\n",
       "      <th>Age</th>\n",
       "    </tr>\n",
       "  </thead>\n",
       "  <tbody>\n",
       "    <tr>\n",
       "      <th>0</th>\n",
       "      <td>&gt;avg</td>\n",
       "      <td>&gt;avg</td>\n",
       "      <td>yes</td>\n",
       "      <td>&lt;50</td>\n",
       "    </tr>\n",
       "    <tr>\n",
       "      <th>1</th>\n",
       "      <td>=avg</td>\n",
       "      <td>=avg</td>\n",
       "      <td>no</td>\n",
       "      <td>&gt;50</td>\n",
       "    </tr>\n",
       "    <tr>\n",
       "      <th>2</th>\n",
       "      <td>&lt;avg</td>\n",
       "      <td>&lt;avg</td>\n",
       "      <td>no</td>\n",
       "      <td>&gt;50</td>\n",
       "    </tr>\n",
       "  </tbody>\n",
       "</table>\n",
       "</div>"
      ],
      "text/plain": [
       "  Blood pressure Weight Family history  Age\n",
       "0           >avg   >avg            yes  <50\n",
       "1           =avg   =avg             no  >50\n",
       "2           <avg   <avg             no  >50"
      ]
     },
     "execution_count": 196,
     "metadata": {},
     "output_type": "execute_result"
    }
   ],
   "source": [
    "test_data"
   ]
  },
  {
   "cell_type": "code",
   "execution_count": 197,
   "id": "fc5a9b17",
   "metadata": {},
   "outputs": [],
   "source": [
    "test_data.columns = dict_data.keys()"
   ]
  },
  {
   "cell_type": "code",
   "execution_count": 198,
   "id": "d3744be0",
   "metadata": {},
   "outputs": [
    {
     "data": {
      "text/html": [
       "<div>\n",
       "<style scoped>\n",
       "    .dataframe tbody tr th:only-of-type {\n",
       "        vertical-align: middle;\n",
       "    }\n",
       "\n",
       "    .dataframe tbody tr th {\n",
       "        vertical-align: top;\n",
       "    }\n",
       "\n",
       "    .dataframe thead th {\n",
       "        text-align: right;\n",
       "    }\n",
       "</style>\n",
       "<table border=\"1\" class=\"dataframe\">\n",
       "  <thead>\n",
       "    <tr style=\"text-align: right;\">\n",
       "      <th></th>\n",
       "      <th>Blood pressure (B)</th>\n",
       "      <th>Weight (W)</th>\n",
       "      <th>Family history (F)</th>\n",
       "      <th>Age (A)</th>\n",
       "    </tr>\n",
       "  </thead>\n",
       "  <tbody>\n",
       "    <tr>\n",
       "      <th>0</th>\n",
       "      <td>&gt;avg</td>\n",
       "      <td>&gt;avg</td>\n",
       "      <td>yes</td>\n",
       "      <td>&lt;50</td>\n",
       "    </tr>\n",
       "    <tr>\n",
       "      <th>1</th>\n",
       "      <td>=avg</td>\n",
       "      <td>=avg</td>\n",
       "      <td>no</td>\n",
       "      <td>&gt;50</td>\n",
       "    </tr>\n",
       "    <tr>\n",
       "      <th>2</th>\n",
       "      <td>&lt;avg</td>\n",
       "      <td>&lt;avg</td>\n",
       "      <td>no</td>\n",
       "      <td>&gt;50</td>\n",
       "    </tr>\n",
       "  </tbody>\n",
       "</table>\n",
       "</div>"
      ],
      "text/plain": [
       "  Blood pressure (B) Weight (W) Family history (F) Age (A)\n",
       "0               >avg       >avg                yes     <50\n",
       "1               =avg       =avg                 no     >50\n",
       "2               <avg       <avg                 no     >50"
      ]
     },
     "execution_count": 198,
     "metadata": {},
     "output_type": "execute_result"
    }
   ],
   "source": [
    "test_data"
   ]
  },
  {
   "cell_type": "code",
   "execution_count": 206,
   "id": "b780b8b8",
   "metadata": {},
   "outputs": [
    {
     "name": "stdout",
     "output_type": "stream",
     "text": [
      ">avg >avg yes <=50 0.023045267489711932 0.019233658903080396 yes\n",
      "=avg =avg no >50 0.01440329218106996 0.011833208114199849 yes\n",
      "<avg <avg no >50 0.0 0.006311044327573252 no\n"
     ]
    }
   ],
   "source": [
    "output_results = output(test_data, test_data.columns)"
   ]
  },
  {
   "cell_type": "code",
   "execution_count": 200,
   "id": "badc56b7",
   "metadata": {},
   "outputs": [],
   "source": [
    "test_data['Age (A)'][0] = '<=50'"
   ]
  },
  {
   "cell_type": "code",
   "execution_count": null,
   "id": "ecb69cb2",
   "metadata": {},
   "outputs": [],
   "source": []
  }
 ],
 "metadata": {
  "kernelspec": {
   "display_name": "Python 3 (ipykernel)",
   "language": "python",
   "name": "python3"
  },
  "language_info": {
   "codemirror_mode": {
    "name": "ipython",
    "version": 3
   },
   "file_extension": ".py",
   "mimetype": "text/x-python",
   "name": "python",
   "nbconvert_exporter": "python",
   "pygments_lexer": "ipython3",
   "version": "3.9.13"
  }
 },
 "nbformat": 4,
 "nbformat_minor": 5
}
