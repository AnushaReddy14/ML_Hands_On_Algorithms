{
 "cells": [
  {
   "cell_type": "code",
   "execution_count": 1,
   "id": "d3409c1b",
   "metadata": {},
   "outputs": [],
   "source": [
    "import pandas as pd"
   ]
  },
  {
   "cell_type": "code",
   "execution_count": 2,
   "id": "b0905aa0",
   "metadata": {},
   "outputs": [
    {
     "data": {
      "text/html": [
       "<div>\n",
       "<style scoped>\n",
       "    .dataframe tbody tr th:only-of-type {\n",
       "        vertical-align: middle;\n",
       "    }\n",
       "\n",
       "    .dataframe tbody tr th {\n",
       "        vertical-align: top;\n",
       "    }\n",
       "\n",
       "    .dataframe thead th {\n",
       "        text-align: right;\n",
       "    }\n",
       "</style>\n",
       "<table border=\"1\" class=\"dataframe\">\n",
       "  <thead>\n",
       "    <tr style=\"text-align: right;\">\n",
       "      <th></th>\n",
       "      <th>Instance</th>\n",
       "      <th>Known_class_label</th>\n",
       "      <th>Returned_probability</th>\n",
       "      <th>GE0</th>\n",
       "      <th>GE0.1</th>\n",
       "      <th>GE0.2</th>\n",
       "      <th>GE0.3</th>\n",
       "      <th>GE0.4</th>\n",
       "      <th>GE0.5</th>\n",
       "      <th>GE0.6</th>\n",
       "      <th>GE0.7</th>\n",
       "      <th>GE0.8</th>\n",
       "      <th>GE0.9</th>\n",
       "      <th>GE1.0</th>\n",
       "    </tr>\n",
       "  </thead>\n",
       "  <tbody>\n",
       "    <tr>\n",
       "      <th>0</th>\n",
       "      <td>NaN</td>\n",
       "      <td>NaN</td>\n",
       "      <td>NaN</td>\n",
       "      <td>NaN</td>\n",
       "      <td>NaN</td>\n",
       "      <td>NaN</td>\n",
       "      <td>NaN</td>\n",
       "      <td>NaN</td>\n",
       "      <td>NaN</td>\n",
       "      <td>NaN</td>\n",
       "      <td>NaN</td>\n",
       "      <td>NaN</td>\n",
       "      <td>NaN</td>\n",
       "      <td>NaN</td>\n",
       "    </tr>\n",
       "    <tr>\n",
       "      <th>1</th>\n",
       "      <td>1.0</td>\n",
       "      <td>1.0</td>\n",
       "      <td>0.42</td>\n",
       "      <td>1.0</td>\n",
       "      <td>1.0</td>\n",
       "      <td>1.0</td>\n",
       "      <td>1.0</td>\n",
       "      <td>1.0</td>\n",
       "      <td>0.0</td>\n",
       "      <td>0.0</td>\n",
       "      <td>0.0</td>\n",
       "      <td>0.0</td>\n",
       "      <td>0.0</td>\n",
       "      <td>0.0</td>\n",
       "    </tr>\n",
       "    <tr>\n",
       "      <th>2</th>\n",
       "      <td>2.0</td>\n",
       "      <td>1.0</td>\n",
       "      <td>0.18</td>\n",
       "      <td>1.0</td>\n",
       "      <td>1.0</td>\n",
       "      <td>0.0</td>\n",
       "      <td>0.0</td>\n",
       "      <td>0.0</td>\n",
       "      <td>0.0</td>\n",
       "      <td>0.0</td>\n",
       "      <td>0.0</td>\n",
       "      <td>0.0</td>\n",
       "      <td>0.0</td>\n",
       "      <td>0.0</td>\n",
       "    </tr>\n",
       "    <tr>\n",
       "      <th>3</th>\n",
       "      <td>3.0</td>\n",
       "      <td>0.0</td>\n",
       "      <td>0.36</td>\n",
       "      <td>1.0</td>\n",
       "      <td>1.0</td>\n",
       "      <td>1.0</td>\n",
       "      <td>1.0</td>\n",
       "      <td>0.0</td>\n",
       "      <td>0.0</td>\n",
       "      <td>0.0</td>\n",
       "      <td>0.0</td>\n",
       "      <td>0.0</td>\n",
       "      <td>0.0</td>\n",
       "      <td>0.0</td>\n",
       "    </tr>\n",
       "    <tr>\n",
       "      <th>4</th>\n",
       "      <td>4.0</td>\n",
       "      <td>0.0</td>\n",
       "      <td>0.63</td>\n",
       "      <td>1.0</td>\n",
       "      <td>1.0</td>\n",
       "      <td>1.0</td>\n",
       "      <td>1.0</td>\n",
       "      <td>1.0</td>\n",
       "      <td>1.0</td>\n",
       "      <td>1.0</td>\n",
       "      <td>0.0</td>\n",
       "      <td>0.0</td>\n",
       "      <td>0.0</td>\n",
       "      <td>0.0</td>\n",
       "    </tr>\n",
       "    <tr>\n",
       "      <th>5</th>\n",
       "      <td>5.0</td>\n",
       "      <td>1.0</td>\n",
       "      <td>0.15</td>\n",
       "      <td>1.0</td>\n",
       "      <td>1.0</td>\n",
       "      <td>0.0</td>\n",
       "      <td>0.0</td>\n",
       "      <td>0.0</td>\n",
       "      <td>0.0</td>\n",
       "      <td>0.0</td>\n",
       "      <td>0.0</td>\n",
       "      <td>0.0</td>\n",
       "      <td>0.0</td>\n",
       "      <td>0.0</td>\n",
       "    </tr>\n",
       "    <tr>\n",
       "      <th>6</th>\n",
       "      <td>6.0</td>\n",
       "      <td>1.0</td>\n",
       "      <td>0.55</td>\n",
       "      <td>1.0</td>\n",
       "      <td>1.0</td>\n",
       "      <td>1.0</td>\n",
       "      <td>1.0</td>\n",
       "      <td>1.0</td>\n",
       "      <td>1.0</td>\n",
       "      <td>0.0</td>\n",
       "      <td>0.0</td>\n",
       "      <td>0.0</td>\n",
       "      <td>0.0</td>\n",
       "      <td>0.0</td>\n",
       "    </tr>\n",
       "    <tr>\n",
       "      <th>7</th>\n",
       "      <td>7.0</td>\n",
       "      <td>0.0</td>\n",
       "      <td>0.65</td>\n",
       "      <td>1.0</td>\n",
       "      <td>1.0</td>\n",
       "      <td>1.0</td>\n",
       "      <td>1.0</td>\n",
       "      <td>1.0</td>\n",
       "      <td>1.0</td>\n",
       "      <td>1.0</td>\n",
       "      <td>0.0</td>\n",
       "      <td>0.0</td>\n",
       "      <td>0.0</td>\n",
       "      <td>0.0</td>\n",
       "    </tr>\n",
       "    <tr>\n",
       "      <th>8</th>\n",
       "      <td>8.0</td>\n",
       "      <td>0.0</td>\n",
       "      <td>0.75</td>\n",
       "      <td>1.0</td>\n",
       "      <td>1.0</td>\n",
       "      <td>1.0</td>\n",
       "      <td>1.0</td>\n",
       "      <td>1.0</td>\n",
       "      <td>1.0</td>\n",
       "      <td>1.0</td>\n",
       "      <td>1.0</td>\n",
       "      <td>0.0</td>\n",
       "      <td>0.0</td>\n",
       "      <td>0.0</td>\n",
       "    </tr>\n",
       "    <tr>\n",
       "      <th>9</th>\n",
       "      <td>9.0</td>\n",
       "      <td>1.0</td>\n",
       "      <td>0.22</td>\n",
       "      <td>1.0</td>\n",
       "      <td>1.0</td>\n",
       "      <td>1.0</td>\n",
       "      <td>0.0</td>\n",
       "      <td>0.0</td>\n",
       "      <td>0.0</td>\n",
       "      <td>0.0</td>\n",
       "      <td>0.0</td>\n",
       "      <td>0.0</td>\n",
       "      <td>0.0</td>\n",
       "      <td>0.0</td>\n",
       "    </tr>\n",
       "    <tr>\n",
       "      <th>10</th>\n",
       "      <td>10.0</td>\n",
       "      <td>1.0</td>\n",
       "      <td>0.33</td>\n",
       "      <td>1.0</td>\n",
       "      <td>1.0</td>\n",
       "      <td>1.0</td>\n",
       "      <td>1.0</td>\n",
       "      <td>0.0</td>\n",
       "      <td>0.0</td>\n",
       "      <td>0.0</td>\n",
       "      <td>0.0</td>\n",
       "      <td>0.0</td>\n",
       "      <td>0.0</td>\n",
       "      <td>0.0</td>\n",
       "    </tr>\n",
       "    <tr>\n",
       "      <th>11</th>\n",
       "      <td>11.0</td>\n",
       "      <td>0.0</td>\n",
       "      <td>0.79</td>\n",
       "      <td>1.0</td>\n",
       "      <td>1.0</td>\n",
       "      <td>1.0</td>\n",
       "      <td>1.0</td>\n",
       "      <td>1.0</td>\n",
       "      <td>1.0</td>\n",
       "      <td>1.0</td>\n",
       "      <td>1.0</td>\n",
       "      <td>0.0</td>\n",
       "      <td>0.0</td>\n",
       "      <td>0.0</td>\n",
       "    </tr>\n",
       "    <tr>\n",
       "      <th>12</th>\n",
       "      <td>12.0</td>\n",
       "      <td>0.0</td>\n",
       "      <td>0.44</td>\n",
       "      <td>1.0</td>\n",
       "      <td>1.0</td>\n",
       "      <td>1.0</td>\n",
       "      <td>1.0</td>\n",
       "      <td>1.0</td>\n",
       "      <td>0.0</td>\n",
       "      <td>0.0</td>\n",
       "      <td>0.0</td>\n",
       "      <td>0.0</td>\n",
       "      <td>0.0</td>\n",
       "      <td>0.0</td>\n",
       "    </tr>\n",
       "    <tr>\n",
       "      <th>13</th>\n",
       "      <td>13.0</td>\n",
       "      <td>1.0</td>\n",
       "      <td>0.11</td>\n",
       "      <td>1.0</td>\n",
       "      <td>1.0</td>\n",
       "      <td>0.0</td>\n",
       "      <td>0.0</td>\n",
       "      <td>0.0</td>\n",
       "      <td>0.0</td>\n",
       "      <td>0.0</td>\n",
       "      <td>0.0</td>\n",
       "      <td>0.0</td>\n",
       "      <td>0.0</td>\n",
       "      <td>0.0</td>\n",
       "    </tr>\n",
       "    <tr>\n",
       "      <th>14</th>\n",
       "      <td>14.0</td>\n",
       "      <td>1.0</td>\n",
       "      <td>0.58</td>\n",
       "      <td>1.0</td>\n",
       "      <td>1.0</td>\n",
       "      <td>1.0</td>\n",
       "      <td>1.0</td>\n",
       "      <td>1.0</td>\n",
       "      <td>1.0</td>\n",
       "      <td>0.0</td>\n",
       "      <td>0.0</td>\n",
       "      <td>0.0</td>\n",
       "      <td>0.0</td>\n",
       "      <td>0.0</td>\n",
       "    </tr>\n",
       "    <tr>\n",
       "      <th>15</th>\n",
       "      <td>15.0</td>\n",
       "      <td>0.0</td>\n",
       "      <td>0.51</td>\n",
       "      <td>1.0</td>\n",
       "      <td>1.0</td>\n",
       "      <td>1.0</td>\n",
       "      <td>1.0</td>\n",
       "      <td>1.0</td>\n",
       "      <td>1.0</td>\n",
       "      <td>0.0</td>\n",
       "      <td>0.0</td>\n",
       "      <td>0.0</td>\n",
       "      <td>0.0</td>\n",
       "      <td>0.0</td>\n",
       "    </tr>\n",
       "    <tr>\n",
       "      <th>16</th>\n",
       "      <td>16.0</td>\n",
       "      <td>0.0</td>\n",
       "      <td>0.66</td>\n",
       "      <td>1.0</td>\n",
       "      <td>1.0</td>\n",
       "      <td>1.0</td>\n",
       "      <td>1.0</td>\n",
       "      <td>1.0</td>\n",
       "      <td>1.0</td>\n",
       "      <td>1.0</td>\n",
       "      <td>0.0</td>\n",
       "      <td>0.0</td>\n",
       "      <td>0.0</td>\n",
       "      <td>0.0</td>\n",
       "    </tr>\n",
       "    <tr>\n",
       "      <th>17</th>\n",
       "      <td>17.0</td>\n",
       "      <td>1.0</td>\n",
       "      <td>0.44</td>\n",
       "      <td>1.0</td>\n",
       "      <td>1.0</td>\n",
       "      <td>1.0</td>\n",
       "      <td>1.0</td>\n",
       "      <td>1.0</td>\n",
       "      <td>0.0</td>\n",
       "      <td>0.0</td>\n",
       "      <td>0.0</td>\n",
       "      <td>0.0</td>\n",
       "      <td>0.0</td>\n",
       "      <td>0.0</td>\n",
       "    </tr>\n",
       "    <tr>\n",
       "      <th>18</th>\n",
       "      <td>18.0</td>\n",
       "      <td>1.0</td>\n",
       "      <td>0.77</td>\n",
       "      <td>1.0</td>\n",
       "      <td>1.0</td>\n",
       "      <td>1.0</td>\n",
       "      <td>1.0</td>\n",
       "      <td>1.0</td>\n",
       "      <td>1.0</td>\n",
       "      <td>1.0</td>\n",
       "      <td>1.0</td>\n",
       "      <td>0.0</td>\n",
       "      <td>0.0</td>\n",
       "      <td>0.0</td>\n",
       "    </tr>\n",
       "    <tr>\n",
       "      <th>19</th>\n",
       "      <td>19.0</td>\n",
       "      <td>0.0</td>\n",
       "      <td>0.88</td>\n",
       "      <td>1.0</td>\n",
       "      <td>1.0</td>\n",
       "      <td>1.0</td>\n",
       "      <td>1.0</td>\n",
       "      <td>1.0</td>\n",
       "      <td>1.0</td>\n",
       "      <td>1.0</td>\n",
       "      <td>1.0</td>\n",
       "      <td>1.0</td>\n",
       "      <td>0.0</td>\n",
       "      <td>0.0</td>\n",
       "    </tr>\n",
       "    <tr>\n",
       "      <th>20</th>\n",
       "      <td>20.0</td>\n",
       "      <td>0.0</td>\n",
       "      <td>0.99</td>\n",
       "      <td>1.0</td>\n",
       "      <td>1.0</td>\n",
       "      <td>1.0</td>\n",
       "      <td>1.0</td>\n",
       "      <td>1.0</td>\n",
       "      <td>1.0</td>\n",
       "      <td>1.0</td>\n",
       "      <td>1.0</td>\n",
       "      <td>1.0</td>\n",
       "      <td>1.0</td>\n",
       "      <td>0.0</td>\n",
       "    </tr>\n",
       "  </tbody>\n",
       "</table>\n",
       "</div>"
      ],
      "text/plain": [
       "    Instance  Known_class_label  Returned_probability  GE0  GE0.1  GE0.2  \\\n",
       "0        NaN                NaN                   NaN  NaN    NaN    NaN   \n",
       "1        1.0                1.0                  0.42  1.0    1.0    1.0   \n",
       "2        2.0                1.0                  0.18  1.0    1.0    0.0   \n",
       "3        3.0                0.0                  0.36  1.0    1.0    1.0   \n",
       "4        4.0                0.0                  0.63  1.0    1.0    1.0   \n",
       "5        5.0                1.0                  0.15  1.0    1.0    0.0   \n",
       "6        6.0                1.0                  0.55  1.0    1.0    1.0   \n",
       "7        7.0                0.0                  0.65  1.0    1.0    1.0   \n",
       "8        8.0                0.0                  0.75  1.0    1.0    1.0   \n",
       "9        9.0                1.0                  0.22  1.0    1.0    1.0   \n",
       "10      10.0                1.0                  0.33  1.0    1.0    1.0   \n",
       "11      11.0                0.0                  0.79  1.0    1.0    1.0   \n",
       "12      12.0                0.0                  0.44  1.0    1.0    1.0   \n",
       "13      13.0                1.0                  0.11  1.0    1.0    0.0   \n",
       "14      14.0                1.0                  0.58  1.0    1.0    1.0   \n",
       "15      15.0                0.0                  0.51  1.0    1.0    1.0   \n",
       "16      16.0                0.0                  0.66  1.0    1.0    1.0   \n",
       "17      17.0                1.0                  0.44  1.0    1.0    1.0   \n",
       "18      18.0                1.0                  0.77  1.0    1.0    1.0   \n",
       "19      19.0                0.0                  0.88  1.0    1.0    1.0   \n",
       "20      20.0                0.0                  0.99  1.0    1.0    1.0   \n",
       "\n",
       "    GE0.3  GE0.4  GE0.5  GE0.6  GE0.7  GE0.8  GE0.9  GE1.0  \n",
       "0     NaN    NaN    NaN    NaN    NaN    NaN    NaN    NaN  \n",
       "1     1.0    1.0    0.0    0.0    0.0    0.0    0.0    0.0  \n",
       "2     0.0    0.0    0.0    0.0    0.0    0.0    0.0    0.0  \n",
       "3     1.0    0.0    0.0    0.0    0.0    0.0    0.0    0.0  \n",
       "4     1.0    1.0    1.0    1.0    0.0    0.0    0.0    0.0  \n",
       "5     0.0    0.0    0.0    0.0    0.0    0.0    0.0    0.0  \n",
       "6     1.0    1.0    1.0    0.0    0.0    0.0    0.0    0.0  \n",
       "7     1.0    1.0    1.0    1.0    0.0    0.0    0.0    0.0  \n",
       "8     1.0    1.0    1.0    1.0    1.0    0.0    0.0    0.0  \n",
       "9     0.0    0.0    0.0    0.0    0.0    0.0    0.0    0.0  \n",
       "10    1.0    0.0    0.0    0.0    0.0    0.0    0.0    0.0  \n",
       "11    1.0    1.0    1.0    1.0    1.0    0.0    0.0    0.0  \n",
       "12    1.0    1.0    0.0    0.0    0.0    0.0    0.0    0.0  \n",
       "13    0.0    0.0    0.0    0.0    0.0    0.0    0.0    0.0  \n",
       "14    1.0    1.0    1.0    0.0    0.0    0.0    0.0    0.0  \n",
       "15    1.0    1.0    1.0    0.0    0.0    0.0    0.0    0.0  \n",
       "16    1.0    1.0    1.0    1.0    0.0    0.0    0.0    0.0  \n",
       "17    1.0    1.0    0.0    0.0    0.0    0.0    0.0    0.0  \n",
       "18    1.0    1.0    1.0    1.0    1.0    0.0    0.0    0.0  \n",
       "19    1.0    1.0    1.0    1.0    1.0    1.0    0.0    0.0  \n",
       "20    1.0    1.0    1.0    1.0    1.0    1.0    1.0    0.0  "
      ]
     },
     "execution_count": 2,
     "metadata": {},
     "output_type": "execute_result"
    }
   ],
   "source": [
    "data = pd.read_csv(\"Probability.csv\")\n",
    "data"
   ]
  },
  {
   "cell_type": "code",
   "execution_count": 3,
   "id": "5ff71df1",
   "metadata": {},
   "outputs": [
    {
     "data": {
      "text/html": [
       "<div>\n",
       "<style scoped>\n",
       "    .dataframe tbody tr th:only-of-type {\n",
       "        vertical-align: middle;\n",
       "    }\n",
       "\n",
       "    .dataframe tbody tr th {\n",
       "        vertical-align: top;\n",
       "    }\n",
       "\n",
       "    .dataframe thead th {\n",
       "        text-align: right;\n",
       "    }\n",
       "</style>\n",
       "<table border=\"1\" class=\"dataframe\">\n",
       "  <thead>\n",
       "    <tr style=\"text-align: right;\">\n",
       "      <th></th>\n",
       "      <th>Instance</th>\n",
       "      <th>Known_class_label</th>\n",
       "      <th>Returned_probability</th>\n",
       "      <th>GE0</th>\n",
       "      <th>GE0.1</th>\n",
       "      <th>GE0.2</th>\n",
       "      <th>GE0.3</th>\n",
       "      <th>GE0.4</th>\n",
       "      <th>GE0.5</th>\n",
       "      <th>GE0.6</th>\n",
       "      <th>GE0.7</th>\n",
       "      <th>GE0.8</th>\n",
       "      <th>GE0.9</th>\n",
       "      <th>GE1.0</th>\n",
       "    </tr>\n",
       "  </thead>\n",
       "  <tbody>\n",
       "    <tr>\n",
       "      <th>1</th>\n",
       "      <td>1.0</td>\n",
       "      <td>1.0</td>\n",
       "      <td>0.42</td>\n",
       "      <td>1.0</td>\n",
       "      <td>1.0</td>\n",
       "      <td>1.0</td>\n",
       "      <td>1.0</td>\n",
       "      <td>1.0</td>\n",
       "      <td>0.0</td>\n",
       "      <td>0.0</td>\n",
       "      <td>0.0</td>\n",
       "      <td>0.0</td>\n",
       "      <td>0.0</td>\n",
       "      <td>0.0</td>\n",
       "    </tr>\n",
       "    <tr>\n",
       "      <th>2</th>\n",
       "      <td>2.0</td>\n",
       "      <td>1.0</td>\n",
       "      <td>0.18</td>\n",
       "      <td>1.0</td>\n",
       "      <td>1.0</td>\n",
       "      <td>0.0</td>\n",
       "      <td>0.0</td>\n",
       "      <td>0.0</td>\n",
       "      <td>0.0</td>\n",
       "      <td>0.0</td>\n",
       "      <td>0.0</td>\n",
       "      <td>0.0</td>\n",
       "      <td>0.0</td>\n",
       "      <td>0.0</td>\n",
       "    </tr>\n",
       "    <tr>\n",
       "      <th>3</th>\n",
       "      <td>3.0</td>\n",
       "      <td>0.0</td>\n",
       "      <td>0.36</td>\n",
       "      <td>1.0</td>\n",
       "      <td>1.0</td>\n",
       "      <td>1.0</td>\n",
       "      <td>1.0</td>\n",
       "      <td>0.0</td>\n",
       "      <td>0.0</td>\n",
       "      <td>0.0</td>\n",
       "      <td>0.0</td>\n",
       "      <td>0.0</td>\n",
       "      <td>0.0</td>\n",
       "      <td>0.0</td>\n",
       "    </tr>\n",
       "    <tr>\n",
       "      <th>4</th>\n",
       "      <td>4.0</td>\n",
       "      <td>0.0</td>\n",
       "      <td>0.63</td>\n",
       "      <td>1.0</td>\n",
       "      <td>1.0</td>\n",
       "      <td>1.0</td>\n",
       "      <td>1.0</td>\n",
       "      <td>1.0</td>\n",
       "      <td>1.0</td>\n",
       "      <td>1.0</td>\n",
       "      <td>0.0</td>\n",
       "      <td>0.0</td>\n",
       "      <td>0.0</td>\n",
       "      <td>0.0</td>\n",
       "    </tr>\n",
       "    <tr>\n",
       "      <th>5</th>\n",
       "      <td>5.0</td>\n",
       "      <td>1.0</td>\n",
       "      <td>0.15</td>\n",
       "      <td>1.0</td>\n",
       "      <td>1.0</td>\n",
       "      <td>0.0</td>\n",
       "      <td>0.0</td>\n",
       "      <td>0.0</td>\n",
       "      <td>0.0</td>\n",
       "      <td>0.0</td>\n",
       "      <td>0.0</td>\n",
       "      <td>0.0</td>\n",
       "      <td>0.0</td>\n",
       "      <td>0.0</td>\n",
       "    </tr>\n",
       "    <tr>\n",
       "      <th>6</th>\n",
       "      <td>6.0</td>\n",
       "      <td>1.0</td>\n",
       "      <td>0.55</td>\n",
       "      <td>1.0</td>\n",
       "      <td>1.0</td>\n",
       "      <td>1.0</td>\n",
       "      <td>1.0</td>\n",
       "      <td>1.0</td>\n",
       "      <td>1.0</td>\n",
       "      <td>0.0</td>\n",
       "      <td>0.0</td>\n",
       "      <td>0.0</td>\n",
       "      <td>0.0</td>\n",
       "      <td>0.0</td>\n",
       "    </tr>\n",
       "    <tr>\n",
       "      <th>7</th>\n",
       "      <td>7.0</td>\n",
       "      <td>0.0</td>\n",
       "      <td>0.65</td>\n",
       "      <td>1.0</td>\n",
       "      <td>1.0</td>\n",
       "      <td>1.0</td>\n",
       "      <td>1.0</td>\n",
       "      <td>1.0</td>\n",
       "      <td>1.0</td>\n",
       "      <td>1.0</td>\n",
       "      <td>0.0</td>\n",
       "      <td>0.0</td>\n",
       "      <td>0.0</td>\n",
       "      <td>0.0</td>\n",
       "    </tr>\n",
       "    <tr>\n",
       "      <th>8</th>\n",
       "      <td>8.0</td>\n",
       "      <td>0.0</td>\n",
       "      <td>0.75</td>\n",
       "      <td>1.0</td>\n",
       "      <td>1.0</td>\n",
       "      <td>1.0</td>\n",
       "      <td>1.0</td>\n",
       "      <td>1.0</td>\n",
       "      <td>1.0</td>\n",
       "      <td>1.0</td>\n",
       "      <td>1.0</td>\n",
       "      <td>0.0</td>\n",
       "      <td>0.0</td>\n",
       "      <td>0.0</td>\n",
       "    </tr>\n",
       "    <tr>\n",
       "      <th>9</th>\n",
       "      <td>9.0</td>\n",
       "      <td>1.0</td>\n",
       "      <td>0.22</td>\n",
       "      <td>1.0</td>\n",
       "      <td>1.0</td>\n",
       "      <td>1.0</td>\n",
       "      <td>0.0</td>\n",
       "      <td>0.0</td>\n",
       "      <td>0.0</td>\n",
       "      <td>0.0</td>\n",
       "      <td>0.0</td>\n",
       "      <td>0.0</td>\n",
       "      <td>0.0</td>\n",
       "      <td>0.0</td>\n",
       "    </tr>\n",
       "    <tr>\n",
       "      <th>10</th>\n",
       "      <td>10.0</td>\n",
       "      <td>1.0</td>\n",
       "      <td>0.33</td>\n",
       "      <td>1.0</td>\n",
       "      <td>1.0</td>\n",
       "      <td>1.0</td>\n",
       "      <td>1.0</td>\n",
       "      <td>0.0</td>\n",
       "      <td>0.0</td>\n",
       "      <td>0.0</td>\n",
       "      <td>0.0</td>\n",
       "      <td>0.0</td>\n",
       "      <td>0.0</td>\n",
       "      <td>0.0</td>\n",
       "    </tr>\n",
       "    <tr>\n",
       "      <th>11</th>\n",
       "      <td>11.0</td>\n",
       "      <td>0.0</td>\n",
       "      <td>0.79</td>\n",
       "      <td>1.0</td>\n",
       "      <td>1.0</td>\n",
       "      <td>1.0</td>\n",
       "      <td>1.0</td>\n",
       "      <td>1.0</td>\n",
       "      <td>1.0</td>\n",
       "      <td>1.0</td>\n",
       "      <td>1.0</td>\n",
       "      <td>0.0</td>\n",
       "      <td>0.0</td>\n",
       "      <td>0.0</td>\n",
       "    </tr>\n",
       "    <tr>\n",
       "      <th>12</th>\n",
       "      <td>12.0</td>\n",
       "      <td>0.0</td>\n",
       "      <td>0.44</td>\n",
       "      <td>1.0</td>\n",
       "      <td>1.0</td>\n",
       "      <td>1.0</td>\n",
       "      <td>1.0</td>\n",
       "      <td>1.0</td>\n",
       "      <td>0.0</td>\n",
       "      <td>0.0</td>\n",
       "      <td>0.0</td>\n",
       "      <td>0.0</td>\n",
       "      <td>0.0</td>\n",
       "      <td>0.0</td>\n",
       "    </tr>\n",
       "    <tr>\n",
       "      <th>13</th>\n",
       "      <td>13.0</td>\n",
       "      <td>1.0</td>\n",
       "      <td>0.11</td>\n",
       "      <td>1.0</td>\n",
       "      <td>1.0</td>\n",
       "      <td>0.0</td>\n",
       "      <td>0.0</td>\n",
       "      <td>0.0</td>\n",
       "      <td>0.0</td>\n",
       "      <td>0.0</td>\n",
       "      <td>0.0</td>\n",
       "      <td>0.0</td>\n",
       "      <td>0.0</td>\n",
       "      <td>0.0</td>\n",
       "    </tr>\n",
       "    <tr>\n",
       "      <th>14</th>\n",
       "      <td>14.0</td>\n",
       "      <td>1.0</td>\n",
       "      <td>0.58</td>\n",
       "      <td>1.0</td>\n",
       "      <td>1.0</td>\n",
       "      <td>1.0</td>\n",
       "      <td>1.0</td>\n",
       "      <td>1.0</td>\n",
       "      <td>1.0</td>\n",
       "      <td>0.0</td>\n",
       "      <td>0.0</td>\n",
       "      <td>0.0</td>\n",
       "      <td>0.0</td>\n",
       "      <td>0.0</td>\n",
       "    </tr>\n",
       "    <tr>\n",
       "      <th>15</th>\n",
       "      <td>15.0</td>\n",
       "      <td>0.0</td>\n",
       "      <td>0.51</td>\n",
       "      <td>1.0</td>\n",
       "      <td>1.0</td>\n",
       "      <td>1.0</td>\n",
       "      <td>1.0</td>\n",
       "      <td>1.0</td>\n",
       "      <td>1.0</td>\n",
       "      <td>0.0</td>\n",
       "      <td>0.0</td>\n",
       "      <td>0.0</td>\n",
       "      <td>0.0</td>\n",
       "      <td>0.0</td>\n",
       "    </tr>\n",
       "    <tr>\n",
       "      <th>16</th>\n",
       "      <td>16.0</td>\n",
       "      <td>0.0</td>\n",
       "      <td>0.66</td>\n",
       "      <td>1.0</td>\n",
       "      <td>1.0</td>\n",
       "      <td>1.0</td>\n",
       "      <td>1.0</td>\n",
       "      <td>1.0</td>\n",
       "      <td>1.0</td>\n",
       "      <td>1.0</td>\n",
       "      <td>0.0</td>\n",
       "      <td>0.0</td>\n",
       "      <td>0.0</td>\n",
       "      <td>0.0</td>\n",
       "    </tr>\n",
       "    <tr>\n",
       "      <th>17</th>\n",
       "      <td>17.0</td>\n",
       "      <td>1.0</td>\n",
       "      <td>0.44</td>\n",
       "      <td>1.0</td>\n",
       "      <td>1.0</td>\n",
       "      <td>1.0</td>\n",
       "      <td>1.0</td>\n",
       "      <td>1.0</td>\n",
       "      <td>0.0</td>\n",
       "      <td>0.0</td>\n",
       "      <td>0.0</td>\n",
       "      <td>0.0</td>\n",
       "      <td>0.0</td>\n",
       "      <td>0.0</td>\n",
       "    </tr>\n",
       "    <tr>\n",
       "      <th>18</th>\n",
       "      <td>18.0</td>\n",
       "      <td>1.0</td>\n",
       "      <td>0.77</td>\n",
       "      <td>1.0</td>\n",
       "      <td>1.0</td>\n",
       "      <td>1.0</td>\n",
       "      <td>1.0</td>\n",
       "      <td>1.0</td>\n",
       "      <td>1.0</td>\n",
       "      <td>1.0</td>\n",
       "      <td>1.0</td>\n",
       "      <td>0.0</td>\n",
       "      <td>0.0</td>\n",
       "      <td>0.0</td>\n",
       "    </tr>\n",
       "    <tr>\n",
       "      <th>19</th>\n",
       "      <td>19.0</td>\n",
       "      <td>0.0</td>\n",
       "      <td>0.88</td>\n",
       "      <td>1.0</td>\n",
       "      <td>1.0</td>\n",
       "      <td>1.0</td>\n",
       "      <td>1.0</td>\n",
       "      <td>1.0</td>\n",
       "      <td>1.0</td>\n",
       "      <td>1.0</td>\n",
       "      <td>1.0</td>\n",
       "      <td>1.0</td>\n",
       "      <td>0.0</td>\n",
       "      <td>0.0</td>\n",
       "    </tr>\n",
       "    <tr>\n",
       "      <th>20</th>\n",
       "      <td>20.0</td>\n",
       "      <td>0.0</td>\n",
       "      <td>0.99</td>\n",
       "      <td>1.0</td>\n",
       "      <td>1.0</td>\n",
       "      <td>1.0</td>\n",
       "      <td>1.0</td>\n",
       "      <td>1.0</td>\n",
       "      <td>1.0</td>\n",
       "      <td>1.0</td>\n",
       "      <td>1.0</td>\n",
       "      <td>1.0</td>\n",
       "      <td>1.0</td>\n",
       "      <td>0.0</td>\n",
       "    </tr>\n",
       "  </tbody>\n",
       "</table>\n",
       "</div>"
      ],
      "text/plain": [
       "    Instance  Known_class_label  Returned_probability  GE0  GE0.1  GE0.2  \\\n",
       "1        1.0                1.0                  0.42  1.0    1.0    1.0   \n",
       "2        2.0                1.0                  0.18  1.0    1.0    0.0   \n",
       "3        3.0                0.0                  0.36  1.0    1.0    1.0   \n",
       "4        4.0                0.0                  0.63  1.0    1.0    1.0   \n",
       "5        5.0                1.0                  0.15  1.0    1.0    0.0   \n",
       "6        6.0                1.0                  0.55  1.0    1.0    1.0   \n",
       "7        7.0                0.0                  0.65  1.0    1.0    1.0   \n",
       "8        8.0                0.0                  0.75  1.0    1.0    1.0   \n",
       "9        9.0                1.0                  0.22  1.0    1.0    1.0   \n",
       "10      10.0                1.0                  0.33  1.0    1.0    1.0   \n",
       "11      11.0                0.0                  0.79  1.0    1.0    1.0   \n",
       "12      12.0                0.0                  0.44  1.0    1.0    1.0   \n",
       "13      13.0                1.0                  0.11  1.0    1.0    0.0   \n",
       "14      14.0                1.0                  0.58  1.0    1.0    1.0   \n",
       "15      15.0                0.0                  0.51  1.0    1.0    1.0   \n",
       "16      16.0                0.0                  0.66  1.0    1.0    1.0   \n",
       "17      17.0                1.0                  0.44  1.0    1.0    1.0   \n",
       "18      18.0                1.0                  0.77  1.0    1.0    1.0   \n",
       "19      19.0                0.0                  0.88  1.0    1.0    1.0   \n",
       "20      20.0                0.0                  0.99  1.0    1.0    1.0   \n",
       "\n",
       "    GE0.3  GE0.4  GE0.5  GE0.6  GE0.7  GE0.8  GE0.9  GE1.0  \n",
       "1     1.0    1.0    0.0    0.0    0.0    0.0    0.0    0.0  \n",
       "2     0.0    0.0    0.0    0.0    0.0    0.0    0.0    0.0  \n",
       "3     1.0    0.0    0.0    0.0    0.0    0.0    0.0    0.0  \n",
       "4     1.0    1.0    1.0    1.0    0.0    0.0    0.0    0.0  \n",
       "5     0.0    0.0    0.0    0.0    0.0    0.0    0.0    0.0  \n",
       "6     1.0    1.0    1.0    0.0    0.0    0.0    0.0    0.0  \n",
       "7     1.0    1.0    1.0    1.0    0.0    0.0    0.0    0.0  \n",
       "8     1.0    1.0    1.0    1.0    1.0    0.0    0.0    0.0  \n",
       "9     0.0    0.0    0.0    0.0    0.0    0.0    0.0    0.0  \n",
       "10    1.0    0.0    0.0    0.0    0.0    0.0    0.0    0.0  \n",
       "11    1.0    1.0    1.0    1.0    1.0    0.0    0.0    0.0  \n",
       "12    1.0    1.0    0.0    0.0    0.0    0.0    0.0    0.0  \n",
       "13    0.0    0.0    0.0    0.0    0.0    0.0    0.0    0.0  \n",
       "14    1.0    1.0    1.0    0.0    0.0    0.0    0.0    0.0  \n",
       "15    1.0    1.0    1.0    0.0    0.0    0.0    0.0    0.0  \n",
       "16    1.0    1.0    1.0    1.0    0.0    0.0    0.0    0.0  \n",
       "17    1.0    1.0    0.0    0.0    0.0    0.0    0.0    0.0  \n",
       "18    1.0    1.0    1.0    1.0    1.0    0.0    0.0    0.0  \n",
       "19    1.0    1.0    1.0    1.0    1.0    1.0    0.0    0.0  \n",
       "20    1.0    1.0    1.0    1.0    1.0    1.0    1.0    0.0  "
      ]
     },
     "execution_count": 3,
     "metadata": {},
     "output_type": "execute_result"
    }
   ],
   "source": [
    "df = data.drop(index=0)\n",
    "df"
   ]
  },
  {
   "cell_type": "code",
   "execution_count": 4,
   "id": "130d3aea",
   "metadata": {},
   "outputs": [],
   "source": [
    "from sklearn.metrics import confusion_matrix\n",
    "from sklearn import metrics\n",
    "from sklearn.metrics import precision_score\n",
    "from sklearn.metrics import recall_score\n",
    "from sklearn.metrics import f1_score\n",
    "TPR = []\n",
    "FPR = []"
   ]
  },
  {
   "cell_type": "markdown",
   "id": "9da84fda",
   "metadata": {},
   "source": [
    "# >=0"
   ]
  },
  {
   "cell_type": "code",
   "execution_count": 5,
   "id": "4ead330f",
   "metadata": {},
   "outputs": [],
   "source": [
    "y_test = df['Known_class_label']\n",
    "y_predict = df['GE0']"
   ]
  },
  {
   "cell_type": "code",
   "execution_count": 6,
   "id": "ae462401",
   "metadata": {},
   "outputs": [
    {
     "name": "stdout",
     "output_type": "stream",
     "text": [
      "True Positive (TP) =  10\n",
      "True Negative (TN) =  0\n",
      "False Positive (FP) =  10\n",
      "False Negative (FN) =  0\n"
     ]
    }
   ],
   "source": [
    "from sklearn.metrics import confusion_matrix\n",
    "\n",
    "confusion_matrix_values = confusion_matrix(y_test, y_predict)\n",
    "\n",
    "# Extracting TP, TN, FP, and FN from the confusion matrix\n",
    "TN = confusion_matrix_values[0, 0]\n",
    "TP = confusion_matrix_values[1, 1]\n",
    "FP = confusion_matrix_values[0, 1]\n",
    "FN = confusion_matrix_values[1, 0]\n",
    "\n",
    "print(\"True Positive (TP) = \", TP)\n",
    "print(\"True Negative (TN) = \", TN)\n",
    "print(\"False Positive (FP) = \", FP)\n",
    "print(\"False Negative (FN) = \", FN)"
   ]
  },
  {
   "cell_type": "markdown",
   "id": "4cdb7207",
   "metadata": {},
   "source": [
    "TPR, FPR, Accuracy, Precision, Recall, F1_Score"
   ]
  },
  {
   "cell_type": "code",
   "execution_count": 7,
   "id": "de531fba",
   "metadata": {},
   "outputs": [
    {
     "name": "stdout",
     "output_type": "stream",
     "text": [
      "TPR =  1.0\n",
      "FPR =  1.0\n"
     ]
    }
   ],
   "source": [
    "TPR = TP/(TP+FN)\n",
    "FPR = FP/(FP+TN)\n",
    "print(\"TPR = \",TPR)\n",
    "print(\"FPR = \",FPR)"
   ]
  },
  {
   "cell_type": "code",
   "execution_count": 8,
   "id": "9161f0cf",
   "metadata": {},
   "outputs": [
    {
     "name": "stdout",
     "output_type": "stream",
     "text": [
      "Accuracy =  0.5\n",
      "Precision =  0.5\n",
      "Recall =  1.0\n",
      "F1_Score =  0.6666666666666666\n"
     ]
    }
   ],
   "source": [
    "Accuracy = metrics.accuracy_score(y_test, y_predict)\n",
    "print(\"Accuracy = \",Accuracy)\n",
    "precision = precision_score(y_test,y_predict,pos_label=1.0)\n",
    "print(\"Precision = \",precision)\n",
    "recall = recall_score(y_test,y_predict,pos_label=1.0)\n",
    "print(\"Recall = \",recall)\n",
    "F1_Score = f1_score(y_test,y_predict,pos_label=1.0)\n",
    "print(\"F1_Score = \",F1_Score)"
   ]
  },
  {
   "cell_type": "markdown",
   "id": "9c1743ea",
   "metadata": {},
   "source": [
    "# >=0.1"
   ]
  },
  {
   "cell_type": "code",
   "execution_count": 9,
   "id": "8b6daea2",
   "metadata": {},
   "outputs": [],
   "source": [
    "y_test = df['Known_class_label']\n",
    "y_predict = df['GE0.1']"
   ]
  },
  {
   "cell_type": "code",
   "execution_count": 10,
   "id": "29384072",
   "metadata": {},
   "outputs": [
    {
     "name": "stdout",
     "output_type": "stream",
     "text": [
      "True Positive (TP) =  10\n",
      "True Negative (TN) =  0\n",
      "False Positive (FP) =  10\n",
      "False Negative (FN) =  0\n"
     ]
    }
   ],
   "source": [
    "from sklearn.metrics import confusion_matrix\n",
    "\n",
    "confusion_matrix_values = confusion_matrix(y_test, y_predict)\n",
    "\n",
    "# Extracting TP, TN, FP, and FN from the confusion matrix\n",
    "TN = confusion_matrix_values[0, 0]\n",
    "TP = confusion_matrix_values[1, 1]\n",
    "FP = confusion_matrix_values[0, 1]\n",
    "FN = confusion_matrix_values[1, 0]\n",
    "\n",
    "print(\"True Positive (TP) = \", TP)\n",
    "print(\"True Negative (TN) = \", TN)\n",
    "print(\"False Positive (FP) = \", FP)\n",
    "print(\"False Negative (FN) = \", FN)"
   ]
  },
  {
   "cell_type": "markdown",
   "id": "49dc80bc",
   "metadata": {},
   "source": [
    "TPR, FPR, Accuracy, Precision, Recall, F1_Score"
   ]
  },
  {
   "cell_type": "code",
   "execution_count": 11,
   "id": "7a729ac0",
   "metadata": {},
   "outputs": [
    {
     "name": "stdout",
     "output_type": "stream",
     "text": [
      "TPR =  1.0\n",
      "FPR =  1.0\n"
     ]
    }
   ],
   "source": [
    "TPR = TP/(TP+FN)\n",
    "FPR = FP/(FP+TN)\n",
    "print(\"TPR = \",TPR)\n",
    "print(\"FPR = \",FPR)"
   ]
  },
  {
   "cell_type": "code",
   "execution_count": 12,
   "id": "d8d32b8b",
   "metadata": {},
   "outputs": [
    {
     "name": "stdout",
     "output_type": "stream",
     "text": [
      "Accuracy =  0.5\n",
      "Precision =  0.5\n",
      "Recall =  1.0\n",
      "F1_Score =  0.6666666666666666\n"
     ]
    }
   ],
   "source": [
    "Accuracy = metrics.accuracy_score(y_test, y_predict)\n",
    "print(\"Accuracy = \",Accuracy)\n",
    "precision = precision_score(y_test,y_predict,pos_label=1.0)\n",
    "print(\"Precision = \",precision)\n",
    "recall = recall_score(y_test,y_predict,pos_label=1.0)\n",
    "print(\"Recall = \",recall)\n",
    "F1_Score = f1_score(y_test,y_predict,pos_label=1.0)\n",
    "print(\"F1_Score = \",F1_Score)"
   ]
  },
  {
   "cell_type": "markdown",
   "id": "0eddc723",
   "metadata": {},
   "source": [
    "# >=0.2"
   ]
  },
  {
   "cell_type": "code",
   "execution_count": 13,
   "id": "5a8b4212",
   "metadata": {},
   "outputs": [],
   "source": [
    "y_test = df['Known_class_label']\n",
    "y_predict = df['GE0.2']"
   ]
  },
  {
   "cell_type": "code",
   "execution_count": 24,
   "id": "84aebdec",
   "metadata": {},
   "outputs": [
    {
     "name": "stdout",
     "output_type": "stream",
     "text": [
      "True Positive (TP) =  7\n",
      "True Negative (TN) =  0\n",
      "False Positive (FP) =  10\n",
      "False Negative (FN) =  3\n"
     ]
    }
   ],
   "source": [
    "from sklearn.metrics import confusion_matrix\n",
    "\n",
    "confusion_matrix_values = confusion_matrix(y_test, y_predict)\n",
    "\n",
    "# Extracting TP, TN, FP, and FN from the confusion matrix\n",
    "TN = confusion_matrix_values[0, 0]\n",
    "TP = confusion_matrix_values[1, 1]\n",
    "FP = confusion_matrix_values[0, 1]\n",
    "FN = confusion_matrix_values[1, 0]\n",
    "\n",
    "print(\"True Positive (TP) = \", TP)\n",
    "print(\"True Negative (TN) = \", TN)\n",
    "print(\"False Positive (FP) = \", FP)\n",
    "print(\"False Negative (FN) = \", FN)"
   ]
  },
  {
   "cell_type": "markdown",
   "id": "b5687988",
   "metadata": {},
   "source": [
    "TPR, FPR, Accuracy, Precision, Recall, F1_Score"
   ]
  },
  {
   "cell_type": "code",
   "execution_count": 25,
   "id": "de6e01b0",
   "metadata": {},
   "outputs": [
    {
     "name": "stdout",
     "output_type": "stream",
     "text": [
      "TPR =  0.7\n",
      "FPR =  1.0\n"
     ]
    }
   ],
   "source": [
    "TPR = TP/(TP+FN)\n",
    "FPR = FP/(FP+TN)\n",
    "print(\"TPR = \",TPR)\n",
    "print(\"FPR = \",FPR)"
   ]
  },
  {
   "cell_type": "code",
   "execution_count": 26,
   "id": "3e07f4b3",
   "metadata": {},
   "outputs": [
    {
     "name": "stdout",
     "output_type": "stream",
     "text": [
      "Accuracy =  0.35\n",
      "Precision =  0.4117647058823529\n",
      "Recall =  0.7\n",
      "F1_Score =  0.5185185185185185\n"
     ]
    }
   ],
   "source": [
    "Accuracy = metrics.accuracy_score(y_test, y_predict)\n",
    "print(\"Accuracy = \",Accuracy)\n",
    "precision = precision_score(y_test,y_predict,pos_label=1.0)\n",
    "print(\"Precision = \",precision)\n",
    "recall = recall_score(y_test,y_predict,pos_label=1.0)\n",
    "print(\"Recall = \",recall)\n",
    "F1_Score = f1_score(y_test,y_predict,pos_label=1.0)\n",
    "print(\"F1_Score = \",F1_Score)"
   ]
  },
  {
   "cell_type": "markdown",
   "id": "8a66e21f",
   "metadata": {},
   "source": [
    "# >=0.3"
   ]
  },
  {
   "cell_type": "code",
   "execution_count": 27,
   "id": "d7fcc6e5",
   "metadata": {},
   "outputs": [],
   "source": [
    "y_test = df['Known_class_label']\n",
    "y_predict = df['GE0.3']"
   ]
  },
  {
   "cell_type": "code",
   "execution_count": 28,
   "id": "7735904c",
   "metadata": {},
   "outputs": [
    {
     "name": "stdout",
     "output_type": "stream",
     "text": [
      "True Positive (TP) =  6\n",
      "True Negative (TN) =  0\n",
      "False Positive (FP) =  10\n",
      "False Negative (FN) =  4\n"
     ]
    }
   ],
   "source": [
    "from sklearn.metrics import confusion_matrix\n",
    "\n",
    "confusion_matrix_values = confusion_matrix(y_test, y_predict)\n",
    "\n",
    "# Extracting TP, TN, FP, and FN from the confusion matrix\n",
    "TN = confusion_matrix_values[0, 0]\n",
    "TP = confusion_matrix_values[1, 1]\n",
    "FP = confusion_matrix_values[0, 1]\n",
    "FN = confusion_matrix_values[1, 0]\n",
    "\n",
    "print(\"True Positive (TP) = \", TP)\n",
    "print(\"True Negative (TN) = \", TN)\n",
    "print(\"False Positive (FP) = \", FP)\n",
    "print(\"False Negative (FN) = \", FN)"
   ]
  },
  {
   "cell_type": "markdown",
   "id": "eb6d3852",
   "metadata": {},
   "source": [
    "TPR, FPR, Accuracy, Precision, Recall, F1_Score"
   ]
  },
  {
   "cell_type": "code",
   "execution_count": 29,
   "id": "591d1c26",
   "metadata": {},
   "outputs": [
    {
     "name": "stdout",
     "output_type": "stream",
     "text": [
      "TPR =  0.6\n",
      "FPR =  1.0\n"
     ]
    }
   ],
   "source": [
    "TPR = TP/(TP+FN)\n",
    "FPR = FP/(FP+TN)\n",
    "print(\"TPR = \",TPR)\n",
    "print(\"FPR = \",FPR)"
   ]
  },
  {
   "cell_type": "code",
   "execution_count": 30,
   "id": "857bcca0",
   "metadata": {},
   "outputs": [
    {
     "name": "stdout",
     "output_type": "stream",
     "text": [
      "Accuracy =  0.3\n",
      "Precision =  0.375\n",
      "Recall =  0.6\n",
      "F1_Score =  0.4615384615384615\n"
     ]
    }
   ],
   "source": [
    "Accuracy = metrics.accuracy_score(y_test, y_predict)\n",
    "print(\"Accuracy = \",Accuracy)\n",
    "precision = precision_score(y_test,y_predict,pos_label=1.0)\n",
    "print(\"Precision = \",precision)\n",
    "recall = recall_score(y_test,y_predict,pos_label=1.0)\n",
    "print(\"Recall = \",recall)\n",
    "F1_Score = f1_score(y_test,y_predict,pos_label=1.0)\n",
    "print(\"F1_Score = \",F1_Score)"
   ]
  },
  {
   "cell_type": "markdown",
   "id": "76179136",
   "metadata": {},
   "source": [
    "# >=0.4"
   ]
  },
  {
   "cell_type": "code",
   "execution_count": 31,
   "id": "0f829bd4",
   "metadata": {},
   "outputs": [],
   "source": [
    "y_test = df['Known_class_label']\n",
    "y_predict = df['GE0.4']"
   ]
  },
  {
   "cell_type": "code",
   "execution_count": 32,
   "id": "0fe9c101",
   "metadata": {},
   "outputs": [
    {
     "name": "stdout",
     "output_type": "stream",
     "text": [
      "True Positive (TP) =  5\n",
      "True Negative (TN) =  1\n",
      "False Positive (FP) =  9\n",
      "False Negative (FN) =  5\n"
     ]
    }
   ],
   "source": [
    "from sklearn.metrics import confusion_matrix\n",
    "\n",
    "confusion_matrix_values = confusion_matrix(y_test, y_predict)\n",
    "\n",
    "# Extracting TP, TN, FP, and FN from the confusion matrix\n",
    "TN = confusion_matrix_values[0, 0]\n",
    "TP = confusion_matrix_values[1, 1]\n",
    "FP = confusion_matrix_values[0, 1]\n",
    "FN = confusion_matrix_values[1, 0]\n",
    "\n",
    "print(\"True Positive (TP) = \", TP)\n",
    "print(\"True Negative (TN) = \", TN)\n",
    "print(\"False Positive (FP) = \", FP)\n",
    "print(\"False Negative (FN) = \", FN)"
   ]
  },
  {
   "cell_type": "code",
   "execution_count": 33,
   "id": "91f4cc98",
   "metadata": {},
   "outputs": [
    {
     "name": "stdout",
     "output_type": "stream",
     "text": [
      "TPR =  0.5\n",
      "FPR =  0.9\n"
     ]
    }
   ],
   "source": [
    "TPR = TP/(TP+FN)\n",
    "FPR = FP/(FP+TN)\n",
    "print(\"TPR = \",TPR)\n",
    "print(\"FPR = \",FPR)"
   ]
  },
  {
   "cell_type": "code",
   "execution_count": 34,
   "id": "745866ab",
   "metadata": {},
   "outputs": [
    {
     "name": "stdout",
     "output_type": "stream",
     "text": [
      "Accuracy =  0.3\n",
      "Precision =  0.35714285714285715\n",
      "Recall =  0.5\n",
      "F1_Score =  0.41666666666666663\n"
     ]
    }
   ],
   "source": [
    "Accuracy = metrics.accuracy_score(y_test, y_predict)\n",
    "print(\"Accuracy = \",Accuracy)\n",
    "precision = precision_score(y_test,y_predict,pos_label=1.0)\n",
    "print(\"Precision = \",precision)\n",
    "recall = recall_score(y_test,y_predict,pos_label=1.0)\n",
    "print(\"Recall = \",recall)\n",
    "F1_Score = f1_score(y_test,y_predict,pos_label=1.0)\n",
    "print(\"F1_Score = \",F1_Score)"
   ]
  },
  {
   "cell_type": "markdown",
   "id": "e0a9569c",
   "metadata": {},
   "source": [
    "# >=0.5"
   ]
  },
  {
   "cell_type": "code",
   "execution_count": 35,
   "id": "ba242139",
   "metadata": {},
   "outputs": [],
   "source": [
    "y_test = df['Known_class_label']\n",
    "y_predict = df['GE0.5']"
   ]
  },
  {
   "cell_type": "code",
   "execution_count": 36,
   "id": "9f038dca",
   "metadata": {},
   "outputs": [
    {
     "name": "stdout",
     "output_type": "stream",
     "text": [
      "True Positive (TP) =  3\n",
      "True Negative (TN) =  2\n",
      "False Positive (FP) =  8\n",
      "False Negative (FN) =  7\n"
     ]
    }
   ],
   "source": [
    "from sklearn.metrics import confusion_matrix\n",
    "\n",
    "confusion_matrix_values = confusion_matrix(y_test, y_predict)\n",
    "\n",
    "# Extracting TP, TN, FP, and FN from the confusion matrix\n",
    "TN = confusion_matrix_values[0, 0]\n",
    "TP = confusion_matrix_values[1, 1]\n",
    "FP = confusion_matrix_values[0, 1]\n",
    "FN = confusion_matrix_values[1, 0]\n",
    "\n",
    "print(\"True Positive (TP) = \", TP)\n",
    "print(\"True Negative (TN) = \", TN)\n",
    "print(\"False Positive (FP) = \", FP)\n",
    "print(\"False Negative (FN) = \", FN)"
   ]
  },
  {
   "cell_type": "code",
   "execution_count": 37,
   "id": "d585645a",
   "metadata": {},
   "outputs": [
    {
     "name": "stdout",
     "output_type": "stream",
     "text": [
      "TPR =  0.3\n",
      "FPR =  0.8\n"
     ]
    }
   ],
   "source": [
    "TPR = TP/(TP+FN)\n",
    "FPR = FP/(FP+TN)\n",
    "print(\"TPR = \",TPR)\n",
    "print(\"FPR = \",FPR)"
   ]
  },
  {
   "cell_type": "code",
   "execution_count": 38,
   "id": "9bf92c8b",
   "metadata": {},
   "outputs": [
    {
     "name": "stdout",
     "output_type": "stream",
     "text": [
      "Accuracy =  0.25\n",
      "Precision =  0.2727272727272727\n",
      "Recall =  0.3\n",
      "F1_Score =  0.28571428571428564\n"
     ]
    }
   ],
   "source": [
    "Accuracy = metrics.accuracy_score(y_test, y_predict)\n",
    "print(\"Accuracy = \",Accuracy)\n",
    "precision = precision_score(y_test,y_predict,pos_label=1.0)\n",
    "print(\"Precision = \",precision)\n",
    "recall = recall_score(y_test,y_predict,pos_label=1.0)\n",
    "print(\"Recall = \",recall)\n",
    "F1_Score = f1_score(y_test,y_predict,pos_label=1.0)\n",
    "print(\"F1_Score = \",F1_Score)"
   ]
  },
  {
   "cell_type": "markdown",
   "id": "78b86e3a",
   "metadata": {},
   "source": [
    "# >=0.6"
   ]
  },
  {
   "cell_type": "code",
   "execution_count": 39,
   "id": "0bf155ab",
   "metadata": {},
   "outputs": [],
   "source": [
    "y_test = df['Known_class_label']\n",
    "y_predict = df['GE0.6']"
   ]
  },
  {
   "cell_type": "code",
   "execution_count": 40,
   "id": "ffb25b82",
   "metadata": {},
   "outputs": [
    {
     "name": "stdout",
     "output_type": "stream",
     "text": [
      "True Positive (TP) =  1\n",
      "True Negative (TN) =  3\n",
      "False Positive (FP) =  7\n",
      "False Negative (FN) =  9\n"
     ]
    }
   ],
   "source": [
    "from sklearn.metrics import confusion_matrix\n",
    "\n",
    "confusion_matrix_values = confusion_matrix(y_test, y_predict)\n",
    "\n",
    "# Extracting TP, TN, FP, and FN from the confusion matrix\n",
    "TN = confusion_matrix_values[0, 0]\n",
    "TP = confusion_matrix_values[1, 1]\n",
    "FP = confusion_matrix_values[0, 1]\n",
    "FN = confusion_matrix_values[1, 0]\n",
    "\n",
    "print(\"True Positive (TP) = \", TP)\n",
    "print(\"True Negative (TN) = \", TN)\n",
    "print(\"False Positive (FP) = \", FP)\n",
    "print(\"False Negative (FN) = \", FN)"
   ]
  },
  {
   "cell_type": "code",
   "execution_count": 41,
   "id": "675ac491",
   "metadata": {},
   "outputs": [
    {
     "name": "stdout",
     "output_type": "stream",
     "text": [
      "TPR =  0.1\n",
      "FPR =  0.7\n"
     ]
    }
   ],
   "source": [
    "TPR = TP/(TP+FN)\n",
    "FPR = FP/(FP+TN)\n",
    "print(\"TPR = \",TPR)\n",
    "print(\"FPR = \",FPR)"
   ]
  },
  {
   "cell_type": "code",
   "execution_count": 42,
   "id": "d1501dad",
   "metadata": {},
   "outputs": [
    {
     "name": "stdout",
     "output_type": "stream",
     "text": [
      "Accuracy =  0.2\n",
      "Precision =  0.125\n",
      "Recall =  0.1\n",
      "F1_Score =  0.11111111111111112\n"
     ]
    }
   ],
   "source": [
    "Accuracy = metrics.accuracy_score(y_test, y_predict)\n",
    "print(\"Accuracy = \",Accuracy)\n",
    "precision = precision_score(y_test,y_predict,pos_label=1.0)\n",
    "print(\"Precision = \",precision)\n",
    "recall = recall_score(y_test,y_predict,pos_label=1.0)\n",
    "print(\"Recall = \",recall)\n",
    "F1_Score = f1_score(y_test,y_predict,pos_label=1.0)\n",
    "print(\"F1_Score = \",F1_Score)"
   ]
  },
  {
   "cell_type": "markdown",
   "id": "65c4e15a",
   "metadata": {},
   "source": [
    "# >=0.7"
   ]
  },
  {
   "cell_type": "code",
   "execution_count": 43,
   "id": "b0e77396",
   "metadata": {},
   "outputs": [],
   "source": [
    "y_test = df['Known_class_label']\n",
    "y_predict = df['GE0.7']"
   ]
  },
  {
   "cell_type": "code",
   "execution_count": 44,
   "id": "d8324626",
   "metadata": {},
   "outputs": [
    {
     "name": "stdout",
     "output_type": "stream",
     "text": [
      "True Positive (TP) =  1\n",
      "True Negative (TN) =  6\n",
      "False Positive (FP) =  4\n",
      "False Negative (FN) =  9\n"
     ]
    }
   ],
   "source": [
    "from sklearn.metrics import confusion_matrix\n",
    "\n",
    "confusion_matrix_values = confusion_matrix(y_test, y_predict)\n",
    "\n",
    "# Extracting TP, TN, FP, and FN from the confusion matrix\n",
    "TN = confusion_matrix_values[0, 0]\n",
    "TP = confusion_matrix_values[1, 1]\n",
    "FP = confusion_matrix_values[0, 1]\n",
    "FN = confusion_matrix_values[1, 0]\n",
    "\n",
    "print(\"True Positive (TP) = \", TP)\n",
    "print(\"True Negative (TN) = \", TN)\n",
    "print(\"False Positive (FP) = \", FP)\n",
    "print(\"False Negative (FN) = \", FN)"
   ]
  },
  {
   "cell_type": "code",
   "execution_count": 45,
   "id": "25bfc905",
   "metadata": {},
   "outputs": [
    {
     "name": "stdout",
     "output_type": "stream",
     "text": [
      "TPR =  0.1\n",
      "FPR =  0.4\n"
     ]
    }
   ],
   "source": [
    "TPR = TP/(TP+FN)\n",
    "FPR = FP/(FP+TN)\n",
    "print(\"TPR = \",TPR)\n",
    "print(\"FPR = \",FPR)"
   ]
  },
  {
   "cell_type": "code",
   "execution_count": 46,
   "id": "77067c03",
   "metadata": {},
   "outputs": [
    {
     "name": "stdout",
     "output_type": "stream",
     "text": [
      "Accuracy =  0.35\n",
      "Precision =  0.2\n",
      "Recall =  0.1\n",
      "F1_Score =  0.13333333333333333\n"
     ]
    }
   ],
   "source": [
    "Accuracy = metrics.accuracy_score(y_test, y_predict)\n",
    "print(\"Accuracy = \",Accuracy)\n",
    "precision = precision_score(y_test,y_predict,pos_label=1.0)\n",
    "print(\"Precision = \",precision)\n",
    "recall = recall_score(y_test,y_predict,pos_label=1.0)\n",
    "print(\"Recall = \",recall)\n",
    "F1_Score = f1_score(y_test,y_predict,pos_label=1.0)\n",
    "print(\"F1_Score = \",F1_Score)"
   ]
  },
  {
   "cell_type": "markdown",
   "id": "d983382d",
   "metadata": {},
   "source": [
    "# >=0.8"
   ]
  },
  {
   "cell_type": "code",
   "execution_count": 47,
   "id": "e3005a09",
   "metadata": {},
   "outputs": [],
   "source": [
    "y_test = df['Known_class_label']\n",
    "y_predict = df['GE0.8']"
   ]
  },
  {
   "cell_type": "code",
   "execution_count": 48,
   "id": "797f3ca4",
   "metadata": {},
   "outputs": [
    {
     "name": "stdout",
     "output_type": "stream",
     "text": [
      "True Positive (TP) =  0\n",
      "True Negative (TN) =  8\n",
      "False Positive (FP) =  2\n",
      "False Negative (FN) =  10\n"
     ]
    }
   ],
   "source": [
    "from sklearn.metrics import confusion_matrix\n",
    "\n",
    "confusion_matrix_values = confusion_matrix(y_test, y_predict)\n",
    "\n",
    "# Extracting TP, TN, FP, and FN from the confusion matrix\n",
    "TN = confusion_matrix_values[0, 0]\n",
    "TP = confusion_matrix_values[1, 1]\n",
    "FP = confusion_matrix_values[0, 1]\n",
    "FN = confusion_matrix_values[1, 0]\n",
    "\n",
    "print(\"True Positive (TP) = \", TP)\n",
    "print(\"True Negative (TN) = \", TN)\n",
    "print(\"False Positive (FP) = \", FP)\n",
    "print(\"False Negative (FN) = \", FN)"
   ]
  },
  {
   "cell_type": "code",
   "execution_count": 49,
   "id": "b366ef9d",
   "metadata": {},
   "outputs": [
    {
     "name": "stdout",
     "output_type": "stream",
     "text": [
      "TPR =  0.0\n",
      "FPR =  0.2\n"
     ]
    }
   ],
   "source": [
    "TPR = TP/(TP+FN)\n",
    "FPR = FP/(FP+TN)\n",
    "print(\"TPR = \",TPR)\n",
    "print(\"FPR = \",FPR)"
   ]
  },
  {
   "cell_type": "code",
   "execution_count": 50,
   "id": "2eba6351",
   "metadata": {},
   "outputs": [
    {
     "name": "stdout",
     "output_type": "stream",
     "text": [
      "Accuracy =  0.4\n",
      "Precision =  0.0\n",
      "Recall =  0.0\n",
      "F1_Score =  0.0\n"
     ]
    }
   ],
   "source": [
    "Accuracy = metrics.accuracy_score(y_test, y_predict)\n",
    "print(\"Accuracy = \",Accuracy)\n",
    "precision = precision_score(y_test,y_predict,pos_label=1.0)\n",
    "print(\"Precision = \",precision)\n",
    "recall = recall_score(y_test,y_predict,pos_label=1.0)\n",
    "print(\"Recall = \",recall)\n",
    "F1_Score = f1_score(y_test,y_predict,pos_label=1.0)\n",
    "print(\"F1_Score = \",F1_Score)"
   ]
  },
  {
   "cell_type": "markdown",
   "id": "cf81ff8f",
   "metadata": {},
   "source": [
    "# >=0.9"
   ]
  },
  {
   "cell_type": "code",
   "execution_count": 51,
   "id": "fce30f24",
   "metadata": {},
   "outputs": [],
   "source": [
    "y_test = df['Known_class_label']\n",
    "y_predict = df['GE0.9']"
   ]
  },
  {
   "cell_type": "code",
   "execution_count": 52,
   "id": "7a104b88",
   "metadata": {},
   "outputs": [
    {
     "name": "stdout",
     "output_type": "stream",
     "text": [
      "True Positive (TP) =  0\n",
      "True Negative (TN) =  9\n",
      "False Positive (FP) =  1\n",
      "False Negative (FN) =  10\n"
     ]
    }
   ],
   "source": [
    "from sklearn.metrics import confusion_matrix\n",
    "\n",
    "confusion_matrix_values = confusion_matrix(y_test, y_predict)\n",
    "\n",
    "# Extracting TP, TN, FP, and FN from the confusion matrix\n",
    "TN = confusion_matrix_values[0, 0]\n",
    "TP = confusion_matrix_values[1, 1]\n",
    "FP = confusion_matrix_values[0, 1]\n",
    "FN = confusion_matrix_values[1, 0]\n",
    "\n",
    "print(\"True Positive (TP) = \", TP)\n",
    "print(\"True Negative (TN) = \", TN)\n",
    "print(\"False Positive (FP) = \", FP)\n",
    "print(\"False Negative (FN) = \", FN)"
   ]
  },
  {
   "cell_type": "code",
   "execution_count": 53,
   "id": "21bb5ea5",
   "metadata": {},
   "outputs": [
    {
     "name": "stdout",
     "output_type": "stream",
     "text": [
      "TPR =  0.0\n",
      "FPR =  0.1\n"
     ]
    }
   ],
   "source": [
    "TPR = TP/(TP+FN)\n",
    "FPR = FP/(FP+TN)\n",
    "print(\"TPR = \",TPR)\n",
    "print(\"FPR = \",FPR)"
   ]
  },
  {
   "cell_type": "code",
   "execution_count": 54,
   "id": "c137d820",
   "metadata": {},
   "outputs": [
    {
     "name": "stdout",
     "output_type": "stream",
     "text": [
      "Accuracy =  0.45\n",
      "Precision =  0.0\n",
      "Recall =  0.0\n",
      "F1_Score =  0.0\n"
     ]
    }
   ],
   "source": [
    "Accuracy = metrics.accuracy_score(y_test, y_predict)\n",
    "print(\"Accuracy = \",Accuracy)\n",
    "precision = precision_score(y_test,y_predict,pos_label=1.0)\n",
    "print(\"Precision = \",precision)\n",
    "recall = recall_score(y_test,y_predict,pos_label=1.0)\n",
    "print(\"Recall = \",recall)\n",
    "F1_Score = f1_score(y_test,y_predict,pos_label=1.0)\n",
    "print(\"F1_Score = \",F1_Score)"
   ]
  },
  {
   "cell_type": "markdown",
   "id": "1dd45e0d",
   "metadata": {},
   "source": [
    "# >=1.0"
   ]
  },
  {
   "cell_type": "code",
   "execution_count": 16,
   "id": "21f23027",
   "metadata": {},
   "outputs": [],
   "source": [
    "y_test = df['Known_class_label']\n",
    "y_predict = df['GE1.0']"
   ]
  },
  {
   "cell_type": "code",
   "execution_count": 56,
   "id": "c99f0884",
   "metadata": {},
   "outputs": [
    {
     "name": "stdout",
     "output_type": "stream",
     "text": [
      "True Positive (TP) =  0\n",
      "True Negative (TN) =  10\n",
      "False Positive (FP) =  0\n",
      "False Negative (FN) =  10\n"
     ]
    }
   ],
   "source": [
    "from sklearn.metrics import confusion_matrix\n",
    "\n",
    "confusion_matrix_values = confusion_matrix(y_test, y_predict)\n",
    "\n",
    "# Extracting TP, TN, FP, and FN from the confusion matrix\n",
    "TN = confusion_matrix_values[0, 0]\n",
    "TP = confusion_matrix_values[1, 1]\n",
    "FP = confusion_matrix_values[0, 1]\n",
    "FN = confusion_matrix_values[1, 0]\n",
    "\n",
    "print(\"True Positive (TP) = \", TP)\n",
    "print(\"True Negative (TN) = \", TN)\n",
    "print(\"False Positive (FP) = \", FP)\n",
    "print(\"False Negative (FN) = \", FN)"
   ]
  },
  {
   "cell_type": "code",
   "execution_count": 57,
   "id": "381c0463",
   "metadata": {},
   "outputs": [
    {
     "name": "stdout",
     "output_type": "stream",
     "text": [
      "TPR =  0.0\n",
      "FPR =  0.0\n"
     ]
    }
   ],
   "source": [
    "\n",
    "TPR = TP/(TP+FN)\n",
    "FPR = FP/(FP+TN)\n",
    "print(\"TPR = \",TPR)\n",
    "print(\"FPR = \",FPR)"
   ]
  },
  {
   "cell_type": "code",
   "execution_count": 59,
   "id": "b5cb6633",
   "metadata": {},
   "outputs": [
    {
     "name": "stdout",
     "output_type": "stream",
     "text": [
      "Accuracy =  0.5\n",
      "Precision =  0.0\n",
      "Recall =  0.0\n",
      "F1_Score =  0.0\n"
     ]
    },
    {
     "name": "stderr",
     "output_type": "stream",
     "text": [
      "C:\\Users\\ANUSHA REDDY\\anaconda3\\lib\\site-packages\\sklearn\\metrics\\_classification.py:1469: UndefinedMetricWarning: Precision is ill-defined and being set to 0.0 due to no predicted samples. Use `zero_division` parameter to control this behavior.\n",
      "  _warn_prf(average, modifier, msg_start, len(result))\n"
     ]
    }
   ],
   "source": [
    "Accuracy = metrics.accuracy_score(y_test, y_predict)\n",
    "print(\"Accuracy = \",Accuracy)\n",
    "precision = precision_score(y_test,y_predict,pos_label=1.0)\n",
    "print(\"Precision = \",precision)\n",
    "recall = recall_score(y_test,y_predict,pos_label=1.0)\n",
    "print(\"Recall = \",recall)\n",
    "F1_Score = f1_score(y_test,y_predict,pos_label=1.0)\n",
    "print(\"F1_Score = \",F1_Score)"
   ]
  },
  {
   "cell_type": "markdown",
   "id": "dc6923c1",
   "metadata": {},
   "source": [
    "# ROC and AUC"
   ]
  },
  {
   "cell_type": "code",
   "execution_count": 17,
   "id": "8957b62c",
   "metadata": {},
   "outputs": [
    {
     "name": "stdout",
     "output_type": "stream",
     "text": [
      "[1.0, 1.0, 0.7, 0.6, 0.5, 0.3, 0.1, 0.1, 0.0, 0.0, 0.0]\n",
      "[1.0, 1.0, 1.0, 1.0, 0.9, 0.8, 0.7, 0.4, 0.2, 0.0, 0.0]\n"
     ]
    }
   ],
   "source": [
    "import matplotlib.pyplot as plt\n",
    "from sklearn.metrics import auc\n",
    "\n",
    "#TPR and FPR values\n",
    "TPR = [1.0, 1.0, 0.7, 0.6, 0.5, 0.3, 0.1, 0.1, 0.0, 0.0, 0.0]\n",
    "FPR = [1.0, 1.0, 1.0, 1.0, 0.9, 0.8, 0.7, 0.4, 0.2, 0.0, 0.0]\n",
    "\n",
    "print(TPR)\n",
    "print(FPR)"
   ]
  },
  {
   "cell_type": "code",
   "execution_count": 18,
   "id": "789cd40b",
   "metadata": {},
   "outputs": [
    {
     "name": "stdout",
     "output_type": "stream",
     "text": [
      "AUC (Area Under the Curve) = 0.15\n",
      "ROC Values:\n",
      "FPR: 1.00, TPR: 1.00\n",
      "FPR: 1.00, TPR: 1.00\n",
      "FPR: 1.00, TPR: 0.70\n",
      "FPR: 1.00, TPR: 0.60\n",
      "FPR: 0.90, TPR: 0.50\n",
      "FPR: 0.80, TPR: 0.30\n",
      "FPR: 0.70, TPR: 0.10\n",
      "FPR: 0.40, TPR: 0.10\n",
      "FPR: 0.20, TPR: 0.00\n",
      "FPR: 0.00, TPR: 0.00\n",
      "FPR: 0.00, TPR: 0.00\n"
     ]
    },
    {
     "data": {
      "image/png": "[encoded data removed]",
      "text/plain": [
       "<Figure size 600x400 with 1 Axes>"
      ]
     },
     "metadata": {},
     "output_type": "display_data"
    }
   ],
   "source": [
    "# Calculate AUC (Area Under the Curve)\n",
    "roc_auc = auc(FPR, TPR)\n",
    "\n",
    "# Plot the ROC curve\n",
    "plt.figure(figsize=(6, 4))\n",
    "plt.plot(FPR, TPR, linestyle='-', color='orange', label='Model')\n",
    "plt.plot([0, 1], [0, 1], linestyle='--', color='blue', label='Random (ideal)')\n",
    "plt.xlabel('False Positive Rate (FPR)')\n",
    "plt.ylabel('True Positive Rate (TPR)')\n",
    "plt.legend()\n",
    "\n",
    "# Add a title to the ROC curve plot\n",
    "plt.title('Receiver Operating Characteristic (ROC) Curve')\n",
    "\n",
    "# Print AUC and ROC values\n",
    "print(\"AUC (Area Under the Curve) = {:.2f}\".format(roc_auc))\n",
    "print(\"ROC Values:\")\n",
    "for fpr, tpr in zip(FPR, TPR):\n",
    "    print(\"FPR: {:.2f}, TPR: {:.2f}\".format(fpr, tpr))\n",
    "\n",
    "plt.show()"
   ]
  },
  {
   "cell_type": "code",
   "execution_count": null,
   "id": "89edcda6",
   "metadata": {},
   "outputs": [],
   "source": []
  }
 ],
 "metadata": {
  "kernelspec": {
   "display_name": "Python 3 (ipykernel)",
   "language": "python",
   "name": "python3"
  },
  "language_info": {
   "codemirror_mode": {
    "name": "ipython",
    "version": 3
   },
   "file_extension": ".py",
   "mimetype": "text/x-python",
   "name": "python",
   "nbconvert_exporter": "python",
   "pygments_lexer": "ipython3",
   "version": "3.9.13"
  }
 },
 "nbformat": 4,
 "nbformat_minor": 5
}
