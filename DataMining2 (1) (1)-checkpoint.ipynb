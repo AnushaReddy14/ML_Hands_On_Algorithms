{
 "cells": [
  {
   "cell_type": "code",
   "execution_count": 1,
   "metadata": {},
   "outputs": [],
   "source": [
    "true_output = ['y','y','n','n','y','y','n','n','y','y','n','n','y','y','n','n','y','y','n','n']\n",
    "F_pred = ['y','y','y','y','y','y','y','y','y','y','y','y','y','y','y','y','y','y','y','y']\n",
    "G_pred = ['n','n','n','n','n','n','n','n','n','n','y','y','y','y','y','n','n','n','n','n']\n",
    "H_pred = ['y','y','n','n','y','y','n','n','y','y','n','n','y','y','n','n','y','y','n','n']\n",
    "I_pred = ['n','y','n','y','n','y','n','y','n','y','n','y','n','y','n','y','n','y','n','y']\n",
    "J_pred = ['y','n','y','n','y','n','n','n','y','y','y','n','y','y','y','n','n','n','y','n']"
   ]
  },
  {
   "cell_type": "code",
   "execution_count": 2,
   "metadata": {},
   "outputs": [],
   "source": [
    "def TP_TN_FP_FN(x,y):\n",
    "    TP = 0\n",
    "    TN = 0\n",
    "    FP = 0\n",
    "    FN = 0\n",
    "    for i in range(len(x)):\n",
    "        if(x[i] == y[i] and x[i] == 'y'):\n",
    "            TP += 1\n",
    "        elif(x[i] == y[i] and x[i] == 'n'):\n",
    "            TN += 1\n",
    "        elif(x[i] == 'n' and y[i] == 'y'):\n",
    "            FP += 1\n",
    "        else:\n",
    "            FN += 1\n",
    "    return [TP, TN, FP, FN]"
   ]
  },
  {
   "cell_type": "code",
   "execution_count": 3,
   "metadata": {},
   "outputs": [],
   "source": [
    "def Precision(TP_TN_FP_FN):\n",
    "    TP = TP_TN_FP_FN[0]\n",
    "    TN = TP_TN_FP_FN[1]\n",
    "    FP = TP_TN_FP_FN[2]\n",
    "    FN = TP_TN_FP_FN[3]\n",
    "    \n",
    "    return TP/(TP+FP)\n",
    "\n",
    "def Recall(TP_TN_FP_FN):\n",
    "    TP = TP_TN_FP_FN[0]\n",
    "    TN = TP_TN_FP_FN[1]\n",
    "    FP = TP_TN_FP_FN[2]\n",
    "    FN = TP_TN_FP_FN[3]\n",
    "    \n",
    "    return TP/(TP+FN)\n",
    "\n",
    "def Accuracy(TP_TN_FP_FN):\n",
    "    TP = TP_TN_FP_FN[0]\n",
    "    TN = TP_TN_FP_FN[1]\n",
    "    FP = TP_TN_FP_FN[2]\n",
    "    FN = TP_TN_FP_FN[3]\n",
    "    \n",
    "    return (TP+TN)/(TP+TN+FP+FN)\n",
    "\n",
    "def F1_score(Precision, Recall):\n",
    "    return (2*Precision*Recall)/(Precision+Recall)"
   ]
  },
  {
   "cell_type": "markdown",
   "metadata": {},
   "source": [
    "# F"
   ]
  },
  {
   "cell_type": "code",
   "execution_count": 4,
   "metadata": {},
   "outputs": [
    {
     "name": "stdout",
     "output_type": "stream",
     "text": [
      "Precision =  0.5\n",
      "Recall =  1.0\n",
      "Accuracy =  0.5\n",
      "F1_score =  0.6666666666666666\n"
     ]
    }
   ],
   "source": [
    "P = Precision(TP_TN_FP_FN(true_output,F_pred))\n",
    "R = Recall(TP_TN_FP_FN(true_output,F_pred))\n",
    "print('Precision = ',P)\n",
    "print('Recall = ',R)\n",
    "print('Accuracy = ',Accuracy(TP_TN_FP_FN(true_output,F_pred)))\n",
    "print('F1_score = ',F1_score(P,R))"
   ]
  },
  {
   "cell_type": "markdown",
   "metadata": {},
   "source": [
    "# G"
   ]
  },
  {
   "cell_type": "code",
   "execution_count": 5,
   "metadata": {},
   "outputs": [
    {
     "name": "stdout",
     "output_type": "stream",
     "text": [
      "Precision =  0.4\n",
      "Recall =  0.2\n",
      "Accuracy =  0.45\n",
      "F1_score =  0.26666666666666666\n"
     ]
    }
   ],
   "source": [
    "P = Precision(TP_TN_FP_FN(true_output,G_pred))\n",
    "R = Recall(TP_TN_FP_FN(true_output,G_pred))\n",
    "print('Precision = ',P)\n",
    "print('Recall = ',R)\n",
    "print('Accuracy = ',Accuracy(TP_TN_FP_FN(true_output,G_pred)))\n",
    "print('F1_score = ',F1_score(P,R))"
   ]
  },
  {
   "cell_type": "markdown",
   "metadata": {},
   "source": [
    "# H"
   ]
  },
  {
   "cell_type": "code",
   "execution_count": 6,
   "metadata": {},
   "outputs": [
    {
     "name": "stdout",
     "output_type": "stream",
     "text": [
      "Precision =  1.0\n",
      "Recall =  1.0\n",
      "Accuracy =  1.0\n",
      "F1_score =  1.0\n"
     ]
    }
   ],
   "source": [
    "P = Precision(TP_TN_FP_FN(true_output,H_pred))\n",
    "R = Recall(TP_TN_FP_FN(true_output,H_pred))\n",
    "print('Precision = ',P)\n",
    "print('Recall = ',R)\n",
    "print('Accuracy = ',Accuracy(TP_TN_FP_FN(true_output,H_pred)))\n",
    "print('F1_score = ',F1_score(P,R))"
   ]
  },
  {
   "cell_type": "markdown",
   "metadata": {},
   "source": [
    "# I"
   ]
  },
  {
   "cell_type": "code",
   "execution_count": 7,
   "metadata": {},
   "outputs": [
    {
     "name": "stdout",
     "output_type": "stream",
     "text": [
      "Precision =  0.5\n",
      "Recall =  0.5\n",
      "Accuracy =  0.5\n",
      "F1_score =  0.5\n"
     ]
    }
   ],
   "source": [
    "P = Precision(TP_TN_FP_FN(true_output,I_pred))\n",
    "R = Recall(TP_TN_FP_FN(true_output,I_pred))\n",
    "print('Precision = ',P)\n",
    "print('Recall = ',R)\n",
    "print('Accuracy = ',Accuracy(TP_TN_FP_FN(true_output,I_pred)))\n",
    "print('F1_score = ',F1_score(P,R))"
   ]
  },
  {
   "cell_type": "markdown",
   "metadata": {},
   "source": [
    "# J"
   ]
  },
  {
   "cell_type": "code",
   "execution_count": 8,
   "metadata": {},
   "outputs": [
    {
     "name": "stdout",
     "output_type": "stream",
     "text": [
      "Precision =  0.6\n",
      "Recall =  0.6\n",
      "Accuracy =  0.6\n",
      "F1_score =  0.6\n"
     ]
    }
   ],
   "source": [
    "P = Precision(TP_TN_FP_FN(true_output,J_pred))\n",
    "R = Recall(TP_TN_FP_FN(true_output,J_pred))\n",
    "print('Precision = ',P)\n",
    "print('Recall = ',R)\n",
    "print('Accuracy = ',Accuracy(TP_TN_FP_FN(true_output,J_pred)))\n",
    "print('F1_score = ',F1_score(P,R))"
   ]
  },
  {
   "cell_type": "code",
   "execution_count": null,
   "metadata": {},
   "outputs": [],
   "source": []
  },
  {
   "cell_type": "markdown",
   "metadata": {},
   "source": [
    "# 2"
   ]
  },
  {
   "cell_type": "code",
   "execution_count": 9,
   "metadata": {},
   "outputs": [],
   "source": [
    "import pandas as pd"
   ]
  },
  {
   "cell_type": "code",
   "execution_count": 10,
   "metadata": {},
   "outputs": [],
   "source": [
    "df = pd.read_csv(r'C:\\Users\\rohithy\\Desktop\\Data Mining\\3\\ques2.csv')"
   ]
  },
  {
   "cell_type": "code",
   "execution_count": 11,
   "metadata": {},
   "outputs": [],
   "source": [
    "df.drop(0, inplace = True)"
   ]
  },
  {
   "cell_type": "code",
   "execution_count": 12,
   "metadata": {},
   "outputs": [
    {
     "data": {
      "text/html": [
       "<div>\n",
       "<style scoped>\n",
       "    .dataframe tbody tr th:only-of-type {\n",
       "        vertical-align: middle;\n",
       "    }\n",
       "\n",
       "    .dataframe tbody tr th {\n",
       "        vertical-align: top;\n",
       "    }\n",
       "\n",
       "    .dataframe thead th {\n",
       "        text-align: right;\n",
       "    }\n",
       "</style>\n",
       "<table border=\"1\" class=\"dataframe\">\n",
       "  <thead>\n",
       "    <tr style=\"text-align: right;\">\n",
       "      <th></th>\n",
       "      <th>Instance</th>\n",
       "      <th>Actual</th>\n",
       "      <th>Classifier</th>\n",
       "      <th>Classifier.1</th>\n",
       "      <th>Classifier.2</th>\n",
       "      <th>Classifier.3</th>\n",
       "      <th>Classifier.4</th>\n",
       "    </tr>\n",
       "  </thead>\n",
       "  <tbody>\n",
       "    <tr>\n",
       "      <th>1</th>\n",
       "      <td>1.0</td>\n",
       "      <td>Yes</td>\n",
       "      <td>Yes</td>\n",
       "      <td>No</td>\n",
       "      <td>Yes</td>\n",
       "      <td>No</td>\n",
       "      <td>Yes</td>\n",
       "    </tr>\n",
       "    <tr>\n",
       "      <th>2</th>\n",
       "      <td>2.0</td>\n",
       "      <td>Yes</td>\n",
       "      <td>Yes</td>\n",
       "      <td>No</td>\n",
       "      <td>Yes</td>\n",
       "      <td>Yes</td>\n",
       "      <td>No</td>\n",
       "    </tr>\n",
       "    <tr>\n",
       "      <th>3</th>\n",
       "      <td>3.0</td>\n",
       "      <td>No</td>\n",
       "      <td>Yes</td>\n",
       "      <td>No</td>\n",
       "      <td>No</td>\n",
       "      <td>No</td>\n",
       "      <td>Yes</td>\n",
       "    </tr>\n",
       "    <tr>\n",
       "      <th>4</th>\n",
       "      <td>4.0</td>\n",
       "      <td>No</td>\n",
       "      <td>Yes</td>\n",
       "      <td>No</td>\n",
       "      <td>No</td>\n",
       "      <td>Yes</td>\n",
       "      <td>No</td>\n",
       "    </tr>\n",
       "    <tr>\n",
       "      <th>5</th>\n",
       "      <td>5.0</td>\n",
       "      <td>Yes</td>\n",
       "      <td>Yes</td>\n",
       "      <td>No</td>\n",
       "      <td>Yes</td>\n",
       "      <td>No</td>\n",
       "      <td>Yes</td>\n",
       "    </tr>\n",
       "  </tbody>\n",
       "</table>\n",
       "</div>"
      ],
      "text/plain": [
       "   Instance Actual Classifier Classifier.1 Classifier.2 Classifier.3  \\\n",
       "1       1.0    Yes        Yes           No          Yes           No   \n",
       "2       2.0    Yes        Yes           No          Yes          Yes   \n",
       "3       3.0     No        Yes           No           No           No   \n",
       "4       4.0     No        Yes           No           No          Yes   \n",
       "5       5.0    Yes        Yes           No          Yes           No   \n",
       "\n",
       "  Classifier.4  \n",
       "1          Yes  \n",
       "2           No  \n",
       "3          Yes  \n",
       "4           No  \n",
       "5          Yes  "
      ]
     },
     "execution_count": 12,
     "metadata": {},
     "output_type": "execute_result"
    }
   ],
   "source": [
    "df.head()"
   ]
  },
  {
   "cell_type": "code",
   "execution_count": 13,
   "metadata": {},
   "outputs": [],
   "source": [
    "df.columns = ['Instance', 'Actual class', 'Classifier F', 'Classifier G','Classifier H','Classifier I','Classifier J']"
   ]
  },
  {
   "cell_type": "code",
   "execution_count": 14,
   "metadata": {},
   "outputs": [
    {
     "data": {
      "text/html": [
       "<div>\n",
       "<style scoped>\n",
       "    .dataframe tbody tr th:only-of-type {\n",
       "        vertical-align: middle;\n",
       "    }\n",
       "\n",
       "    .dataframe tbody tr th {\n",
       "        vertical-align: top;\n",
       "    }\n",
       "\n",
       "    .dataframe thead th {\n",
       "        text-align: right;\n",
       "    }\n",
       "</style>\n",
       "<table border=\"1\" class=\"dataframe\">\n",
       "  <thead>\n",
       "    <tr style=\"text-align: right;\">\n",
       "      <th></th>\n",
       "      <th>Instance</th>\n",
       "      <th>Actual class</th>\n",
       "      <th>Classifier F</th>\n",
       "      <th>Classifier G</th>\n",
       "      <th>Classifier H</th>\n",
       "      <th>Classifier I</th>\n",
       "      <th>Classifier J</th>\n",
       "    </tr>\n",
       "  </thead>\n",
       "  <tbody>\n",
       "    <tr>\n",
       "      <th>1</th>\n",
       "      <td>1.0</td>\n",
       "      <td>Yes</td>\n",
       "      <td>Yes</td>\n",
       "      <td>No</td>\n",
       "      <td>Yes</td>\n",
       "      <td>No</td>\n",
       "      <td>Yes</td>\n",
       "    </tr>\n",
       "    <tr>\n",
       "      <th>2</th>\n",
       "      <td>2.0</td>\n",
       "      <td>Yes</td>\n",
       "      <td>Yes</td>\n",
       "      <td>No</td>\n",
       "      <td>Yes</td>\n",
       "      <td>Yes</td>\n",
       "      <td>No</td>\n",
       "    </tr>\n",
       "    <tr>\n",
       "      <th>3</th>\n",
       "      <td>3.0</td>\n",
       "      <td>No</td>\n",
       "      <td>Yes</td>\n",
       "      <td>No</td>\n",
       "      <td>No</td>\n",
       "      <td>No</td>\n",
       "      <td>Yes</td>\n",
       "    </tr>\n",
       "    <tr>\n",
       "      <th>4</th>\n",
       "      <td>4.0</td>\n",
       "      <td>No</td>\n",
       "      <td>Yes</td>\n",
       "      <td>No</td>\n",
       "      <td>No</td>\n",
       "      <td>Yes</td>\n",
       "      <td>No</td>\n",
       "    </tr>\n",
       "    <tr>\n",
       "      <th>5</th>\n",
       "      <td>5.0</td>\n",
       "      <td>Yes</td>\n",
       "      <td>Yes</td>\n",
       "      <td>No</td>\n",
       "      <td>Yes</td>\n",
       "      <td>No</td>\n",
       "      <td>Yes</td>\n",
       "    </tr>\n",
       "  </tbody>\n",
       "</table>\n",
       "</div>"
      ],
      "text/plain": [
       "   Instance Actual class Classifier F Classifier G Classifier H Classifier I  \\\n",
       "1       1.0          Yes          Yes           No          Yes           No   \n",
       "2       2.0          Yes          Yes           No          Yes          Yes   \n",
       "3       3.0           No          Yes           No           No           No   \n",
       "4       4.0           No          Yes           No           No          Yes   \n",
       "5       5.0          Yes          Yes           No          Yes           No   \n",
       "\n",
       "  Classifier J  \n",
       "1          Yes  \n",
       "2           No  \n",
       "3          Yes  \n",
       "4           No  \n",
       "5          Yes  "
      ]
     },
     "execution_count": 14,
     "metadata": {},
     "output_type": "execute_result"
    }
   ],
   "source": [
    "df.head()"
   ]
  },
  {
   "cell_type": "code",
   "execution_count": 15,
   "metadata": {},
   "outputs": [],
   "source": [
    "#precision, recall, accuracy, F1-score"
   ]
  },
  {
   "cell_type": "code",
   "execution_count": 16,
   "metadata": {},
   "outputs": [],
   "source": [
    "from sklearn import metrics"
   ]
  },
  {
   "cell_type": "markdown",
   "metadata": {},
   "source": [
    "# Classifier F"
   ]
  },
  {
   "cell_type": "code",
   "execution_count": 17,
   "metadata": {},
   "outputs": [
    {
     "name": "stdout",
     "output_type": "stream",
     "text": [
      "Precision =  0.5\n",
      "Recall =  1.0\n",
      "F1-score =  0.6666666666666666\n"
     ]
    }
   ],
   "source": [
    "print('Precision = ',metrics.precision_score(df['Actual class'], df['Classifier F'],pos_label='Yes'))\n",
    "print('Recall = ',metrics.recall_score(df['Actual class'], df['Classifier F'],pos_label='Yes'))\n",
    "print('F1-score = ',metrics.f1_score(df['Actual class'], df['Classifier F'],pos_label='Yes'))"
   ]
  },
  {
   "cell_type": "markdown",
   "metadata": {},
   "source": [
    "# Classifier G"
   ]
  },
  {
   "cell_type": "code",
   "execution_count": 18,
   "metadata": {},
   "outputs": [
    {
     "name": "stdout",
     "output_type": "stream",
     "text": [
      "Precision =  0.4\n",
      "Recall =  0.2\n",
      "F1-score =  0.26666666666666666\n"
     ]
    }
   ],
   "source": [
    "print('Precision = ',metrics.precision_score(df['Actual class'], df['Classifier G'],pos_label='Yes'))\n",
    "print('Recall = ',metrics.recall_score(df['Actual class'], df['Classifier G'],pos_label='Yes'))\n",
    "print('F1-score = ',metrics.f1_score(df['Actual class'], df['Classifier G'],pos_label='Yes'))"
   ]
  },
  {
   "cell_type": "markdown",
   "metadata": {},
   "source": [
    "# Classifier H"
   ]
  },
  {
   "cell_type": "code",
   "execution_count": 19,
   "metadata": {},
   "outputs": [
    {
     "name": "stdout",
     "output_type": "stream",
     "text": [
      "Precision =  1.0\n",
      "Recall =  1.0\n",
      "F1-score =  1.0\n"
     ]
    }
   ],
   "source": [
    "print('Precision = ',metrics.precision_score(df['Actual class'], df['Classifier H'],pos_label='Yes'))\n",
    "print('Recall = ',metrics.recall_score(df['Actual class'], df['Classifier H'],pos_label='Yes'))\n",
    "print('F1-score = ',metrics.f1_score(df['Actual class'], df['Classifier H'],pos_label='Yes'))"
   ]
  },
  {
   "cell_type": "markdown",
   "metadata": {},
   "source": [
    "# Classifier I"
   ]
  },
  {
   "cell_type": "code",
   "execution_count": 20,
   "metadata": {},
   "outputs": [
    {
     "name": "stdout",
     "output_type": "stream",
     "text": [
      "Precision =  0.5\n",
      "Recall =  0.5\n",
      "F1-score =  0.5\n"
     ]
    }
   ],
   "source": [
    "print('Precision = ',metrics.precision_score(df['Actual class'], df['Classifier I'],pos_label='Yes'))\n",
    "print('Recall = ',metrics.recall_score(df['Actual class'], df['Classifier I'],pos_label='Yes'))\n",
    "print('F1-score = ',metrics.f1_score(df['Actual class'], df['Classifier I'],pos_label='Yes'))"
   ]
  },
  {
   "cell_type": "markdown",
   "metadata": {},
   "source": [
    "# Classifier J"
   ]
  },
  {
   "cell_type": "code",
   "execution_count": 21,
   "metadata": {},
   "outputs": [
    {
     "name": "stdout",
     "output_type": "stream",
     "text": [
      "Precision =  0.6\n",
      "Recall =  0.6\n",
      "F1-score =  0.6\n"
     ]
    }
   ],
   "source": [
    "print('Precision = ',metrics.precision_score(df['Actual class'], df['Classifier J'],pos_label='Yes'))\n",
    "print('Recall = ',metrics.recall_score(df['Actual class'], df['Classifier J'],pos_label='Yes'))\n",
    "print('F1-score = ',metrics.f1_score(df['Actual class'], df['Classifier J'],pos_label='Yes'))"
   ]
  },
  {
   "cell_type": "code",
   "execution_count": null,
   "metadata": {},
   "outputs": [],
   "source": []
  },
  {
   "cell_type": "markdown",
   "metadata": {},
   "source": [
    "# 3"
   ]
  },
  {
   "cell_type": "markdown",
   "metadata": {},
   "source": [
    "# Classifier F"
   ]
  },
  {
   "cell_type": "code",
   "execution_count": 22,
   "metadata": {},
   "outputs": [],
   "source": [
    "Recall_l = []\n",
    "Fpr_l = []"
   ]
  },
  {
   "cell_type": "code",
   "execution_count": 23,
   "metadata": {},
   "outputs": [
    {
     "data": {
      "text/plain": [
       "array([[ 0, 10],\n",
       "       [ 0, 10]], dtype=int64)"
      ]
     },
     "execution_count": 23,
     "metadata": {},
     "output_type": "execute_result"
    }
   ],
   "source": [
    "metrics.confusion_matrix(df['Actual class'], df['Classifier F'])"
   ]
  },
  {
   "cell_type": "code",
   "execution_count": 24,
   "metadata": {},
   "outputs": [
    {
     "name": "stdout",
     "output_type": "stream",
     "text": [
      "Recall  0.5\n",
      "FPR  1.0\n"
     ]
    }
   ],
   "source": [
    "TN = 0\n",
    "FP = 10\n",
    "FN = 0\n",
    "TP = 10\n",
    "Recall = TP/(TP+FP)\n",
    "FPR = FP/(FP+TN)\n",
    "Recall_l.append(Recall)\n",
    "Fpr_l.append(FPR)\n",
    "print('Recall ',Recall)\n",
    "print('FPR ',FPR)"
   ]
  },
  {
   "cell_type": "markdown",
   "metadata": {},
   "source": [
    "# Classifier G"
   ]
  },
  {
   "cell_type": "code",
   "execution_count": 25,
   "metadata": {},
   "outputs": [
    {
     "data": {
      "text/plain": [
       "array([[7, 3],\n",
       "       [8, 2]], dtype=int64)"
      ]
     },
     "execution_count": 25,
     "metadata": {},
     "output_type": "execute_result"
    }
   ],
   "source": [
    "metrics.confusion_matrix(df['Actual class'], df['Classifier G'])"
   ]
  },
  {
   "cell_type": "code",
   "execution_count": 26,
   "metadata": {},
   "outputs": [
    {
     "name": "stdout",
     "output_type": "stream",
     "text": [
      "Recall  0.4\n",
      "FPR  0.3\n"
     ]
    }
   ],
   "source": [
    "TN = 7\n",
    "FP = 3\n",
    "FN = 8\n",
    "TP = 2\n",
    "Recall = TP/(TP+FP)\n",
    "FPR = FP/(FP+TN)\n",
    "Recall_l.append(Recall)\n",
    "Fpr_l.append(FPR)\n",
    "print('Recall ',Recall)\n",
    "print('FPR ',FPR)"
   ]
  },
  {
   "cell_type": "markdown",
   "metadata": {},
   "source": [
    "# Classifier H"
   ]
  },
  {
   "cell_type": "code",
   "execution_count": 27,
   "metadata": {},
   "outputs": [
    {
     "data": {
      "text/plain": [
       "array([[10,  0],\n",
       "       [ 0, 10]], dtype=int64)"
      ]
     },
     "execution_count": 27,
     "metadata": {},
     "output_type": "execute_result"
    }
   ],
   "source": [
    "metrics.confusion_matrix(df['Actual class'], df['Classifier H'])"
   ]
  },
  {
   "cell_type": "code",
   "execution_count": 28,
   "metadata": {},
   "outputs": [
    {
     "name": "stdout",
     "output_type": "stream",
     "text": [
      "Recall  1.0\n",
      "FPR  0.0\n"
     ]
    }
   ],
   "source": [
    "TN = 10\n",
    "FP = 0\n",
    "FN = 0\n",
    "TP = 10\n",
    "Recall = TP/(TP+FP)\n",
    "FPR = FP/(FP+TN)\n",
    "Recall_l.append(Recall)\n",
    "Fpr_l.append(FPR)\n",
    "print('Recall ',Recall)\n",
    "print('FPR ',FPR)"
   ]
  },
  {
   "cell_type": "markdown",
   "metadata": {},
   "source": [
    "# Classifier I"
   ]
  },
  {
   "cell_type": "code",
   "execution_count": 29,
   "metadata": {},
   "outputs": [
    {
     "data": {
      "text/plain": [
       "array([[5, 5],\n",
       "       [5, 5]], dtype=int64)"
      ]
     },
     "execution_count": 29,
     "metadata": {},
     "output_type": "execute_result"
    }
   ],
   "source": [
    "metrics.confusion_matrix(df['Actual class'], df['Classifier I'])"
   ]
  },
  {
   "cell_type": "code",
   "execution_count": 30,
   "metadata": {},
   "outputs": [
    {
     "name": "stdout",
     "output_type": "stream",
     "text": [
      "Recall  0.5\n",
      "FPR  0.5\n"
     ]
    }
   ],
   "source": [
    "TN = 5\n",
    "FP = 5\n",
    "FN = 5\n",
    "TP = 5\n",
    "Recall = TP/(TP+FP)\n",
    "FPR = FP/(FP+TN)\n",
    "Recall_l.append(Recall)\n",
    "Fpr_l.append(FPR)\n",
    "print('Recall ',Recall)\n",
    "print('FPR ',FPR)"
   ]
  },
  {
   "cell_type": "markdown",
   "metadata": {},
   "source": [
    "# Classifier J"
   ]
  },
  {
   "cell_type": "code",
   "execution_count": 31,
   "metadata": {},
   "outputs": [
    {
     "data": {
      "text/plain": [
       "array([[6, 4],\n",
       "       [4, 6]], dtype=int64)"
      ]
     },
     "execution_count": 31,
     "metadata": {},
     "output_type": "execute_result"
    }
   ],
   "source": [
    "metrics.confusion_matrix(df['Actual class'], df['Classifier J'])"
   ]
  },
  {
   "cell_type": "code",
   "execution_count": 32,
   "metadata": {},
   "outputs": [
    {
     "name": "stdout",
     "output_type": "stream",
     "text": [
      "Recall  0.6\n",
      "FPR  0.4\n"
     ]
    }
   ],
   "source": [
    "TN = 6\n",
    "FP = 4\n",
    "FN = 4\n",
    "TP = 6\n",
    "Recall = TP/(TP+FP)\n",
    "FPR = FP/(FP+TN)\n",
    "Recall_l.append(Recall)\n",
    "Fpr_l.append(FPR)\n",
    "print('Recall ',Recall)\n",
    "print('FPR ',FPR)"
   ]
  },
  {
   "cell_type": "code",
   "execution_count": 106,
   "metadata": {},
   "outputs": [
    {
     "name": "stdout",
     "output_type": "stream",
     "text": [
      "F G H I J\n"
     ]
    },
    {
     "data": {
      "image/png": "[encoded data removed]",
      "text/plain": [
       "<Figure size 432x288 with 1 Axes>"
      ]
     },
     "metadata": {
      "needs_background": "light"
     },
     "output_type": "display_data"
    }
   ],
   "source": [
    "import matplotlib.pyplot as plt\n",
    "y = Recall_l\n",
    "x = Fpr_l\n",
    "Labels=[\"F\", 'G' 'H', 'I','J']\n",
    "plt.scatter(x,y,linestyle='-',color='orange')\n",
    "plt.xlabel(\"FPR\")\n",
    "plt.ylabel('Recall')\n",
    "print('F G H I J')"
   ]
  },
  {
   "cell_type": "code",
   "execution_count": null,
   "metadata": {},
   "outputs": [],
   "source": []
  },
  {
   "cell_type": "markdown",
   "metadata": {},
   "source": [
    "# 4"
   ]
  },
  {
   "cell_type": "code",
   "execution_count": 70,
   "metadata": {},
   "outputs": [],
   "source": [
    "df2 = pd.read_csv(r'C:\\Users\\rohithy\\Desktop\\Data Mining\\3\\ques4.csv')"
   ]
  },
  {
   "cell_type": "code",
   "execution_count": 71,
   "metadata": {},
   "outputs": [
    {
     "data": {
      "text/html": [
       "<div>\n",
       "<style scoped>\n",
       "    .dataframe tbody tr th:only-of-type {\n",
       "        vertical-align: middle;\n",
       "    }\n",
       "\n",
       "    .dataframe tbody tr th {\n",
       "        vertical-align: top;\n",
       "    }\n",
       "\n",
       "    .dataframe thead th {\n",
       "        text-align: right;\n",
       "    }\n",
       "</style>\n",
       "<table border=\"1\" class=\"dataframe\">\n",
       "  <thead>\n",
       "    <tr style=\"text-align: right;\">\n",
       "      <th></th>\n",
       "      <th>Instance</th>\n",
       "      <th>(Known) class label</th>\n",
       "      <th>(Returned)</th>\n",
       "      <th>?0</th>\n",
       "      <th>?0.1</th>\n",
       "      <th>?0.2</th>\n",
       "      <th>?0.3</th>\n",
       "      <th>?0.4</th>\n",
       "      <th>?0.5</th>\n",
       "      <th>?0.6</th>\n",
       "      <th>?0.7</th>\n",
       "      <th>?0.8</th>\n",
       "      <th>?0.9</th>\n",
       "      <th>?1.0</th>\n",
       "    </tr>\n",
       "  </thead>\n",
       "  <tbody>\n",
       "    <tr>\n",
       "      <th>0</th>\n",
       "      <td>NaN</td>\n",
       "      <td>NaN</td>\n",
       "      <td>probability</td>\n",
       "      <td>NaN</td>\n",
       "      <td>NaN</td>\n",
       "      <td>NaN</td>\n",
       "      <td>NaN</td>\n",
       "      <td>NaN</td>\n",
       "      <td>NaN</td>\n",
       "      <td>NaN</td>\n",
       "      <td>NaN</td>\n",
       "      <td>NaN</td>\n",
       "      <td>NaN</td>\n",
       "      <td>NaN</td>\n",
       "    </tr>\n",
       "    <tr>\n",
       "      <th>1</th>\n",
       "      <td>1</td>\n",
       "      <td>1.0</td>\n",
       "      <td>0.99</td>\n",
       "      <td>NaN</td>\n",
       "      <td>NaN</td>\n",
       "      <td>NaN</td>\n",
       "      <td>NaN</td>\n",
       "      <td>NaN</td>\n",
       "      <td>NaN</td>\n",
       "      <td>NaN</td>\n",
       "      <td>NaN</td>\n",
       "      <td>NaN</td>\n",
       "      <td>NaN</td>\n",
       "      <td>NaN</td>\n",
       "    </tr>\n",
       "    <tr>\n",
       "      <th>2</th>\n",
       "      <td>2</td>\n",
       "      <td>1.0</td>\n",
       "      <td>0.88</td>\n",
       "      <td>NaN</td>\n",
       "      <td>NaN</td>\n",
       "      <td>NaN</td>\n",
       "      <td>NaN</td>\n",
       "      <td>NaN</td>\n",
       "      <td>NaN</td>\n",
       "      <td>NaN</td>\n",
       "      <td>NaN</td>\n",
       "      <td>NaN</td>\n",
       "      <td>NaN</td>\n",
       "      <td>NaN</td>\n",
       "    </tr>\n",
       "    <tr>\n",
       "      <th>3</th>\n",
       "      <td>3</td>\n",
       "      <td>0.0</td>\n",
       "      <td>0.77</td>\n",
       "      <td>NaN</td>\n",
       "      <td>NaN</td>\n",
       "      <td>NaN</td>\n",
       "      <td>NaN</td>\n",
       "      <td>NaN</td>\n",
       "      <td>NaN</td>\n",
       "      <td>NaN</td>\n",
       "      <td>NaN</td>\n",
       "      <td>NaN</td>\n",
       "      <td>NaN</td>\n",
       "      <td>NaN</td>\n",
       "    </tr>\n",
       "    <tr>\n",
       "      <th>4</th>\n",
       "      <td>4</td>\n",
       "      <td>0.0</td>\n",
       "      <td>0.44</td>\n",
       "      <td>NaN</td>\n",
       "      <td>NaN</td>\n",
       "      <td>NaN</td>\n",
       "      <td>NaN</td>\n",
       "      <td>NaN</td>\n",
       "      <td>NaN</td>\n",
       "      <td>NaN</td>\n",
       "      <td>NaN</td>\n",
       "      <td>NaN</td>\n",
       "      <td>NaN</td>\n",
       "      <td>NaN</td>\n",
       "    </tr>\n",
       "    <tr>\n",
       "      <th>5</th>\n",
       "      <td>5</td>\n",
       "      <td>1.0</td>\n",
       "      <td>0.66</td>\n",
       "      <td>NaN</td>\n",
       "      <td>NaN</td>\n",
       "      <td>NaN</td>\n",
       "      <td>NaN</td>\n",
       "      <td>NaN</td>\n",
       "      <td>NaN</td>\n",
       "      <td>NaN</td>\n",
       "      <td>NaN</td>\n",
       "      <td>NaN</td>\n",
       "      <td>NaN</td>\n",
       "      <td>NaN</td>\n",
       "    </tr>\n",
       "    <tr>\n",
       "      <th>6</th>\n",
       "      <td>6</td>\n",
       "      <td>1.0</td>\n",
       "      <td>0.55</td>\n",
       "      <td>NaN</td>\n",
       "      <td>NaN</td>\n",
       "      <td>NaN</td>\n",
       "      <td>NaN</td>\n",
       "      <td>NaN</td>\n",
       "      <td>NaN</td>\n",
       "      <td>NaN</td>\n",
       "      <td>NaN</td>\n",
       "      <td>NaN</td>\n",
       "      <td>NaN</td>\n",
       "      <td>NaN</td>\n",
       "    </tr>\n",
       "    <tr>\n",
       "      <th>7</th>\n",
       "      <td>7</td>\n",
       "      <td>0.0</td>\n",
       "      <td>0.58</td>\n",
       "      <td>NaN</td>\n",
       "      <td>NaN</td>\n",
       "      <td>NaN</td>\n",
       "      <td>NaN</td>\n",
       "      <td>NaN</td>\n",
       "      <td>NaN</td>\n",
       "      <td>NaN</td>\n",
       "      <td>NaN</td>\n",
       "      <td>NaN</td>\n",
       "      <td>NaN</td>\n",
       "      <td>NaN</td>\n",
       "    </tr>\n",
       "    <tr>\n",
       "      <th>8</th>\n",
       "      <td>8</td>\n",
       "      <td>0.0</td>\n",
       "      <td>0.11</td>\n",
       "      <td>NaN</td>\n",
       "      <td>NaN</td>\n",
       "      <td>NaN</td>\n",
       "      <td>NaN</td>\n",
       "      <td>NaN</td>\n",
       "      <td>NaN</td>\n",
       "      <td>NaN</td>\n",
       "      <td>NaN</td>\n",
       "      <td>NaN</td>\n",
       "      <td>NaN</td>\n",
       "      <td>NaN</td>\n",
       "    </tr>\n",
       "    <tr>\n",
       "      <th>9</th>\n",
       "      <td>9</td>\n",
       "      <td>1.0</td>\n",
       "      <td>0.44</td>\n",
       "      <td>NaN</td>\n",
       "      <td>NaN</td>\n",
       "      <td>NaN</td>\n",
       "      <td>NaN</td>\n",
       "      <td>NaN</td>\n",
       "      <td>NaN</td>\n",
       "      <td>NaN</td>\n",
       "      <td>NaN</td>\n",
       "      <td>NaN</td>\n",
       "      <td>NaN</td>\n",
       "      <td>NaN</td>\n",
       "    </tr>\n",
       "    <tr>\n",
       "      <th>10</th>\n",
       "      <td>10</td>\n",
       "      <td>1.0</td>\n",
       "      <td>0.79</td>\n",
       "      <td>NaN</td>\n",
       "      <td>NaN</td>\n",
       "      <td>NaN</td>\n",
       "      <td>NaN</td>\n",
       "      <td>NaN</td>\n",
       "      <td>NaN</td>\n",
       "      <td>NaN</td>\n",
       "      <td>NaN</td>\n",
       "      <td>NaN</td>\n",
       "      <td>NaN</td>\n",
       "      <td>NaN</td>\n",
       "    </tr>\n",
       "    <tr>\n",
       "      <th>11</th>\n",
       "      <td>11</td>\n",
       "      <td>0.0</td>\n",
       "      <td>0.33</td>\n",
       "      <td>NaN</td>\n",
       "      <td>NaN</td>\n",
       "      <td>NaN</td>\n",
       "      <td>NaN</td>\n",
       "      <td>NaN</td>\n",
       "      <td>NaN</td>\n",
       "      <td>NaN</td>\n",
       "      <td>NaN</td>\n",
       "      <td>NaN</td>\n",
       "      <td>NaN</td>\n",
       "      <td>NaN</td>\n",
       "    </tr>\n",
       "    <tr>\n",
       "      <th>12</th>\n",
       "      <td>12</td>\n",
       "      <td>0.0</td>\n",
       "      <td>0.22</td>\n",
       "      <td>NaN</td>\n",
       "      <td>NaN</td>\n",
       "      <td>NaN</td>\n",
       "      <td>NaN</td>\n",
       "      <td>NaN</td>\n",
       "      <td>NaN</td>\n",
       "      <td>NaN</td>\n",
       "      <td>NaN</td>\n",
       "      <td>NaN</td>\n",
       "      <td>NaN</td>\n",
       "      <td>NaN</td>\n",
       "    </tr>\n",
       "    <tr>\n",
       "      <th>13</th>\n",
       "      <td>13</td>\n",
       "      <td>1.0</td>\n",
       "      <td>0.75</td>\n",
       "      <td>NaN</td>\n",
       "      <td>NaN</td>\n",
       "      <td>NaN</td>\n",
       "      <td>NaN</td>\n",
       "      <td>NaN</td>\n",
       "      <td>NaN</td>\n",
       "      <td>NaN</td>\n",
       "      <td>NaN</td>\n",
       "      <td>NaN</td>\n",
       "      <td>NaN</td>\n",
       "      <td>NaN</td>\n",
       "    </tr>\n",
       "    <tr>\n",
       "      <th>14</th>\n",
       "      <td>14</td>\n",
       "      <td>1.0</td>\n",
       "      <td>0.65</td>\n",
       "      <td>NaN</td>\n",
       "      <td>NaN</td>\n",
       "      <td>NaN</td>\n",
       "      <td>NaN</td>\n",
       "      <td>NaN</td>\n",
       "      <td>NaN</td>\n",
       "      <td>NaN</td>\n",
       "      <td>NaN</td>\n",
       "      <td>NaN</td>\n",
       "      <td>NaN</td>\n",
       "      <td>NaN</td>\n",
       "    </tr>\n",
       "    <tr>\n",
       "      <th>15</th>\n",
       "      <td>15</td>\n",
       "      <td>0.0</td>\n",
       "      <td>0.51</td>\n",
       "      <td>NaN</td>\n",
       "      <td>NaN</td>\n",
       "      <td>NaN</td>\n",
       "      <td>NaN</td>\n",
       "      <td>NaN</td>\n",
       "      <td>NaN</td>\n",
       "      <td>NaN</td>\n",
       "      <td>NaN</td>\n",
       "      <td>NaN</td>\n",
       "      <td>NaN</td>\n",
       "      <td>NaN</td>\n",
       "    </tr>\n",
       "    <tr>\n",
       "      <th>16</th>\n",
       "      <td>16</td>\n",
       "      <td>0.0</td>\n",
       "      <td>0.15</td>\n",
       "      <td>NaN</td>\n",
       "      <td>NaN</td>\n",
       "      <td>NaN</td>\n",
       "      <td>NaN</td>\n",
       "      <td>NaN</td>\n",
       "      <td>NaN</td>\n",
       "      <td>NaN</td>\n",
       "      <td>NaN</td>\n",
       "      <td>NaN</td>\n",
       "      <td>NaN</td>\n",
       "      <td>NaN</td>\n",
       "    </tr>\n",
       "    <tr>\n",
       "      <th>17</th>\n",
       "      <td>17</td>\n",
       "      <td>1.0</td>\n",
       "      <td>0.63</td>\n",
       "      <td>NaN</td>\n",
       "      <td>NaN</td>\n",
       "      <td>NaN</td>\n",
       "      <td>NaN</td>\n",
       "      <td>NaN</td>\n",
       "      <td>NaN</td>\n",
       "      <td>NaN</td>\n",
       "      <td>NaN</td>\n",
       "      <td>NaN</td>\n",
       "      <td>NaN</td>\n",
       "      <td>NaN</td>\n",
       "    </tr>\n",
       "    <tr>\n",
       "      <th>18</th>\n",
       "      <td>18</td>\n",
       "      <td>1.0</td>\n",
       "      <td>0.36</td>\n",
       "      <td>NaN</td>\n",
       "      <td>NaN</td>\n",
       "      <td>NaN</td>\n",
       "      <td>NaN</td>\n",
       "      <td>NaN</td>\n",
       "      <td>NaN</td>\n",
       "      <td>NaN</td>\n",
       "      <td>NaN</td>\n",
       "      <td>NaN</td>\n",
       "      <td>NaN</td>\n",
       "      <td>NaN</td>\n",
       "    </tr>\n",
       "    <tr>\n",
       "      <th>19</th>\n",
       "      <td>19</td>\n",
       "      <td>0.0</td>\n",
       "      <td>0.18</td>\n",
       "      <td>NaN</td>\n",
       "      <td>NaN</td>\n",
       "      <td>NaN</td>\n",
       "      <td>NaN</td>\n",
       "      <td>NaN</td>\n",
       "      <td>NaN</td>\n",
       "      <td>NaN</td>\n",
       "      <td>NaN</td>\n",
       "      <td>NaN</td>\n",
       "      <td>NaN</td>\n",
       "      <td>NaN</td>\n",
       "    </tr>\n",
       "    <tr>\n",
       "      <th>20</th>\n",
       "      <td>20</td>\n",
       "      <td>0.0</td>\n",
       "      <td>0.42</td>\n",
       "      <td>NaN</td>\n",
       "      <td>NaN</td>\n",
       "      <td>NaN</td>\n",
       "      <td>NaN</td>\n",
       "      <td>NaN</td>\n",
       "      <td>NaN</td>\n",
       "      <td>NaN</td>\n",
       "      <td>NaN</td>\n",
       "      <td>NaN</td>\n",
       "      <td>NaN</td>\n",
       "      <td>NaN</td>\n",
       "    </tr>\n",
       "    <tr>\n",
       "      <th>21</th>\n",
       "      <td>NaN</td>\n",
       "      <td>NaN</td>\n",
       "      <td>NaN</td>\n",
       "      <td>NaN</td>\n",
       "      <td>NaN</td>\n",
       "      <td>NaN</td>\n",
       "      <td>NaN</td>\n",
       "      <td>NaN</td>\n",
       "      <td>NaN</td>\n",
       "      <td>NaN</td>\n",
       "      <td>NaN</td>\n",
       "      <td>NaN</td>\n",
       "      <td>NaN</td>\n",
       "      <td>NaN</td>\n",
       "    </tr>\n",
       "    <tr>\n",
       "      <th>22</th>\n",
       "      <td>TP</td>\n",
       "      <td>NaN</td>\n",
       "      <td>NaN</td>\n",
       "      <td>NaN</td>\n",
       "      <td>NaN</td>\n",
       "      <td>NaN</td>\n",
       "      <td>NaN</td>\n",
       "      <td>NaN</td>\n",
       "      <td>NaN</td>\n",
       "      <td>NaN</td>\n",
       "      <td>NaN</td>\n",
       "      <td>NaN</td>\n",
       "      <td>NaN</td>\n",
       "      <td>NaN</td>\n",
       "    </tr>\n",
       "    <tr>\n",
       "      <th>23</th>\n",
       "      <td>FP</td>\n",
       "      <td>NaN</td>\n",
       "      <td>NaN</td>\n",
       "      <td>NaN</td>\n",
       "      <td>NaN</td>\n",
       "      <td>NaN</td>\n",
       "      <td>NaN</td>\n",
       "      <td>NaN</td>\n",
       "      <td>NaN</td>\n",
       "      <td>NaN</td>\n",
       "      <td>NaN</td>\n",
       "      <td>NaN</td>\n",
       "      <td>NaN</td>\n",
       "      <td>NaN</td>\n",
       "    </tr>\n",
       "    <tr>\n",
       "      <th>24</th>\n",
       "      <td>FN</td>\n",
       "      <td>NaN</td>\n",
       "      <td>NaN</td>\n",
       "      <td>NaN</td>\n",
       "      <td>NaN</td>\n",
       "      <td>NaN</td>\n",
       "      <td>NaN</td>\n",
       "      <td>NaN</td>\n",
       "      <td>NaN</td>\n",
       "      <td>NaN</td>\n",
       "      <td>NaN</td>\n",
       "      <td>NaN</td>\n",
       "      <td>NaN</td>\n",
       "      <td>NaN</td>\n",
       "    </tr>\n",
       "    <tr>\n",
       "      <th>25</th>\n",
       "      <td>TN</td>\n",
       "      <td>NaN</td>\n",
       "      <td>NaN</td>\n",
       "      <td>NaN</td>\n",
       "      <td>NaN</td>\n",
       "      <td>NaN</td>\n",
       "      <td>NaN</td>\n",
       "      <td>NaN</td>\n",
       "      <td>NaN</td>\n",
       "      <td>NaN</td>\n",
       "      <td>NaN</td>\n",
       "      <td>NaN</td>\n",
       "      <td>NaN</td>\n",
       "      <td>NaN</td>\n",
       "    </tr>\n",
       "    <tr>\n",
       "      <th>27</th>\n",
       "      <td>precision</td>\n",
       "      <td>NaN</td>\n",
       "      <td>NaN</td>\n",
       "      <td>NaN</td>\n",
       "      <td>NaN</td>\n",
       "      <td>NaN</td>\n",
       "      <td>NaN</td>\n",
       "      <td>NaN</td>\n",
       "      <td>NaN</td>\n",
       "      <td>NaN</td>\n",
       "      <td>NaN</td>\n",
       "      <td>NaN</td>\n",
       "      <td>NaN</td>\n",
       "      <td>NaN</td>\n",
       "    </tr>\n",
       "    <tr>\n",
       "      <th>28</th>\n",
       "      <td>recall</td>\n",
       "      <td>NaN</td>\n",
       "      <td>NaN</td>\n",
       "      <td>NaN</td>\n",
       "      <td>NaN</td>\n",
       "      <td>NaN</td>\n",
       "      <td>NaN</td>\n",
       "      <td>NaN</td>\n",
       "      <td>NaN</td>\n",
       "      <td>NaN</td>\n",
       "      <td>NaN</td>\n",
       "      <td>NaN</td>\n",
       "      <td>NaN</td>\n",
       "      <td>NaN</td>\n",
       "    </tr>\n",
       "    <tr>\n",
       "      <th>29</th>\n",
       "      <td>F1-score</td>\n",
       "      <td>NaN</td>\n",
       "      <td>NaN</td>\n",
       "      <td>NaN</td>\n",
       "      <td>NaN</td>\n",
       "      <td>NaN</td>\n",
       "      <td>NaN</td>\n",
       "      <td>NaN</td>\n",
       "      <td>NaN</td>\n",
       "      <td>NaN</td>\n",
       "      <td>NaN</td>\n",
       "      <td>NaN</td>\n",
       "      <td>NaN</td>\n",
       "      <td>NaN</td>\n",
       "    </tr>\n",
       "    <tr>\n",
       "      <th>30</th>\n",
       "      <td>TPR</td>\n",
       "      <td>NaN</td>\n",
       "      <td>NaN</td>\n",
       "      <td>NaN</td>\n",
       "      <td>NaN</td>\n",
       "      <td>NaN</td>\n",
       "      <td>NaN</td>\n",
       "      <td>NaN</td>\n",
       "      <td>NaN</td>\n",
       "      <td>NaN</td>\n",
       "      <td>NaN</td>\n",
       "      <td>NaN</td>\n",
       "      <td>NaN</td>\n",
       "      <td>NaN</td>\n",
       "    </tr>\n",
       "    <tr>\n",
       "      <th>31</th>\n",
       "      <td>FPR</td>\n",
       "      <td>NaN</td>\n",
       "      <td>NaN</td>\n",
       "      <td>NaN</td>\n",
       "      <td>NaN</td>\n",
       "      <td>NaN</td>\n",
       "      <td>NaN</td>\n",
       "      <td>NaN</td>\n",
       "      <td>NaN</td>\n",
       "      <td>NaN</td>\n",
       "      <td>NaN</td>\n",
       "      <td>NaN</td>\n",
       "      <td>NaN</td>\n",
       "      <td>NaN</td>\n",
       "    </tr>\n",
       "  </tbody>\n",
       "</table>\n",
       "</div>"
      ],
      "text/plain": [
       "     Instance  (Known) class label   (Returned)  ?0  ?0.1  ?0.2  ?0.3  ?0.4  \\\n",
       "0         NaN                  NaN  probability NaN   NaN   NaN   NaN   NaN   \n",
       "1           1                  1.0         0.99 NaN   NaN   NaN   NaN   NaN   \n",
       "2           2                  1.0         0.88 NaN   NaN   NaN   NaN   NaN   \n",
       "3           3                  0.0         0.77 NaN   NaN   NaN   NaN   NaN   \n",
       "4           4                  0.0         0.44 NaN   NaN   NaN   NaN   NaN   \n",
       "5           5                  1.0         0.66 NaN   NaN   NaN   NaN   NaN   \n",
       "6           6                  1.0         0.55 NaN   NaN   NaN   NaN   NaN   \n",
       "7           7                  0.0         0.58 NaN   NaN   NaN   NaN   NaN   \n",
       "8           8                  0.0         0.11 NaN   NaN   NaN   NaN   NaN   \n",
       "9           9                  1.0         0.44 NaN   NaN   NaN   NaN   NaN   \n",
       "10         10                  1.0         0.79 NaN   NaN   NaN   NaN   NaN   \n",
       "11         11                  0.0         0.33 NaN   NaN   NaN   NaN   NaN   \n",
       "12         12                  0.0         0.22 NaN   NaN   NaN   NaN   NaN   \n",
       "13         13                  1.0         0.75 NaN   NaN   NaN   NaN   NaN   \n",
       "14         14                  1.0         0.65 NaN   NaN   NaN   NaN   NaN   \n",
       "15         15                  0.0         0.51 NaN   NaN   NaN   NaN   NaN   \n",
       "16         16                  0.0         0.15 NaN   NaN   NaN   NaN   NaN   \n",
       "17         17                  1.0         0.63 NaN   NaN   NaN   NaN   NaN   \n",
       "18         18                  1.0         0.36 NaN   NaN   NaN   NaN   NaN   \n",
       "19         19                  0.0         0.18 NaN   NaN   NaN   NaN   NaN   \n",
       "20         20                  0.0         0.42 NaN   NaN   NaN   NaN   NaN   \n",
       "21        NaN                  NaN          NaN NaN   NaN   NaN   NaN   NaN   \n",
       "22         TP                  NaN          NaN NaN   NaN   NaN   NaN   NaN   \n",
       "23         FP                  NaN          NaN NaN   NaN   NaN   NaN   NaN   \n",
       "24         FN                  NaN          NaN NaN   NaN   NaN   NaN   NaN   \n",
       "25         TN                  NaN          NaN NaN   NaN   NaN   NaN   NaN   \n",
       "27  precision                  NaN          NaN NaN   NaN   NaN   NaN   NaN   \n",
       "28     recall                  NaN          NaN NaN   NaN   NaN   NaN   NaN   \n",
       "29   F1-score                  NaN          NaN NaN   NaN   NaN   NaN   NaN   \n",
       "30        TPR                  NaN          NaN NaN   NaN   NaN   NaN   NaN   \n",
       "31        FPR                  NaN          NaN NaN   NaN   NaN   NaN   NaN   \n",
       "\n",
       "    ?0.5  ?0.6  ?0.7  ?0.8  ?0.9  ?1.0  \n",
       "0    NaN   NaN   NaN   NaN   NaN   NaN  \n",
       "1    NaN   NaN   NaN   NaN   NaN   NaN  \n",
       "2    NaN   NaN   NaN   NaN   NaN   NaN  \n",
       "3    NaN   NaN   NaN   NaN   NaN   NaN  \n",
       "4    NaN   NaN   NaN   NaN   NaN   NaN  \n",
       "5    NaN   NaN   NaN   NaN   NaN   NaN  \n",
       "6    NaN   NaN   NaN   NaN   NaN   NaN  \n",
       "7    NaN   NaN   NaN   NaN   NaN   NaN  \n",
       "8    NaN   NaN   NaN   NaN   NaN   NaN  \n",
       "9    NaN   NaN   NaN   NaN   NaN   NaN  \n",
       "10   NaN   NaN   NaN   NaN   NaN   NaN  \n",
       "11   NaN   NaN   NaN   NaN   NaN   NaN  \n",
       "12   NaN   NaN   NaN   NaN   NaN   NaN  \n",
       "13   NaN   NaN   NaN   NaN   NaN   NaN  \n",
       "14   NaN   NaN   NaN   NaN   NaN   NaN  \n",
       "15   NaN   NaN   NaN   NaN   NaN   NaN  \n",
       "16   NaN   NaN   NaN   NaN   NaN   NaN  \n",
       "17   NaN   NaN   NaN   NaN   NaN   NaN  \n",
       "18   NaN   NaN   NaN   NaN   NaN   NaN  \n",
       "19   NaN   NaN   NaN   NaN   NaN   NaN  \n",
       "20   NaN   NaN   NaN   NaN   NaN   NaN  \n",
       "21   NaN   NaN   NaN   NaN   NaN   NaN  \n",
       "22   NaN   NaN   NaN   NaN   NaN   NaN  \n",
       "23   NaN   NaN   NaN   NaN   NaN   NaN  \n",
       "24   NaN   NaN   NaN   NaN   NaN   NaN  \n",
       "25   NaN   NaN   NaN   NaN   NaN   NaN  \n",
       "27   NaN   NaN   NaN   NaN   NaN   NaN  \n",
       "28   NaN   NaN   NaN   NaN   NaN   NaN  \n",
       "29   NaN   NaN   NaN   NaN   NaN   NaN  \n",
       "30   NaN   NaN   NaN   NaN   NaN   NaN  \n",
       "31   NaN   NaN   NaN   NaN   NaN   NaN  "
      ]
     },
     "execution_count": 71,
     "metadata": {},
     "output_type": "execute_result"
    }
   ],
   "source": [
    "df2.drop([21])\n",
    "df2.drop([26,])"
   ]
  },
  {
   "cell_type": "code",
   "execution_count": 72,
   "metadata": {},
   "outputs": [],
   "source": [
    "data = df2.copy()\n",
    "data.drop([0,21], inplace = True)\n",
    "data.drop(range(22,32),inplace = True)"
   ]
  },
  {
   "cell_type": "code",
   "execution_count": 73,
   "metadata": {},
   "outputs": [
    {
     "data": {
      "text/html": [
       "<div>\n",
       "<style scoped>\n",
       "    .dataframe tbody tr th:only-of-type {\n",
       "        vertical-align: middle;\n",
       "    }\n",
       "\n",
       "    .dataframe tbody tr th {\n",
       "        vertical-align: top;\n",
       "    }\n",
       "\n",
       "    .dataframe thead th {\n",
       "        text-align: right;\n",
       "    }\n",
       "</style>\n",
       "<table border=\"1\" class=\"dataframe\">\n",
       "  <thead>\n",
       "    <tr style=\"text-align: right;\">\n",
       "      <th></th>\n",
       "      <th>Instance</th>\n",
       "      <th>(Known) class label</th>\n",
       "      <th>(Returned)</th>\n",
       "      <th>?0</th>\n",
       "      <th>?0.1</th>\n",
       "      <th>?0.2</th>\n",
       "      <th>?0.3</th>\n",
       "      <th>?0.4</th>\n",
       "      <th>?0.5</th>\n",
       "      <th>?0.6</th>\n",
       "      <th>?0.7</th>\n",
       "      <th>?0.8</th>\n",
       "      <th>?0.9</th>\n",
       "      <th>?1.0</th>\n",
       "    </tr>\n",
       "  </thead>\n",
       "  <tbody>\n",
       "    <tr>\n",
       "      <th>1</th>\n",
       "      <td>1</td>\n",
       "      <td>1.0</td>\n",
       "      <td>0.99</td>\n",
       "      <td>NaN</td>\n",
       "      <td>NaN</td>\n",
       "      <td>NaN</td>\n",
       "      <td>NaN</td>\n",
       "      <td>NaN</td>\n",
       "      <td>NaN</td>\n",
       "      <td>NaN</td>\n",
       "      <td>NaN</td>\n",
       "      <td>NaN</td>\n",
       "      <td>NaN</td>\n",
       "      <td>NaN</td>\n",
       "    </tr>\n",
       "    <tr>\n",
       "      <th>2</th>\n",
       "      <td>2</td>\n",
       "      <td>1.0</td>\n",
       "      <td>0.88</td>\n",
       "      <td>NaN</td>\n",
       "      <td>NaN</td>\n",
       "      <td>NaN</td>\n",
       "      <td>NaN</td>\n",
       "      <td>NaN</td>\n",
       "      <td>NaN</td>\n",
       "      <td>NaN</td>\n",
       "      <td>NaN</td>\n",
       "      <td>NaN</td>\n",
       "      <td>NaN</td>\n",
       "      <td>NaN</td>\n",
       "    </tr>\n",
       "    <tr>\n",
       "      <th>3</th>\n",
       "      <td>3</td>\n",
       "      <td>0.0</td>\n",
       "      <td>0.77</td>\n",
       "      <td>NaN</td>\n",
       "      <td>NaN</td>\n",
       "      <td>NaN</td>\n",
       "      <td>NaN</td>\n",
       "      <td>NaN</td>\n",
       "      <td>NaN</td>\n",
       "      <td>NaN</td>\n",
       "      <td>NaN</td>\n",
       "      <td>NaN</td>\n",
       "      <td>NaN</td>\n",
       "      <td>NaN</td>\n",
       "    </tr>\n",
       "    <tr>\n",
       "      <th>4</th>\n",
       "      <td>4</td>\n",
       "      <td>0.0</td>\n",
       "      <td>0.44</td>\n",
       "      <td>NaN</td>\n",
       "      <td>NaN</td>\n",
       "      <td>NaN</td>\n",
       "      <td>NaN</td>\n",
       "      <td>NaN</td>\n",
       "      <td>NaN</td>\n",
       "      <td>NaN</td>\n",
       "      <td>NaN</td>\n",
       "      <td>NaN</td>\n",
       "      <td>NaN</td>\n",
       "      <td>NaN</td>\n",
       "    </tr>\n",
       "    <tr>\n",
       "      <th>5</th>\n",
       "      <td>5</td>\n",
       "      <td>1.0</td>\n",
       "      <td>0.66</td>\n",
       "      <td>NaN</td>\n",
       "      <td>NaN</td>\n",
       "      <td>NaN</td>\n",
       "      <td>NaN</td>\n",
       "      <td>NaN</td>\n",
       "      <td>NaN</td>\n",
       "      <td>NaN</td>\n",
       "      <td>NaN</td>\n",
       "      <td>NaN</td>\n",
       "      <td>NaN</td>\n",
       "      <td>NaN</td>\n",
       "    </tr>\n",
       "    <tr>\n",
       "      <th>6</th>\n",
       "      <td>6</td>\n",
       "      <td>1.0</td>\n",
       "      <td>0.55</td>\n",
       "      <td>NaN</td>\n",
       "      <td>NaN</td>\n",
       "      <td>NaN</td>\n",
       "      <td>NaN</td>\n",
       "      <td>NaN</td>\n",
       "      <td>NaN</td>\n",
       "      <td>NaN</td>\n",
       "      <td>NaN</td>\n",
       "      <td>NaN</td>\n",
       "      <td>NaN</td>\n",
       "      <td>NaN</td>\n",
       "    </tr>\n",
       "    <tr>\n",
       "      <th>7</th>\n",
       "      <td>7</td>\n",
       "      <td>0.0</td>\n",
       "      <td>0.58</td>\n",
       "      <td>NaN</td>\n",
       "      <td>NaN</td>\n",
       "      <td>NaN</td>\n",
       "      <td>NaN</td>\n",
       "      <td>NaN</td>\n",
       "      <td>NaN</td>\n",
       "      <td>NaN</td>\n",
       "      <td>NaN</td>\n",
       "      <td>NaN</td>\n",
       "      <td>NaN</td>\n",
       "      <td>NaN</td>\n",
       "    </tr>\n",
       "    <tr>\n",
       "      <th>8</th>\n",
       "      <td>8</td>\n",
       "      <td>0.0</td>\n",
       "      <td>0.11</td>\n",
       "      <td>NaN</td>\n",
       "      <td>NaN</td>\n",
       "      <td>NaN</td>\n",
       "      <td>NaN</td>\n",
       "      <td>NaN</td>\n",
       "      <td>NaN</td>\n",
       "      <td>NaN</td>\n",
       "      <td>NaN</td>\n",
       "      <td>NaN</td>\n",
       "      <td>NaN</td>\n",
       "      <td>NaN</td>\n",
       "    </tr>\n",
       "    <tr>\n",
       "      <th>9</th>\n",
       "      <td>9</td>\n",
       "      <td>1.0</td>\n",
       "      <td>0.44</td>\n",
       "      <td>NaN</td>\n",
       "      <td>NaN</td>\n",
       "      <td>NaN</td>\n",
       "      <td>NaN</td>\n",
       "      <td>NaN</td>\n",
       "      <td>NaN</td>\n",
       "      <td>NaN</td>\n",
       "      <td>NaN</td>\n",
       "      <td>NaN</td>\n",
       "      <td>NaN</td>\n",
       "      <td>NaN</td>\n",
       "    </tr>\n",
       "    <tr>\n",
       "      <th>10</th>\n",
       "      <td>10</td>\n",
       "      <td>1.0</td>\n",
       "      <td>0.79</td>\n",
       "      <td>NaN</td>\n",
       "      <td>NaN</td>\n",
       "      <td>NaN</td>\n",
       "      <td>NaN</td>\n",
       "      <td>NaN</td>\n",
       "      <td>NaN</td>\n",
       "      <td>NaN</td>\n",
       "      <td>NaN</td>\n",
       "      <td>NaN</td>\n",
       "      <td>NaN</td>\n",
       "      <td>NaN</td>\n",
       "    </tr>\n",
       "    <tr>\n",
       "      <th>11</th>\n",
       "      <td>11</td>\n",
       "      <td>0.0</td>\n",
       "      <td>0.33</td>\n",
       "      <td>NaN</td>\n",
       "      <td>NaN</td>\n",
       "      <td>NaN</td>\n",
       "      <td>NaN</td>\n",
       "      <td>NaN</td>\n",
       "      <td>NaN</td>\n",
       "      <td>NaN</td>\n",
       "      <td>NaN</td>\n",
       "      <td>NaN</td>\n",
       "      <td>NaN</td>\n",
       "      <td>NaN</td>\n",
       "    </tr>\n",
       "    <tr>\n",
       "      <th>12</th>\n",
       "      <td>12</td>\n",
       "      <td>0.0</td>\n",
       "      <td>0.22</td>\n",
       "      <td>NaN</td>\n",
       "      <td>NaN</td>\n",
       "      <td>NaN</td>\n",
       "      <td>NaN</td>\n",
       "      <td>NaN</td>\n",
       "      <td>NaN</td>\n",
       "      <td>NaN</td>\n",
       "      <td>NaN</td>\n",
       "      <td>NaN</td>\n",
       "      <td>NaN</td>\n",
       "      <td>NaN</td>\n",
       "    </tr>\n",
       "    <tr>\n",
       "      <th>13</th>\n",
       "      <td>13</td>\n",
       "      <td>1.0</td>\n",
       "      <td>0.75</td>\n",
       "      <td>NaN</td>\n",
       "      <td>NaN</td>\n",
       "      <td>NaN</td>\n",
       "      <td>NaN</td>\n",
       "      <td>NaN</td>\n",
       "      <td>NaN</td>\n",
       "      <td>NaN</td>\n",
       "      <td>NaN</td>\n",
       "      <td>NaN</td>\n",
       "      <td>NaN</td>\n",
       "      <td>NaN</td>\n",
       "    </tr>\n",
       "    <tr>\n",
       "      <th>14</th>\n",
       "      <td>14</td>\n",
       "      <td>1.0</td>\n",
       "      <td>0.65</td>\n",
       "      <td>NaN</td>\n",
       "      <td>NaN</td>\n",
       "      <td>NaN</td>\n",
       "      <td>NaN</td>\n",
       "      <td>NaN</td>\n",
       "      <td>NaN</td>\n",
       "      <td>NaN</td>\n",
       "      <td>NaN</td>\n",
       "      <td>NaN</td>\n",
       "      <td>NaN</td>\n",
       "      <td>NaN</td>\n",
       "    </tr>\n",
       "    <tr>\n",
       "      <th>15</th>\n",
       "      <td>15</td>\n",
       "      <td>0.0</td>\n",
       "      <td>0.51</td>\n",
       "      <td>NaN</td>\n",
       "      <td>NaN</td>\n",
       "      <td>NaN</td>\n",
       "      <td>NaN</td>\n",
       "      <td>NaN</td>\n",
       "      <td>NaN</td>\n",
       "      <td>NaN</td>\n",
       "      <td>NaN</td>\n",
       "      <td>NaN</td>\n",
       "      <td>NaN</td>\n",
       "      <td>NaN</td>\n",
       "    </tr>\n",
       "    <tr>\n",
       "      <th>16</th>\n",
       "      <td>16</td>\n",
       "      <td>0.0</td>\n",
       "      <td>0.15</td>\n",
       "      <td>NaN</td>\n",
       "      <td>NaN</td>\n",
       "      <td>NaN</td>\n",
       "      <td>NaN</td>\n",
       "      <td>NaN</td>\n",
       "      <td>NaN</td>\n",
       "      <td>NaN</td>\n",
       "      <td>NaN</td>\n",
       "      <td>NaN</td>\n",
       "      <td>NaN</td>\n",
       "      <td>NaN</td>\n",
       "    </tr>\n",
       "    <tr>\n",
       "      <th>17</th>\n",
       "      <td>17</td>\n",
       "      <td>1.0</td>\n",
       "      <td>0.63</td>\n",
       "      <td>NaN</td>\n",
       "      <td>NaN</td>\n",
       "      <td>NaN</td>\n",
       "      <td>NaN</td>\n",
       "      <td>NaN</td>\n",
       "      <td>NaN</td>\n",
       "      <td>NaN</td>\n",
       "      <td>NaN</td>\n",
       "      <td>NaN</td>\n",
       "      <td>NaN</td>\n",
       "      <td>NaN</td>\n",
       "    </tr>\n",
       "    <tr>\n",
       "      <th>18</th>\n",
       "      <td>18</td>\n",
       "      <td>1.0</td>\n",
       "      <td>0.36</td>\n",
       "      <td>NaN</td>\n",
       "      <td>NaN</td>\n",
       "      <td>NaN</td>\n",
       "      <td>NaN</td>\n",
       "      <td>NaN</td>\n",
       "      <td>NaN</td>\n",
       "      <td>NaN</td>\n",
       "      <td>NaN</td>\n",
       "      <td>NaN</td>\n",
       "      <td>NaN</td>\n",
       "      <td>NaN</td>\n",
       "    </tr>\n",
       "    <tr>\n",
       "      <th>19</th>\n",
       "      <td>19</td>\n",
       "      <td>0.0</td>\n",
       "      <td>0.18</td>\n",
       "      <td>NaN</td>\n",
       "      <td>NaN</td>\n",
       "      <td>NaN</td>\n",
       "      <td>NaN</td>\n",
       "      <td>NaN</td>\n",
       "      <td>NaN</td>\n",
       "      <td>NaN</td>\n",
       "      <td>NaN</td>\n",
       "      <td>NaN</td>\n",
       "      <td>NaN</td>\n",
       "      <td>NaN</td>\n",
       "    </tr>\n",
       "    <tr>\n",
       "      <th>20</th>\n",
       "      <td>20</td>\n",
       "      <td>0.0</td>\n",
       "      <td>0.42</td>\n",
       "      <td>NaN</td>\n",
       "      <td>NaN</td>\n",
       "      <td>NaN</td>\n",
       "      <td>NaN</td>\n",
       "      <td>NaN</td>\n",
       "      <td>NaN</td>\n",
       "      <td>NaN</td>\n",
       "      <td>NaN</td>\n",
       "      <td>NaN</td>\n",
       "      <td>NaN</td>\n",
       "      <td>NaN</td>\n",
       "    </tr>\n",
       "  </tbody>\n",
       "</table>\n",
       "</div>"
      ],
      "text/plain": [
       "   Instance  (Known) class label (Returned)  ?0  ?0.1  ?0.2  ?0.3  ?0.4  ?0.5  \\\n",
       "1         1                  1.0       0.99 NaN   NaN   NaN   NaN   NaN   NaN   \n",
       "2         2                  1.0       0.88 NaN   NaN   NaN   NaN   NaN   NaN   \n",
       "3         3                  0.0       0.77 NaN   NaN   NaN   NaN   NaN   NaN   \n",
       "4         4                  0.0       0.44 NaN   NaN   NaN   NaN   NaN   NaN   \n",
       "5         5                  1.0       0.66 NaN   NaN   NaN   NaN   NaN   NaN   \n",
       "6         6                  1.0       0.55 NaN   NaN   NaN   NaN   NaN   NaN   \n",
       "7         7                  0.0       0.58 NaN   NaN   NaN   NaN   NaN   NaN   \n",
       "8         8                  0.0       0.11 NaN   NaN   NaN   NaN   NaN   NaN   \n",
       "9         9                  1.0       0.44 NaN   NaN   NaN   NaN   NaN   NaN   \n",
       "10       10                  1.0       0.79 NaN   NaN   NaN   NaN   NaN   NaN   \n",
       "11       11                  0.0       0.33 NaN   NaN   NaN   NaN   NaN   NaN   \n",
       "12       12                  0.0       0.22 NaN   NaN   NaN   NaN   NaN   NaN   \n",
       "13       13                  1.0       0.75 NaN   NaN   NaN   NaN   NaN   NaN   \n",
       "14       14                  1.0       0.65 NaN   NaN   NaN   NaN   NaN   NaN   \n",
       "15       15                  0.0       0.51 NaN   NaN   NaN   NaN   NaN   NaN   \n",
       "16       16                  0.0       0.15 NaN   NaN   NaN   NaN   NaN   NaN   \n",
       "17       17                  1.0       0.63 NaN   NaN   NaN   NaN   NaN   NaN   \n",
       "18       18                  1.0       0.36 NaN   NaN   NaN   NaN   NaN   NaN   \n",
       "19       19                  0.0       0.18 NaN   NaN   NaN   NaN   NaN   NaN   \n",
       "20       20                  0.0       0.42 NaN   NaN   NaN   NaN   NaN   NaN   \n",
       "\n",
       "    ?0.6  ?0.7  ?0.8  ?0.9  ?1.0  \n",
       "1    NaN   NaN   NaN   NaN   NaN  \n",
       "2    NaN   NaN   NaN   NaN   NaN  \n",
       "3    NaN   NaN   NaN   NaN   NaN  \n",
       "4    NaN   NaN   NaN   NaN   NaN  \n",
       "5    NaN   NaN   NaN   NaN   NaN  \n",
       "6    NaN   NaN   NaN   NaN   NaN  \n",
       "7    NaN   NaN   NaN   NaN   NaN  \n",
       "8    NaN   NaN   NaN   NaN   NaN  \n",
       "9    NaN   NaN   NaN   NaN   NaN  \n",
       "10   NaN   NaN   NaN   NaN   NaN  \n",
       "11   NaN   NaN   NaN   NaN   NaN  \n",
       "12   NaN   NaN   NaN   NaN   NaN  \n",
       "13   NaN   NaN   NaN   NaN   NaN  \n",
       "14   NaN   NaN   NaN   NaN   NaN  \n",
       "15   NaN   NaN   NaN   NaN   NaN  \n",
       "16   NaN   NaN   NaN   NaN   NaN  \n",
       "17   NaN   NaN   NaN   NaN   NaN  \n",
       "18   NaN   NaN   NaN   NaN   NaN  \n",
       "19   NaN   NaN   NaN   NaN   NaN  \n",
       "20   NaN   NaN   NaN   NaN   NaN  "
      ]
     },
     "execution_count": 73,
     "metadata": {},
     "output_type": "execute_result"
    }
   ],
   "source": [
    "data"
   ]
  },
  {
   "cell_type": "code",
   "execution_count": 74,
   "metadata": {},
   "outputs": [],
   "source": [
    "data.columns = ['Instance','(known) class label','(Returned)Probability','>=0','>=0.1','>=0.2','>=0.3','>=0.4','>=0.5','>=0.6','>=0.7','>=0.8','>=0.9','>=1.0']"
   ]
  },
  {
   "cell_type": "code",
   "execution_count": 83,
   "metadata": {},
   "outputs": [],
   "source": [
    "data.iloc[:,3:] = 0.0\n",
    "data['(Returned)Probability'] = data['(Returned)Probability'].astype('float64')\n",
    "data2 = data.copy()"
   ]
  },
  {
   "cell_type": "code",
   "execution_count": 84,
   "metadata": {},
   "outputs": [],
   "source": [
    "data.head()\n",
    "\n",
    "\n",
    "\n",
    "data['>=0'] = data['(Returned)Probability'].apply(lambda x : 0 if x<0 else 1)\n",
    "data['>=0.1'] = data['(Returned)Probability'].apply(lambda x : 0 if x<0.1 else 1)\n",
    "data['>=0.2'] = data['(Returned)Probability'].apply(lambda x : 0 if x<0.2 else 1)\n",
    "data['>=0.3'] = data['(Returned)Probability'].apply(lambda x : 0 if x<0.3 else 1)\n",
    "data['>=0.4'] = data['(Returned)Probability'].apply(lambda x : 0 if x<0.4 else 1)\n",
    "data['>=0.5'] = data['(Returned)Probability'].apply(lambda x : 0 if x<0.5 else 1)\n",
    "data['>=0.6'] = data['(Returned)Probability'].apply(lambda x : 0 if x<0.6 else 1)\n",
    "data['>=0.7'] = data['(Returned)Probability'].apply(lambda x : 0 if x<0.7 else 1)\n",
    "data['>=0.8'] = data['(Returned)Probability'].apply(lambda x : 0 if x<0.8 else 1)\n",
    "data['>=0.9'] = data['(Returned)Probability'].apply(lambda x : 0 if x<0.9 else 1)\n",
    "data['>=1.0'] = data['(Returned)Probability'].apply(lambda x : 0 if x<1.0 else 1)"
   ]
  },
  {
   "cell_type": "code",
   "execution_count": 85,
   "metadata": {},
   "outputs": [],
   "source": [
    "del data2['>=0']\n",
    "del data2['>=0.1']\n",
    "del data2['>=0.2']\n",
    "del data2['>=0.3']\n",
    "del data2['>=0.4']\n",
    "del data2['>=0.5']\n",
    "del data2['>=0.6']\n",
    "del data2['>=0.7']\n",
    "del data2['>=0.8']\n",
    "del data2['>=0.9']\n",
    "del data2['>=1.0']"
   ]
  },
  {
   "cell_type": "code",
   "execution_count": 86,
   "metadata": {},
   "outputs": [
    {
     "data": {
      "text/html": [
       "<div>\n",
       "<style scoped>\n",
       "    .dataframe tbody tr th:only-of-type {\n",
       "        vertical-align: middle;\n",
       "    }\n",
       "\n",
       "    .dataframe tbody tr th {\n",
       "        vertical-align: top;\n",
       "    }\n",
       "\n",
       "    .dataframe thead th {\n",
       "        text-align: right;\n",
       "    }\n",
       "</style>\n",
       "<table border=\"1\" class=\"dataframe\">\n",
       "  <thead>\n",
       "    <tr style=\"text-align: right;\">\n",
       "      <th></th>\n",
       "      <th>Instance</th>\n",
       "      <th>(known) class label</th>\n",
       "      <th>(Returned)Probability</th>\n",
       "    </tr>\n",
       "  </thead>\n",
       "  <tbody>\n",
       "    <tr>\n",
       "      <th>1</th>\n",
       "      <td>1</td>\n",
       "      <td>1.0</td>\n",
       "      <td>0.99</td>\n",
       "    </tr>\n",
       "    <tr>\n",
       "      <th>2</th>\n",
       "      <td>2</td>\n",
       "      <td>1.0</td>\n",
       "      <td>0.88</td>\n",
       "    </tr>\n",
       "    <tr>\n",
       "      <th>3</th>\n",
       "      <td>3</td>\n",
       "      <td>0.0</td>\n",
       "      <td>0.77</td>\n",
       "    </tr>\n",
       "    <tr>\n",
       "      <th>4</th>\n",
       "      <td>4</td>\n",
       "      <td>0.0</td>\n",
       "      <td>0.44</td>\n",
       "    </tr>\n",
       "    <tr>\n",
       "      <th>5</th>\n",
       "      <td>5</td>\n",
       "      <td>1.0</td>\n",
       "      <td>0.66</td>\n",
       "    </tr>\n",
       "    <tr>\n",
       "      <th>6</th>\n",
       "      <td>6</td>\n",
       "      <td>1.0</td>\n",
       "      <td>0.55</td>\n",
       "    </tr>\n",
       "    <tr>\n",
       "      <th>7</th>\n",
       "      <td>7</td>\n",
       "      <td>0.0</td>\n",
       "      <td>0.58</td>\n",
       "    </tr>\n",
       "    <tr>\n",
       "      <th>8</th>\n",
       "      <td>8</td>\n",
       "      <td>0.0</td>\n",
       "      <td>0.11</td>\n",
       "    </tr>\n",
       "    <tr>\n",
       "      <th>9</th>\n",
       "      <td>9</td>\n",
       "      <td>1.0</td>\n",
       "      <td>0.44</td>\n",
       "    </tr>\n",
       "    <tr>\n",
       "      <th>10</th>\n",
       "      <td>10</td>\n",
       "      <td>1.0</td>\n",
       "      <td>0.79</td>\n",
       "    </tr>\n",
       "    <tr>\n",
       "      <th>11</th>\n",
       "      <td>11</td>\n",
       "      <td>0.0</td>\n",
       "      <td>0.33</td>\n",
       "    </tr>\n",
       "    <tr>\n",
       "      <th>12</th>\n",
       "      <td>12</td>\n",
       "      <td>0.0</td>\n",
       "      <td>0.22</td>\n",
       "    </tr>\n",
       "    <tr>\n",
       "      <th>13</th>\n",
       "      <td>13</td>\n",
       "      <td>1.0</td>\n",
       "      <td>0.75</td>\n",
       "    </tr>\n",
       "    <tr>\n",
       "      <th>14</th>\n",
       "      <td>14</td>\n",
       "      <td>1.0</td>\n",
       "      <td>0.65</td>\n",
       "    </tr>\n",
       "    <tr>\n",
       "      <th>15</th>\n",
       "      <td>15</td>\n",
       "      <td>0.0</td>\n",
       "      <td>0.51</td>\n",
       "    </tr>\n",
       "    <tr>\n",
       "      <th>16</th>\n",
       "      <td>16</td>\n",
       "      <td>0.0</td>\n",
       "      <td>0.15</td>\n",
       "    </tr>\n",
       "    <tr>\n",
       "      <th>17</th>\n",
       "      <td>17</td>\n",
       "      <td>1.0</td>\n",
       "      <td>0.63</td>\n",
       "    </tr>\n",
       "    <tr>\n",
       "      <th>18</th>\n",
       "      <td>18</td>\n",
       "      <td>1.0</td>\n",
       "      <td>0.36</td>\n",
       "    </tr>\n",
       "    <tr>\n",
       "      <th>19</th>\n",
       "      <td>19</td>\n",
       "      <td>0.0</td>\n",
       "      <td>0.18</td>\n",
       "    </tr>\n",
       "    <tr>\n",
       "      <th>20</th>\n",
       "      <td>20</td>\n",
       "      <td>0.0</td>\n",
       "      <td>0.42</td>\n",
       "    </tr>\n",
       "  </tbody>\n",
       "</table>\n",
       "</div>"
      ],
      "text/plain": [
       "   Instance  (known) class label  (Returned)Probability\n",
       "1         1                  1.0                   0.99\n",
       "2         2                  1.0                   0.88\n",
       "3         3                  0.0                   0.77\n",
       "4         4                  0.0                   0.44\n",
       "5         5                  1.0                   0.66\n",
       "6         6                  1.0                   0.55\n",
       "7         7                  0.0                   0.58\n",
       "8         8                  0.0                   0.11\n",
       "9         9                  1.0                   0.44\n",
       "10       10                  1.0                   0.79\n",
       "11       11                  0.0                   0.33\n",
       "12       12                  0.0                   0.22\n",
       "13       13                  1.0                   0.75\n",
       "14       14                  1.0                   0.65\n",
       "15       15                  0.0                   0.51\n",
       "16       16                  0.0                   0.15\n",
       "17       17                  1.0                   0.63\n",
       "18       18                  1.0                   0.36\n",
       "19       19                  0.0                   0.18\n",
       "20       20                  0.0                   0.42"
      ]
     },
     "execution_count": 86,
     "metadata": {},
     "output_type": "execute_result"
    }
   ],
   "source": [
    "data2"
   ]
  },
  {
   "cell_type": "code",
   "execution_count": 90,
   "metadata": {},
   "outputs": [],
   "source": [
    "thresholds = list(np.array(list(range(0, 11, 1)))/10)\n",
    "#thresholds = list(np.array(list(range(0, 101, 1)))/100)\n",
    "#thresholds = list(np.array(list(range(0, 1001, 1)))/1000)\n",
    "\n",
    "roc_point = []\n",
    "\n",
    "for threshold in thresholds:\n",
    "    pred_class = []\n",
    "    tp = 0; fp = 0; fn = 0; tn = 0\n",
    "\n",
    "    for index, instance in data2.iterrows():\n",
    "        actual = instance[\"(known) class label\"]\n",
    "        prediction = instance[\"(Returned)Probability\"]\n",
    "        \n",
    "        if prediction >= threshold:\n",
    "            prediction_class = 1\n",
    "            pred_class.append(prediction_class)\n",
    "        else:\n",
    "            prediction_class = 0\n",
    "            pred_class.append(prediction_class)\n",
    "\n",
    "        if prediction_class == 1 and actual == 1:\n",
    "            tp = tp + 1\n",
    "        elif actual == 1 and prediction_class == 0:\n",
    "            fn = fn + 1\n",
    "        elif actual == 0 and prediction_class == 1: \n",
    "            fp = fp + 1\n",
    "        elif actual == 0 and prediction_class == 0:\n",
    "            tn = tn + 1\n",
    "    t = threshold\n",
    "    data2['>='+str(t)] = pred_class\n",
    "    #print(tp, fp, fn, tn)\n",
    "\n",
    "    tpr = tp / (tp + fn)\n",
    "    fpr = fp / (tn + fp)\n",
    "\n",
    "    #print(tpr, fpr)\n",
    "    roc_point.append([tpr, fpr])"
   ]
  },
  {
   "cell_type": "code",
   "execution_count": 91,
   "metadata": {},
   "outputs": [
    {
     "data": {
      "text/html": [
       "<div>\n",
       "<style scoped>\n",
       "    .dataframe tbody tr th:only-of-type {\n",
       "        vertical-align: middle;\n",
       "    }\n",
       "\n",
       "    .dataframe tbody tr th {\n",
       "        vertical-align: top;\n",
       "    }\n",
       "\n",
       "    .dataframe thead th {\n",
       "        text-align: right;\n",
       "    }\n",
       "</style>\n",
       "<table border=\"1\" class=\"dataframe\">\n",
       "  <thead>\n",
       "    <tr style=\"text-align: right;\">\n",
       "      <th></th>\n",
       "      <th>Instance</th>\n",
       "      <th>(known) class label</th>\n",
       "      <th>(Returned)Probability</th>\n",
       "      <th>&gt;=0.0</th>\n",
       "      <th>&gt;=0.1</th>\n",
       "      <th>&gt;=0.2</th>\n",
       "      <th>&gt;=0.3</th>\n",
       "      <th>&gt;=0.4</th>\n",
       "      <th>&gt;=0.5</th>\n",
       "      <th>&gt;=0.6</th>\n",
       "      <th>&gt;=0.7</th>\n",
       "      <th>&gt;=0.8</th>\n",
       "      <th>&gt;=0.9</th>\n",
       "      <th>&gt;=1.0</th>\n",
       "    </tr>\n",
       "  </thead>\n",
       "  <tbody>\n",
       "    <tr>\n",
       "      <th>1</th>\n",
       "      <td>1</td>\n",
       "      <td>1.0</td>\n",
       "      <td>0.99</td>\n",
       "      <td>1</td>\n",
       "      <td>1</td>\n",
       "      <td>1</td>\n",
       "      <td>1</td>\n",
       "      <td>1</td>\n",
       "      <td>1</td>\n",
       "      <td>1</td>\n",
       "      <td>1</td>\n",
       "      <td>1</td>\n",
       "      <td>1</td>\n",
       "      <td>0</td>\n",
       "    </tr>\n",
       "    <tr>\n",
       "      <th>2</th>\n",
       "      <td>2</td>\n",
       "      <td>1.0</td>\n",
       "      <td>0.88</td>\n",
       "      <td>1</td>\n",
       "      <td>1</td>\n",
       "      <td>1</td>\n",
       "      <td>1</td>\n",
       "      <td>1</td>\n",
       "      <td>1</td>\n",
       "      <td>1</td>\n",
       "      <td>1</td>\n",
       "      <td>1</td>\n",
       "      <td>0</td>\n",
       "      <td>0</td>\n",
       "    </tr>\n",
       "    <tr>\n",
       "      <th>3</th>\n",
       "      <td>3</td>\n",
       "      <td>0.0</td>\n",
       "      <td>0.77</td>\n",
       "      <td>1</td>\n",
       "      <td>1</td>\n",
       "      <td>1</td>\n",
       "      <td>1</td>\n",
       "      <td>1</td>\n",
       "      <td>1</td>\n",
       "      <td>1</td>\n",
       "      <td>1</td>\n",
       "      <td>0</td>\n",
       "      <td>0</td>\n",
       "      <td>0</td>\n",
       "    </tr>\n",
       "    <tr>\n",
       "      <th>4</th>\n",
       "      <td>4</td>\n",
       "      <td>0.0</td>\n",
       "      <td>0.44</td>\n",
       "      <td>1</td>\n",
       "      <td>1</td>\n",
       "      <td>1</td>\n",
       "      <td>1</td>\n",
       "      <td>1</td>\n",
       "      <td>0</td>\n",
       "      <td>0</td>\n",
       "      <td>0</td>\n",
       "      <td>0</td>\n",
       "      <td>0</td>\n",
       "      <td>0</td>\n",
       "    </tr>\n",
       "    <tr>\n",
       "      <th>5</th>\n",
       "      <td>5</td>\n",
       "      <td>1.0</td>\n",
       "      <td>0.66</td>\n",
       "      <td>1</td>\n",
       "      <td>1</td>\n",
       "      <td>1</td>\n",
       "      <td>1</td>\n",
       "      <td>1</td>\n",
       "      <td>1</td>\n",
       "      <td>1</td>\n",
       "      <td>0</td>\n",
       "      <td>0</td>\n",
       "      <td>0</td>\n",
       "      <td>0</td>\n",
       "    </tr>\n",
       "  </tbody>\n",
       "</table>\n",
       "</div>"
      ],
      "text/plain": [
       "  Instance  (known) class label  (Returned)Probability  >=0.0  >=0.1  >=0.2  \\\n",
       "1        1                  1.0                   0.99      1      1      1   \n",
       "2        2                  1.0                   0.88      1      1      1   \n",
       "3        3                  0.0                   0.77      1      1      1   \n",
       "4        4                  0.0                   0.44      1      1      1   \n",
       "5        5                  1.0                   0.66      1      1      1   \n",
       "\n",
       "   >=0.3  >=0.4  >=0.5  >=0.6  >=0.7  >=0.8  >=0.9  >=1.0  \n",
       "1      1      1      1      1      1      1      1      0  \n",
       "2      1      1      1      1      1      1      0      0  \n",
       "3      1      1      1      1      1      0      0      0  \n",
       "4      1      1      0      0      0      0      0      0  \n",
       "5      1      1      1      1      0      0      0      0  "
      ]
     },
     "execution_count": 91,
     "metadata": {},
     "output_type": "execute_result"
    }
   ],
   "source": [
    "data2.head()"
   ]
  },
  {
   "cell_type": "code",
   "execution_count": null,
   "metadata": {},
   "outputs": [],
   "source": [
    "data"
   ]
  },
  {
   "cell_type": "code",
   "execution_count": null,
   "metadata": {},
   "outputs": [],
   "source": [
    "\n"
   ]
  },
  {
   "cell_type": "code",
   "execution_count": null,
   "metadata": {},
   "outputs": [],
   "source": [
    "#accuracy, precision, recall, F1-score, TPR, and FPR\n",
    "from sklearn.metrics import accuracy_score\n",
    "from sklearn.metrics import precision_score\n",
    "from sklearn.metrics import recall_score\n",
    "from sklearn.metrics import f1_score\n",
    "TPR = []\n",
    "FPR = []"
   ]
  },
  {
   "cell_type": "markdown",
   "metadata": {},
   "source": [
    "# >=0"
   ]
  },
  {
   "cell_type": "code",
   "execution_count": null,
   "metadata": {},
   "outputs": [],
   "source": [
    "metrics.confusion_matrix(data['(known) class label'], data['>=0'])"
   ]
  },
  {
   "cell_type": "code",
   "execution_count": null,
   "metadata": {},
   "outputs": [],
   "source": [
    "TN = 0\n",
    "FP = 10\n",
    "FN = 0\n",
    "TP = 10\n",
    "TPR.append(TP/(TP+FN))\n",
    "FPR.append(FP/(FP+TN))\n",
    "print('accuracy = ',accuracy_score(data['(known) class label'], data['>=0']))\n",
    "print('Precision = ',precision_score(data['(known) class label'], data['>=0']))\n",
    "print('Recall = ',recall_score(data['(known) class label'], data['>=0']))\n",
    "print('f1_score = ',f1_score(data['(known) class label'], data['>=0']))\n",
    "print('TPR = ',TP/(TP+FN))\n",
    "print('FPR = ',FP/(FP+TN))"
   ]
  },
  {
   "cell_type": "markdown",
   "metadata": {},
   "source": [
    "# >=0.1"
   ]
  },
  {
   "cell_type": "code",
   "execution_count": null,
   "metadata": {},
   "outputs": [],
   "source": [
    "metrics.confusion_matrix(data['(known) class label'], data['>=0.1'])"
   ]
  },
  {
   "cell_type": "code",
   "execution_count": null,
   "metadata": {},
   "outputs": [],
   "source": [
    "TN = 0\n",
    "FP = 10\n",
    "FN = 0\n",
    "TP = 10\n",
    "TPR.append(TP/(TP+FN))\n",
    "FPR.append(FP/(FP+TN))\n",
    "print('accuracy = ',accuracy_score(data['(known) class label'], data['>=0.1']))\n",
    "print('Precision = ',precision_score(data['(known) class label'], data['>=0.1']))\n",
    "print('Recall = ',recall_score(data['(known) class label'], data['>=0.1']))\n",
    "print('f1_score = ',f1_score(data['(known) class label'], data['>=0.1']))\n",
    "print('TPR = ',TP/(TP+FN))\n",
    "print('FPR = ',FP/(FP+TN))"
   ]
  },
  {
   "cell_type": "markdown",
   "metadata": {},
   "source": [
    "# >=0.2"
   ]
  },
  {
   "cell_type": "code",
   "execution_count": null,
   "metadata": {},
   "outputs": [],
   "source": [
    "metrics.confusion_matrix(data['(known) class label'], data['>=0.2'])"
   ]
  },
  {
   "cell_type": "code",
   "execution_count": null,
   "metadata": {},
   "outputs": [],
   "source": [
    "TN = 3\n",
    "FP = 7\n",
    "FN = 0\n",
    "TP = 10\n",
    "TPR.append(TP/(TP+FN))\n",
    "FPR.append(FP/(FP+TN))\n",
    "print('accuracy = ',accuracy_score(data['(known) class label'], data['>=0.2']))\n",
    "print('Precision = ',precision_score(data['(known) class label'], data['>=0.2']))\n",
    "print('Recall = ',recall_score(data['(known) class label'], data['>=0.2']))\n",
    "print('f1_score = ',f1_score(data['(known) class label'], data['>=0.2']))\n",
    "print('TPR = ',TP/(TP+FN))\n",
    "print('FPR = ',FP/(FP+TN))"
   ]
  },
  {
   "cell_type": "markdown",
   "metadata": {},
   "source": [
    "# >=0.3"
   ]
  },
  {
   "cell_type": "code",
   "execution_count": null,
   "metadata": {},
   "outputs": [],
   "source": [
    "metrics.confusion_matrix(data['(known) class label'], data['>=0.3'])"
   ]
  },
  {
   "cell_type": "code",
   "execution_count": null,
   "metadata": {},
   "outputs": [],
   "source": [
    "TN = 4\n",
    "FP = 6\n",
    "FN = 0\n",
    "TP = 10\n",
    "TPR.append(TP/(TP+FN))\n",
    "FPR.append(FP/(FP+TN))\n",
    "print('accuracy = ',accuracy_score(data['(known) class label'], data['>=0.3']))\n",
    "print('Precision = ',precision_score(data['(known) class label'], data['>=0.3']))\n",
    "print('Recall = ',recall_score(data['(known) class label'], data['>=0.3']))\n",
    "print('f1_score = ',f1_score(data['(known) class label'], data['>=0.3']))\n",
    "print('TPR = ',TP/(TP+FN))\n",
    "print('FPR = ',FP/(FP+TN))"
   ]
  },
  {
   "cell_type": "markdown",
   "metadata": {},
   "source": [
    "# >=0.4"
   ]
  },
  {
   "cell_type": "code",
   "execution_count": null,
   "metadata": {},
   "outputs": [],
   "source": [
    "metrics.confusion_matrix(data['(known) class label'], data['>=0.4'])"
   ]
  },
  {
   "cell_type": "code",
   "execution_count": null,
   "metadata": {},
   "outputs": [],
   "source": [
    "TN = 5\n",
    "FP = 5\n",
    "FN = 1\n",
    "TP = 9\n",
    "TPR.append(TP/(TP+FN))\n",
    "FPR.append(FP/(FP+TN))\n",
    "print('accuracy = ',accuracy_score(data['(known) class label'], data['>=0.4']))\n",
    "print('Precision = ',precision_score(data['(known) class label'], data['>=0.4']))\n",
    "print('Recall = ',recall_score(data['(known) class label'], data['>=0.4']))\n",
    "print('f1_score = ',f1_score(data['(known) class label'], data['>=0.4']))\n",
    "print('TPR = ',TP/(TP+FN))\n",
    "print('FPR = ',FP/(FP+TN))"
   ]
  },
  {
   "cell_type": "markdown",
   "metadata": {},
   "source": [
    "# >=0.5"
   ]
  },
  {
   "cell_type": "code",
   "execution_count": null,
   "metadata": {},
   "outputs": [],
   "source": [
    "metrics.confusion_matrix(data['(known) class label'], data['>=0.5'])"
   ]
  },
  {
   "cell_type": "code",
   "execution_count": null,
   "metadata": {},
   "outputs": [],
   "source": [
    "TN = 7\n",
    "FP = 3\n",
    "FN = 2\n",
    "TP = 8\n",
    "TPR.append(TP/(TP+FN))\n",
    "FPR.append(FP/(FP+TN))\n",
    "print('accuracy = ',accuracy_score(data['(known) class label'], data['>=0.5']))\n",
    "print('Precision = ',precision_score(data['(known) class label'], data['>=0.5']))\n",
    "print('Recall = ',recall_score(data['(known) class label'], data['>=0.5']))\n",
    "print('f1_score = ',f1_score(data['(known) class label'], data['>=0.5']))\n",
    "print('TPR = ',TP/(TP+FN))\n",
    "print('FPR = ',FP/(FP+TN))"
   ]
  },
  {
   "cell_type": "markdown",
   "metadata": {},
   "source": [
    "# >=0.6"
   ]
  },
  {
   "cell_type": "code",
   "execution_count": null,
   "metadata": {},
   "outputs": [],
   "source": [
    "metrics.confusion_matrix(data['(known) class label'], data['>=0.6'])"
   ]
  },
  {
   "cell_type": "code",
   "execution_count": null,
   "metadata": {},
   "outputs": [],
   "source": [
    "TN = 9\n",
    "FP = 1\n",
    "FN = 3\n",
    "TP = 7\n",
    "TPR.append(TP/(TP+FN))\n",
    "FPR.append(FP/(FP+TN))\n",
    "print('accuracy = ',accuracy_score(data['(known) class label'], data['>=0.6']))\n",
    "print('Precision = ',precision_score(data['(known) class label'], data['>=0.6']))\n",
    "print('Recall = ',recall_score(data['(known) class label'], data['>=0.6']))\n",
    "print('f1_score = ',f1_score(data['(known) class label'], data['>=0.6']))\n",
    "print('TPR = ',TP/(TP+FN))\n",
    "print('FPR = ',FP/(FP+TN))"
   ]
  },
  {
   "cell_type": "markdown",
   "metadata": {},
   "source": [
    "# >=0.7"
   ]
  },
  {
   "cell_type": "code",
   "execution_count": null,
   "metadata": {},
   "outputs": [],
   "source": [
    "metrics.confusion_matrix(data['(known) class label'], data['>=0.7'])"
   ]
  },
  {
   "cell_type": "code",
   "execution_count": null,
   "metadata": {},
   "outputs": [],
   "source": [
    "TN = 9\n",
    "FP = 1\n",
    "FN = 6\n",
    "TP = 4\n",
    "TPR.append(TP/(TP+FN))\n",
    "FPR.append(FP/(FP+TN))\n",
    "print('accuracy = ',accuracy_score(data['(known) class label'], data['>=0.7']))\n",
    "print('Precision = ',precision_score(data['(known) class label'], data['>=0.7']))\n",
    "print('Recall = ',recall_score(data['(known) class label'], data['>=0.7']))\n",
    "print('f1_score = ',f1_score(data['(known) class label'], data['>=0.7']))\n",
    "print('TPR = ',TP/(TP+FN))\n",
    "print('FPR = ',FP/(FP+TN))"
   ]
  },
  {
   "cell_type": "markdown",
   "metadata": {},
   "source": [
    "# >=0.8"
   ]
  },
  {
   "cell_type": "code",
   "execution_count": null,
   "metadata": {},
   "outputs": [],
   "source": [
    "metrics.confusion_matrix(data['(known) class label'], data['>=0.8'])"
   ]
  },
  {
   "cell_type": "code",
   "execution_count": null,
   "metadata": {},
   "outputs": [],
   "source": [
    "TN = 10\n",
    "FP = 0\n",
    "FN = 8\n",
    "TP = 2\n",
    "TPR.append(TP/(TP+FN))\n",
    "FPR.append(FP/(FP+TN))\n",
    "print('accuracy = ',accuracy_score(data['(known) class label'], data['>=0.8']))\n",
    "print('Precision = ',precision_score(data['(known) class label'], data['>=0.8']))\n",
    "print('Recall = ',recall_score(data['(known) class label'], data['>=0.8']))\n",
    "print('f1_score = ',f1_score(data['(known) class label'], data['>=0.8']))\n",
    "print('TPR = ',TP/(TP+FN))\n",
    "print('FPR = ',FP/(FP+TN))"
   ]
  },
  {
   "cell_type": "markdown",
   "metadata": {},
   "source": [
    "# >=0.9"
   ]
  },
  {
   "cell_type": "code",
   "execution_count": null,
   "metadata": {},
   "outputs": [],
   "source": [
    "metrics.confusion_matrix(data['(known) class label'], data['>=0.9'])"
   ]
  },
  {
   "cell_type": "code",
   "execution_count": null,
   "metadata": {},
   "outputs": [],
   "source": [
    "TN = 10\n",
    "FP = 0\n",
    "FN = 9\n",
    "TP = 1\n",
    "TPR.append(TP/(TP+FN))\n",
    "FPR.append(FP/(FP+TN))\n",
    "print('accuracy = ',accuracy_score(data['(known) class label'], data['>=0.9']))\n",
    "print('Precision = ',precision_score(data['(known) class label'], data['>=0.9']))\n",
    "print('Recall = ',recall_score(data['(known) class label'], data['>=0.9']))\n",
    "print('f1_score = ',f1_score(data['(known) class label'], data['>=0.9']))\n",
    "print('TPR = ',TP/(TP+FN))\n",
    "print('FPR = ',FP/(FP+TN))"
   ]
  },
  {
   "cell_type": "markdown",
   "metadata": {},
   "source": [
    "# >=1.0"
   ]
  },
  {
   "cell_type": "code",
   "execution_count": null,
   "metadata": {},
   "outputs": [],
   "source": [
    "metrics.confusion_matrix(data['(known) class label'], data['>=1.0'])"
   ]
  },
  {
   "cell_type": "code",
   "execution_count": null,
   "metadata": {},
   "outputs": [],
   "source": [
    "TN = 10\n",
    "FP = 0\n",
    "FN = 10\n",
    "TP = 0\n",
    "TPR.append(TP/(TP+FN))\n",
    "FPR.append(FP/(FP+TN))\n",
    "print('accuracy = ',accuracy_score(data['(known) class label'], data['>=1.0']))\n",
    "print('Precision = ',precision_score(data['(known) class label'], data['>=1.0']))\n",
    "print('Recall = ',recall_score(data['(known) class label'], data['>=1.0']))\n",
    "print('f1_score = ',f1_score(data['(known) class label'], data['>=1.0']))\n",
    "print('TPR = ',TP/(TP+FN))\n",
    "print('FPR = ',FP/(FP+TN))"
   ]
  },
  {
   "cell_type": "code",
   "execution_count": null,
   "metadata": {},
   "outputs": [],
   "source": [
    "print(TPR)\n",
    "print(FPR)"
   ]
  },
  {
   "cell_type": "markdown",
   "metadata": {},
   "source": [
    "# Q 5"
   ]
  },
  {
   "cell_type": "code",
   "execution_count": null,
   "metadata": {},
   "outputs": [],
   "source": [
    "plt.scatter(FPR,TPR, linestyle='-',color='orange', label='Model')\n",
    "plt.plot([0, 1], [0, 1], linestyle='--', label='Random')\n",
    "plt.xlabel('false positive rate')\n",
    "plt.ylabel('true positive rate')\n",
    "plt.legend()"
   ]
  },
  {
   "cell_type": "code",
   "execution_count": null,
   "metadata": {},
   "outputs": [],
   "source": [
    "import numpy as np\n",
    "auc = round(abs(np.trapz(TPR, FPR)), 4)"
   ]
  },
  {
   "cell_type": "code",
   "execution_count": null,
   "metadata": {},
   "outputs": [],
   "source": [
    "print('AUC= ',auc)"
   ]
  },
  {
   "cell_type": "code",
   "execution_count": null,
   "metadata": {},
   "outputs": [],
   "source": []
  }
 ],
 "metadata": {
  "kernelspec": {
   "display_name": "Python 3 (ipykernel)",
   "language": "python",
   "name": "python3"
  },
  "language_info": {
   "codemirror_mode": {
    "name": "ipython",
    "version": 3
   },
   "file_extension": ".py",
   "mimetype": "text/x-python",
   "name": "python",
   "nbconvert_exporter": "python",
   "pygments_lexer": "ipython3",
   "version": "3.9.13"
  }
 },
 "nbformat": 4,
 "nbformat_minor": 4
}
